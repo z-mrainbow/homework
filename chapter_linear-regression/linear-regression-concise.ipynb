{
  "cells": [
    {
      "cell_type": "markdown",
      "id": "0a46ac9e",
      "metadata": {
        "id": "0a46ac9e"
      },
      "source": [
        "The following additional libraries are needed to run this\n",
        "notebook. Note that running on Colab is experimental, please report a Github\n",
        "issue if you have any problem."
      ]
    },
    {
      "cell_type": "code",
      "execution_count": 1,
      "id": "51d36260",
      "metadata": {
        "id": "51d36260",
        "outputId": "b1bc6041-5e25-4a70-fb91-ce128b17975f",
        "colab": {
          "base_uri": "https://localhost:8080/"
        }
      },
      "outputs": [
        {
          "output_type": "stream",
          "name": "stdout",
          "text": [
            "Requirement already satisfied: d2l==1.0.3 in /usr/local/lib/python3.11/dist-packages (1.0.3)\n",
            "Requirement already satisfied: jupyter==1.0.0 in /usr/local/lib/python3.11/dist-packages (from d2l==1.0.3) (1.0.0)\n",
            "Requirement already satisfied: numpy==1.23.5 in /usr/local/lib/python3.11/dist-packages (from d2l==1.0.3) (1.23.5)\n",
            "Requirement already satisfied: matplotlib==3.7.2 in /usr/local/lib/python3.11/dist-packages (from d2l==1.0.3) (3.7.2)\n",
            "Requirement already satisfied: matplotlib-inline==0.1.6 in /usr/local/lib/python3.11/dist-packages (from d2l==1.0.3) (0.1.6)\n",
            "Requirement already satisfied: requests==2.31.0 in /usr/local/lib/python3.11/dist-packages (from d2l==1.0.3) (2.31.0)\n",
            "Requirement already satisfied: pandas==2.0.3 in /usr/local/lib/python3.11/dist-packages (from d2l==1.0.3) (2.0.3)\n",
            "Requirement already satisfied: scipy==1.10.1 in /usr/local/lib/python3.11/dist-packages (from d2l==1.0.3) (1.10.1)\n",
            "Requirement already satisfied: notebook in /usr/local/lib/python3.11/dist-packages (from jupyter==1.0.0->d2l==1.0.3) (6.5.7)\n",
            "Requirement already satisfied: qtconsole in /usr/local/lib/python3.11/dist-packages (from jupyter==1.0.0->d2l==1.0.3) (5.6.1)\n",
            "Requirement already satisfied: jupyter-console in /usr/local/lib/python3.11/dist-packages (from jupyter==1.0.0->d2l==1.0.3) (6.1.0)\n",
            "Requirement already satisfied: nbconvert in /usr/local/lib/python3.11/dist-packages (from jupyter==1.0.0->d2l==1.0.3) (7.16.6)\n",
            "Requirement already satisfied: ipykernel in /usr/local/lib/python3.11/dist-packages (from jupyter==1.0.0->d2l==1.0.3) (6.17.1)\n",
            "Requirement already satisfied: ipywidgets in /usr/local/lib/python3.11/dist-packages (from jupyter==1.0.0->d2l==1.0.3) (7.7.1)\n",
            "Requirement already satisfied: contourpy>=1.0.1 in /usr/local/lib/python3.11/dist-packages (from matplotlib==3.7.2->d2l==1.0.3) (1.3.2)\n",
            "Requirement already satisfied: cycler>=0.10 in /usr/local/lib/python3.11/dist-packages (from matplotlib==3.7.2->d2l==1.0.3) (0.12.1)\n",
            "Requirement already satisfied: fonttools>=4.22.0 in /usr/local/lib/python3.11/dist-packages (from matplotlib==3.7.2->d2l==1.0.3) (4.57.0)\n",
            "Requirement already satisfied: kiwisolver>=1.0.1 in /usr/local/lib/python3.11/dist-packages (from matplotlib==3.7.2->d2l==1.0.3) (1.4.8)\n",
            "Requirement already satisfied: packaging>=20.0 in /usr/local/lib/python3.11/dist-packages (from matplotlib==3.7.2->d2l==1.0.3) (24.2)\n",
            "Requirement already satisfied: pillow>=6.2.0 in /usr/local/lib/python3.11/dist-packages (from matplotlib==3.7.2->d2l==1.0.3) (11.2.1)\n",
            "Requirement already satisfied: pyparsing<3.1,>=2.3.1 in /usr/local/lib/python3.11/dist-packages (from matplotlib==3.7.2->d2l==1.0.3) (3.0.9)\n",
            "Requirement already satisfied: python-dateutil>=2.7 in /usr/local/lib/python3.11/dist-packages (from matplotlib==3.7.2->d2l==1.0.3) (2.9.0.post0)\n",
            "Requirement already satisfied: traitlets in /usr/local/lib/python3.11/dist-packages (from matplotlib-inline==0.1.6->d2l==1.0.3) (5.7.1)\n",
            "Requirement already satisfied: pytz>=2020.1 in /usr/local/lib/python3.11/dist-packages (from pandas==2.0.3->d2l==1.0.3) (2025.2)\n",
            "Requirement already satisfied: tzdata>=2022.1 in /usr/local/lib/python3.11/dist-packages (from pandas==2.0.3->d2l==1.0.3) (2025.2)\n",
            "Requirement already satisfied: charset-normalizer<4,>=2 in /usr/local/lib/python3.11/dist-packages (from requests==2.31.0->d2l==1.0.3) (3.4.1)\n",
            "Requirement already satisfied: idna<4,>=2.5 in /usr/local/lib/python3.11/dist-packages (from requests==2.31.0->d2l==1.0.3) (3.10)\n",
            "Requirement already satisfied: urllib3<3,>=1.21.1 in /usr/local/lib/python3.11/dist-packages (from requests==2.31.0->d2l==1.0.3) (2.4.0)\n",
            "Requirement already satisfied: certifi>=2017.4.17 in /usr/local/lib/python3.11/dist-packages (from requests==2.31.0->d2l==1.0.3) (2025.4.26)\n",
            "Requirement already satisfied: six>=1.5 in /usr/local/lib/python3.11/dist-packages (from python-dateutil>=2.7->matplotlib==3.7.2->d2l==1.0.3) (1.17.0)\n",
            "Requirement already satisfied: debugpy>=1.0 in /usr/local/lib/python3.11/dist-packages (from ipykernel->jupyter==1.0.0->d2l==1.0.3) (1.8.0)\n",
            "Requirement already satisfied: ipython>=7.23.1 in /usr/local/lib/python3.11/dist-packages (from ipykernel->jupyter==1.0.0->d2l==1.0.3) (7.34.0)\n",
            "Requirement already satisfied: jupyter-client>=6.1.12 in /usr/local/lib/python3.11/dist-packages (from ipykernel->jupyter==1.0.0->d2l==1.0.3) (6.1.12)\n",
            "Requirement already satisfied: nest-asyncio in /usr/local/lib/python3.11/dist-packages (from ipykernel->jupyter==1.0.0->d2l==1.0.3) (1.6.0)\n",
            "Requirement already satisfied: psutil in /usr/local/lib/python3.11/dist-packages (from ipykernel->jupyter==1.0.0->d2l==1.0.3) (5.9.5)\n",
            "Requirement already satisfied: pyzmq>=17 in /usr/local/lib/python3.11/dist-packages (from ipykernel->jupyter==1.0.0->d2l==1.0.3) (24.0.1)\n",
            "Requirement already satisfied: tornado>=6.1 in /usr/local/lib/python3.11/dist-packages (from ipykernel->jupyter==1.0.0->d2l==1.0.3) (6.4.2)\n",
            "Requirement already satisfied: ipython-genutils~=0.2.0 in /usr/local/lib/python3.11/dist-packages (from ipywidgets->jupyter==1.0.0->d2l==1.0.3) (0.2.0)\n",
            "Requirement already satisfied: widgetsnbextension~=3.6.0 in /usr/local/lib/python3.11/dist-packages (from ipywidgets->jupyter==1.0.0->d2l==1.0.3) (3.6.10)\n",
            "Requirement already satisfied: jupyterlab-widgets>=1.0.0 in /usr/local/lib/python3.11/dist-packages (from ipywidgets->jupyter==1.0.0->d2l==1.0.3) (3.0.14)\n",
            "Requirement already satisfied: prompt-toolkit!=3.0.0,!=3.0.1,<3.1.0,>=2.0.0 in /usr/local/lib/python3.11/dist-packages (from jupyter-console->jupyter==1.0.0->d2l==1.0.3) (3.0.51)\n",
            "Requirement already satisfied: pygments in /usr/local/lib/python3.11/dist-packages (from jupyter-console->jupyter==1.0.0->d2l==1.0.3) (2.19.1)\n",
            "Requirement already satisfied: beautifulsoup4 in /usr/local/lib/python3.11/dist-packages (from nbconvert->jupyter==1.0.0->d2l==1.0.3) (4.13.4)\n",
            "Requirement already satisfied: bleach!=5.0.0 in /usr/local/lib/python3.11/dist-packages (from bleach[css]!=5.0.0->nbconvert->jupyter==1.0.0->d2l==1.0.3) (6.2.0)\n",
            "Requirement already satisfied: defusedxml in /usr/local/lib/python3.11/dist-packages (from nbconvert->jupyter==1.0.0->d2l==1.0.3) (0.7.1)\n",
            "Requirement already satisfied: jinja2>=3.0 in /usr/local/lib/python3.11/dist-packages (from nbconvert->jupyter==1.0.0->d2l==1.0.3) (3.1.6)\n",
            "Requirement already satisfied: jupyter-core>=4.7 in /usr/local/lib/python3.11/dist-packages (from nbconvert->jupyter==1.0.0->d2l==1.0.3) (5.7.2)\n",
            "Requirement already satisfied: jupyterlab-pygments in /usr/local/lib/python3.11/dist-packages (from nbconvert->jupyter==1.0.0->d2l==1.0.3) (0.3.0)\n",
            "Requirement already satisfied: markupsafe>=2.0 in /usr/local/lib/python3.11/dist-packages (from nbconvert->jupyter==1.0.0->d2l==1.0.3) (3.0.2)\n",
            "Requirement already satisfied: mistune<4,>=2.0.3 in /usr/local/lib/python3.11/dist-packages (from nbconvert->jupyter==1.0.0->d2l==1.0.3) (3.1.3)\n",
            "Requirement already satisfied: nbclient>=0.5.0 in /usr/local/lib/python3.11/dist-packages (from nbconvert->jupyter==1.0.0->d2l==1.0.3) (0.10.2)\n",
            "Requirement already satisfied: nbformat>=5.7 in /usr/local/lib/python3.11/dist-packages (from nbconvert->jupyter==1.0.0->d2l==1.0.3) (5.10.4)\n",
            "Requirement already satisfied: pandocfilters>=1.4.1 in /usr/local/lib/python3.11/dist-packages (from nbconvert->jupyter==1.0.0->d2l==1.0.3) (1.5.1)\n",
            "Requirement already satisfied: argon2-cffi in /usr/local/lib/python3.11/dist-packages (from notebook->jupyter==1.0.0->d2l==1.0.3) (23.1.0)\n",
            "Requirement already satisfied: Send2Trash>=1.8.0 in /usr/local/lib/python3.11/dist-packages (from notebook->jupyter==1.0.0->d2l==1.0.3) (1.8.3)\n",
            "Requirement already satisfied: terminado>=0.8.3 in /usr/local/lib/python3.11/dist-packages (from notebook->jupyter==1.0.0->d2l==1.0.3) (0.18.1)\n",
            "Requirement already satisfied: prometheus-client in /usr/local/lib/python3.11/dist-packages (from notebook->jupyter==1.0.0->d2l==1.0.3) (0.21.1)\n",
            "Requirement already satisfied: nbclassic>=0.4.7 in /usr/local/lib/python3.11/dist-packages (from notebook->jupyter==1.0.0->d2l==1.0.3) (1.3.0)\n",
            "Requirement already satisfied: qtpy>=2.4.0 in /usr/local/lib/python3.11/dist-packages (from qtconsole->jupyter==1.0.0->d2l==1.0.3) (2.4.3)\n",
            "Requirement already satisfied: webencodings in /usr/local/lib/python3.11/dist-packages (from bleach!=5.0.0->bleach[css]!=5.0.0->nbconvert->jupyter==1.0.0->d2l==1.0.3) (0.5.1)\n",
            "Requirement already satisfied: tinycss2<1.5,>=1.1.0 in /usr/local/lib/python3.11/dist-packages (from bleach[css]!=5.0.0->nbconvert->jupyter==1.0.0->d2l==1.0.3) (1.4.0)\n",
            "Requirement already satisfied: setuptools>=18.5 in /usr/local/lib/python3.11/dist-packages (from ipython>=7.23.1->ipykernel->jupyter==1.0.0->d2l==1.0.3) (75.2.0)\n",
            "Requirement already satisfied: jedi>=0.16 in /usr/local/lib/python3.11/dist-packages (from ipython>=7.23.1->ipykernel->jupyter==1.0.0->d2l==1.0.3) (0.19.2)\n",
            "Requirement already satisfied: decorator in /usr/local/lib/python3.11/dist-packages (from ipython>=7.23.1->ipykernel->jupyter==1.0.0->d2l==1.0.3) (4.4.2)\n",
            "Requirement already satisfied: pickleshare in /usr/local/lib/python3.11/dist-packages (from ipython>=7.23.1->ipykernel->jupyter==1.0.0->d2l==1.0.3) (0.7.5)\n",
            "Requirement already satisfied: backcall in /usr/local/lib/python3.11/dist-packages (from ipython>=7.23.1->ipykernel->jupyter==1.0.0->d2l==1.0.3) (0.2.0)\n",
            "Requirement already satisfied: pexpect>4.3 in /usr/local/lib/python3.11/dist-packages (from ipython>=7.23.1->ipykernel->jupyter==1.0.0->d2l==1.0.3) (4.9.0)\n",
            "Requirement already satisfied: platformdirs>=2.5 in /usr/local/lib/python3.11/dist-packages (from jupyter-core>=4.7->nbconvert->jupyter==1.0.0->d2l==1.0.3) (4.3.7)\n",
            "Requirement already satisfied: notebook-shim>=0.2.3 in /usr/local/lib/python3.11/dist-packages (from nbclassic>=0.4.7->notebook->jupyter==1.0.0->d2l==1.0.3) (0.2.4)\n",
            "Requirement already satisfied: fastjsonschema>=2.15 in /usr/local/lib/python3.11/dist-packages (from nbformat>=5.7->nbconvert->jupyter==1.0.0->d2l==1.0.3) (2.21.1)\n",
            "Requirement already satisfied: jsonschema>=2.6 in /usr/local/lib/python3.11/dist-packages (from nbformat>=5.7->nbconvert->jupyter==1.0.0->d2l==1.0.3) (4.23.0)\n",
            "Requirement already satisfied: wcwidth in /usr/local/lib/python3.11/dist-packages (from prompt-toolkit!=3.0.0,!=3.0.1,<3.1.0,>=2.0.0->jupyter-console->jupyter==1.0.0->d2l==1.0.3) (0.2.13)\n",
            "Requirement already satisfied: ptyprocess in /usr/local/lib/python3.11/dist-packages (from terminado>=0.8.3->notebook->jupyter==1.0.0->d2l==1.0.3) (0.7.0)\n",
            "Requirement already satisfied: argon2-cffi-bindings in /usr/local/lib/python3.11/dist-packages (from argon2-cffi->notebook->jupyter==1.0.0->d2l==1.0.3) (21.2.0)\n",
            "Requirement already satisfied: soupsieve>1.2 in /usr/local/lib/python3.11/dist-packages (from beautifulsoup4->nbconvert->jupyter==1.0.0->d2l==1.0.3) (2.7)\n",
            "Requirement already satisfied: typing-extensions>=4.0.0 in /usr/local/lib/python3.11/dist-packages (from beautifulsoup4->nbconvert->jupyter==1.0.0->d2l==1.0.3) (4.13.2)\n",
            "Requirement already satisfied: parso<0.9.0,>=0.8.4 in /usr/local/lib/python3.11/dist-packages (from jedi>=0.16->ipython>=7.23.1->ipykernel->jupyter==1.0.0->d2l==1.0.3) (0.8.4)\n",
            "Requirement already satisfied: attrs>=22.2.0 in /usr/local/lib/python3.11/dist-packages (from jsonschema>=2.6->nbformat>=5.7->nbconvert->jupyter==1.0.0->d2l==1.0.3) (25.3.0)\n",
            "Requirement already satisfied: jsonschema-specifications>=2023.03.6 in /usr/local/lib/python3.11/dist-packages (from jsonschema>=2.6->nbformat>=5.7->nbconvert->jupyter==1.0.0->d2l==1.0.3) (2025.4.1)\n",
            "Requirement already satisfied: referencing>=0.28.4 in /usr/local/lib/python3.11/dist-packages (from jsonschema>=2.6->nbformat>=5.7->nbconvert->jupyter==1.0.0->d2l==1.0.3) (0.36.2)\n",
            "Requirement already satisfied: rpds-py>=0.7.1 in /usr/local/lib/python3.11/dist-packages (from jsonschema>=2.6->nbformat>=5.7->nbconvert->jupyter==1.0.0->d2l==1.0.3) (0.24.0)\n",
            "Requirement already satisfied: jupyter-server<3,>=1.8 in /usr/local/lib/python3.11/dist-packages (from notebook-shim>=0.2.3->nbclassic>=0.4.7->notebook->jupyter==1.0.0->d2l==1.0.3) (1.16.0)\n",
            "Requirement already satisfied: cffi>=1.0.1 in /usr/local/lib/python3.11/dist-packages (from argon2-cffi-bindings->argon2-cffi->notebook->jupyter==1.0.0->d2l==1.0.3) (1.17.1)\n",
            "Requirement already satisfied: pycparser in /usr/local/lib/python3.11/dist-packages (from cffi>=1.0.1->argon2-cffi-bindings->argon2-cffi->notebook->jupyter==1.0.0->d2l==1.0.3) (2.22)\n",
            "Requirement already satisfied: anyio>=3.1.0 in /usr/local/lib/python3.11/dist-packages (from jupyter-server<3,>=1.8->notebook-shim>=0.2.3->nbclassic>=0.4.7->notebook->jupyter==1.0.0->d2l==1.0.3) (4.9.0)\n",
            "Requirement already satisfied: websocket-client in /usr/local/lib/python3.11/dist-packages (from jupyter-server<3,>=1.8->notebook-shim>=0.2.3->nbclassic>=0.4.7->notebook->jupyter==1.0.0->d2l==1.0.3) (1.8.0)\n",
            "Requirement already satisfied: sniffio>=1.1 in /usr/local/lib/python3.11/dist-packages (from anyio>=3.1.0->jupyter-server<3,>=1.8->notebook-shim>=0.2.3->nbclassic>=0.4.7->notebook->jupyter==1.0.0->d2l==1.0.3) (1.3.1)\n"
          ]
        }
      ],
      "source": [
        "!pip install d2l==1.0.3\n"
      ]
    },
    {
      "cell_type": "markdown",
      "id": "d6fb47f3",
      "metadata": {
        "origin_pos": 1,
        "id": "d6fb47f3"
      },
      "source": [
        "# Concise Implementation of Linear Regression\n",
        ":label:`sec_linear_concise`\n",
        "\n",
        "Deep learning has witnessed a sort of Cambrian explosion\n",
        "over the past decade.\n",
        "The sheer number of techniques, applications and algorithms by far surpasses the\n",
        "progress of previous decades.\n",
        "This is due to a fortuitous combination of multiple factors,\n",
        "one of which is the powerful free tools\n",
        "offered by a number of open-source deep learning frameworks.\n",
        "Theano :cite:`Bergstra.Breuleux.Bastien.ea.2010`,\n",
        "DistBelief :cite:`Dean.Corrado.Monga.ea.2012`,\n",
        "and Caffe :cite:`Jia.Shelhamer.Donahue.ea.2014`\n",
        "arguably represent the\n",
        "first generation of such models\n",
        "that found widespread adoption.\n",
        "In contrast to earlier (seminal) works like\n",
        "SN2 (Simulateur Neuristique) :cite:`Bottou.Le-Cun.1988`,\n",
        "which provided a Lisp-like programming experience,\n",
        "modern frameworks offer automatic differentiation\n",
        "and the convenience of Python.\n",
        "These frameworks allow us to automate and modularize\n",
        "the repetitive work of implementing gradient-based learning algorithms.\n",
        "\n",
        "In :numref:`sec_linear_scratch`, we relied only on\n",
        "(i) tensors for data storage and linear algebra;\n",
        "and (ii) automatic differentiation for calculating gradients.\n",
        "In practice, because data iterators, loss functions, optimizers,\n",
        "and neural network layers\n",
        "are so common, modern libraries implement these components for us as well.\n",
        "In this section, (**we will show you how to implement\n",
        "the linear regression model**) from :numref:`sec_linear_scratch`\n",
        "(**concisely by using high-level APIs**) of deep learning frameworks.\n"
      ]
    },
    {
      "cell_type": "code",
      "execution_count": 2,
      "id": "af5e3ef6",
      "metadata": {
        "execution": {
          "iopub.execute_input": "2023-08-18T19:26:10.338416Z",
          "iopub.status.busy": "2023-08-18T19:26:10.337902Z",
          "iopub.status.idle": "2023-08-18T19:26:13.242568Z",
          "shell.execute_reply": "2023-08-18T19:26:13.241256Z"
        },
        "origin_pos": 3,
        "tab": [
          "pytorch"
        ],
        "id": "af5e3ef6"
      },
      "outputs": [],
      "source": [
        "import numpy as np\n",
        "import torch\n",
        "from torch import nn\n",
        "from d2l import torch as d2l"
      ]
    },
    {
      "cell_type": "markdown",
      "id": "cf76423a",
      "metadata": {
        "origin_pos": 6,
        "id": "cf76423a"
      },
      "source": [
        "## Defining the Model\n",
        "\n",
        "When we implemented linear regression from scratch\n",
        "in :numref:`sec_linear_scratch`,\n",
        "we defined our model parameters explicitly\n",
        "and coded up the calculations to produce output\n",
        "using basic linear algebra operations.\n",
        "You *should* know how to do this.\n",
        "But once your models get more complex,\n",
        "and once you have to do this nearly every day,\n",
        "you will be glad of the assistance.\n",
        "The situation is similar to coding up your own blog from scratch.\n",
        "Doing it once or twice is rewarding and instructive,\n",
        "but you would be a lousy web developer\n",
        "if you spent a month reinventing the wheel.\n",
        "\n",
        "For standard operations,\n",
        "we can [**use a framework's predefined layers,**]\n",
        "which allow us to focus\n",
        "on the layers used to construct the model\n",
        "rather than worrying about their implementation.\n",
        "Recall the architecture of a single-layer network\n",
        "as described in :numref:`fig_single_neuron`.\n",
        "The layer is called *fully connected*,\n",
        "since each of its inputs is connected\n",
        "to each of its outputs\n",
        "by means of a matrix--vector multiplication.\n"
      ]
    },
    {
      "cell_type": "markdown",
      "id": "39abf439",
      "metadata": {
        "origin_pos": 8,
        "tab": [
          "pytorch"
        ],
        "id": "39abf439"
      },
      "source": [
        "In PyTorch, the fully connected layer is defined in `Linear` and `LazyLinear` classes (available since version 1.8.0).\n",
        "The latter\n",
        "allows users to specify *merely*\n",
        "the output dimension,\n",
        "while the former\n",
        "additionally asks for\n",
        "how many inputs go into this layer.\n",
        "Specifying input shapes is inconvenient and may require nontrivial calculations\n",
        "(such as in convolutional layers).\n",
        "Thus, for simplicity, we will use such \"lazy\" layers\n",
        "whenever we can.\n"
      ]
    },
    {
      "cell_type": "code",
      "execution_count": 3,
      "id": "5a75de1f",
      "metadata": {
        "execution": {
          "iopub.execute_input": "2023-08-18T19:26:13.246965Z",
          "iopub.status.busy": "2023-08-18T19:26:13.246279Z",
          "iopub.status.idle": "2023-08-18T19:26:13.251883Z",
          "shell.execute_reply": "2023-08-18T19:26:13.251011Z"
        },
        "origin_pos": 10,
        "tab": [
          "pytorch"
        ],
        "id": "5a75de1f"
      },
      "outputs": [],
      "source": [
        "class LinearRegression(d2l.Module):\n",
        "    \"\"\"The linear regression model implemented with high-level APIs.\"\"\"\n",
        "    def __init__(self, lr):\n",
        "        super().__init__()\n",
        "        self.save_hyperparameters()\n",
        "        self.net = nn.LazyLinear(1)\n",
        "        self.net.weight.data.normal_(0, 0.01)\n",
        "        self.net.bias.data.fill_(0)"
      ]
    },
    {
      "cell_type": "markdown",
      "id": "33660a46",
      "metadata": {
        "origin_pos": 12,
        "id": "33660a46"
      },
      "source": [
        "In the `forward` method we just invoke the built-in `__call__` method of the predefined layers to compute the outputs.\n"
      ]
    },
    {
      "cell_type": "code",
      "execution_count": 4,
      "id": "ea3983b1",
      "metadata": {
        "execution": {
          "iopub.execute_input": "2023-08-18T19:26:13.255283Z",
          "iopub.status.busy": "2023-08-18T19:26:13.254649Z",
          "iopub.status.idle": "2023-08-18T19:26:13.258693Z",
          "shell.execute_reply": "2023-08-18T19:26:13.257894Z"
        },
        "origin_pos": 13,
        "tab": [
          "pytorch"
        ],
        "id": "ea3983b1"
      },
      "outputs": [],
      "source": [
        "@d2l.add_to_class(LinearRegression)\n",
        "def forward(self, X):\n",
        "    return self.net(X)"
      ]
    },
    {
      "cell_type": "markdown",
      "id": "66748a30",
      "metadata": {
        "origin_pos": 15,
        "id": "66748a30"
      },
      "source": [
        "## Defining the Loss Function\n"
      ]
    },
    {
      "cell_type": "markdown",
      "id": "1cdf7456",
      "metadata": {
        "origin_pos": 17,
        "tab": [
          "pytorch"
        ],
        "id": "1cdf7456"
      },
      "source": [
        "[**The `MSELoss` class computes the mean squared error (without the $1/2$ factor in :eqref:`eq_mse`).**]\n",
        "By default, `MSELoss` returns the average loss over examples.\n",
        "It is faster (and easier to use) than implementing our own.\n"
      ]
    },
    {
      "cell_type": "code",
      "execution_count": 5,
      "id": "08279ee2",
      "metadata": {
        "execution": {
          "iopub.execute_input": "2023-08-18T19:26:13.262204Z",
          "iopub.status.busy": "2023-08-18T19:26:13.261534Z",
          "iopub.status.idle": "2023-08-18T19:26:13.265876Z",
          "shell.execute_reply": "2023-08-18T19:26:13.265042Z"
        },
        "origin_pos": 19,
        "tab": [
          "pytorch"
        ],
        "id": "08279ee2"
      },
      "outputs": [],
      "source": [
        "@d2l.add_to_class(LinearRegression)\n",
        "def loss(self, y_hat, y):\n",
        "    fn = nn.MSELoss()\n",
        "    return fn(y_hat, y)"
      ]
    },
    {
      "cell_type": "markdown",
      "id": "9e523527",
      "metadata": {
        "origin_pos": 21,
        "id": "9e523527"
      },
      "source": [
        "## Defining the Optimization Algorithm\n"
      ]
    },
    {
      "cell_type": "markdown",
      "id": "9ea96bb2",
      "metadata": {
        "origin_pos": 23,
        "tab": [
          "pytorch"
        ],
        "id": "9ea96bb2"
      },
      "source": [
        "Minibatch SGD is a standard tool\n",
        "for optimizing neural networks\n",
        "and thus PyTorch supports it alongside a number of\n",
        "variations on this algorithm in the `optim` module.\n",
        "When we (**instantiate an `SGD` instance,**)\n",
        "we specify the parameters to optimize over,\n",
        "obtainable from our model via `self.parameters()`,\n",
        "and the learning rate (`self.lr`)\n",
        "required by our optimization algorithm.\n"
      ]
    },
    {
      "cell_type": "code",
      "execution_count": 6,
      "id": "a6f8dcb8",
      "metadata": {
        "execution": {
          "iopub.execute_input": "2023-08-18T19:26:13.269377Z",
          "iopub.status.busy": "2023-08-18T19:26:13.268734Z",
          "iopub.status.idle": "2023-08-18T19:26:13.272985Z",
          "shell.execute_reply": "2023-08-18T19:26:13.272152Z"
        },
        "origin_pos": 25,
        "tab": [
          "pytorch"
        ],
        "id": "a6f8dcb8"
      },
      "outputs": [],
      "source": [
        "@d2l.add_to_class(LinearRegression)\n",
        "def configure_optimizers(self):\n",
        "    return torch.optim.SGD(self.parameters(), self.lr)"
      ]
    },
    {
      "cell_type": "markdown",
      "id": "cf9ff29e",
      "metadata": {
        "origin_pos": 26,
        "id": "cf9ff29e"
      },
      "source": [
        "## Training\n",
        "\n",
        "You might have noticed that expressing our model through\n",
        "high-level APIs of a deep learning framework\n",
        "requires fewer lines of code.\n",
        "We did not have to allocate parameters individually,\n",
        "define our loss function, or implement minibatch SGD.\n",
        "Once we start working with much more complex models,\n",
        "the advantages of the high-level API will grow considerably.\n",
        "\n",
        "Now that we have all the basic pieces in place,\n",
        "[**the training loop itself is the same\n",
        "as the one we implemented from scratch.**]\n",
        "So we just call the `fit` method (introduced in :numref:`oo-design-training`),\n",
        "which relies on the implementation of the `fit_epoch` method\n",
        "in :numref:`sec_linear_scratch`,\n",
        "to train our model.\n"
      ]
    },
    {
      "cell_type": "code",
      "execution_count": 7,
      "id": "084d36cb",
      "metadata": {
        "execution": {
          "iopub.execute_input": "2023-08-18T19:26:13.276169Z",
          "iopub.status.busy": "2023-08-18T19:26:13.275889Z",
          "iopub.status.idle": "2023-08-18T19:26:15.234839Z",
          "shell.execute_reply": "2023-08-18T19:26:15.233918Z"
        },
        "origin_pos": 27,
        "tab": [
          "pytorch"
        ],
        "id": "084d36cb",
        "outputId": "c0203f71-9fa1-464f-fb12-c28b3b62bb3d",
        "colab": {
          "base_uri": "https://localhost:8080/",
          "height": 265
        }
      },
      "outputs": [
        {
          "output_type": "display_data",
          "data": {
            "text/plain": [
              "<Figure size 350x250 with 1 Axes>"
            ],
            "image/svg+xml": "<?xml version=\"1.0\" encoding=\"utf-8\" standalone=\"no\"?>\n<!DOCTYPE svg PUBLIC \"-//W3C//DTD SVG 1.1//EN\"\n  \"http://www.w3.org/Graphics/SVG/1.1/DTD/svg11.dtd\">\n<svg xmlns:xlink=\"http://www.w3.org/1999/xlink\" width=\"237.376562pt\" height=\"183.35625pt\" viewBox=\"0 0 237.376562 183.35625\" xmlns=\"http://www.w3.org/2000/svg\" version=\"1.1\">\n <metadata>\n  <rdf:RDF xmlns:dc=\"http://purl.org/dc/elements/1.1/\" xmlns:cc=\"http://creativecommons.org/ns#\" xmlns:rdf=\"http://www.w3.org/1999/02/22-rdf-syntax-ns#\">\n   <cc:Work>\n    <dc:type rdf:resource=\"http://purl.org/dc/dcmitype/StillImage\"/>\n    <dc:date>2025-05-12T06:44:33.457916</dc:date>\n    <dc:format>image/svg+xml</dc:format>\n    <dc:creator>\n     <cc:Agent>\n      <dc:title>Matplotlib v3.7.2, https://matplotlib.org/</dc:title>\n     </cc:Agent>\n    </dc:creator>\n   </cc:Work>\n  </rdf:RDF>\n </metadata>\n <defs>\n  <style type=\"text/css\">*{stroke-linejoin: round; stroke-linecap: butt}</style>\n </defs>\n <g id=\"figure_1\">\n  <g id=\"patch_1\">\n   <path d=\"M 0 183.35625 \nL 237.376562 183.35625 \nL 237.376562 0 \nL 0 0 \nz\n\" style=\"fill: #ffffff\"/>\n  </g>\n  <g id=\"axes_1\">\n   <g id=\"patch_2\">\n    <path d=\"M 26.925 145.8 \nL 222.225 145.8 \nL 222.225 7.2 \nL 26.925 7.2 \nz\n\" style=\"fill: #ffffff\"/>\n   </g>\n   <g id=\"matplotlib.axis_1\">\n    <g id=\"xtick_1\">\n     <g id=\"line2d_1\">\n      <defs>\n       <path id=\"mf23a9cd6dc\" d=\"M 0 0 \nL 0 3.5 \n\" style=\"stroke: #000000; stroke-width: 0.8\"/>\n      </defs>\n      <g>\n       <use xlink:href=\"#mf23a9cd6dc\" x=\"26.925\" y=\"145.8\" style=\"stroke: #000000; stroke-width: 0.8\"/>\n      </g>\n     </g>\n     <g id=\"text_1\">\n      <!-- 0.0 -->\n      <g transform=\"translate(18.973438 160.398438) scale(0.1 -0.1)\">\n       <defs>\n        <path id=\"DejaVuSans-30\" d=\"M 2034 4250 \nQ 1547 4250 1301 3770 \nQ 1056 3291 1056 2328 \nQ 1056 1369 1301 889 \nQ 1547 409 2034 409 \nQ 2525 409 2770 889 \nQ 3016 1369 3016 2328 \nQ 3016 3291 2770 3770 \nQ 2525 4250 2034 4250 \nz\nM 2034 4750 \nQ 2819 4750 3233 4129 \nQ 3647 3509 3647 2328 \nQ 3647 1150 3233 529 \nQ 2819 -91 2034 -91 \nQ 1250 -91 836 529 \nQ 422 1150 422 2328 \nQ 422 3509 836 4129 \nQ 1250 4750 2034 4750 \nz\n\" transform=\"scale(0.015625)\"/>\n        <path id=\"DejaVuSans-2e\" d=\"M 684 794 \nL 1344 794 \nL 1344 0 \nL 684 0 \nL 684 794 \nz\n\" transform=\"scale(0.015625)\"/>\n       </defs>\n       <use xlink:href=\"#DejaVuSans-30\"/>\n       <use xlink:href=\"#DejaVuSans-2e\" x=\"63.623047\"/>\n       <use xlink:href=\"#DejaVuSans-30\" x=\"95.410156\"/>\n      </g>\n     </g>\n    </g>\n    <g id=\"xtick_2\">\n     <g id=\"line2d_2\">\n      <g>\n       <use xlink:href=\"#mf23a9cd6dc\" x=\"59.475\" y=\"145.8\" style=\"stroke: #000000; stroke-width: 0.8\"/>\n      </g>\n     </g>\n     <g id=\"text_2\">\n      <!-- 0.5 -->\n      <g transform=\"translate(51.523438 160.398438) scale(0.1 -0.1)\">\n       <defs>\n        <path id=\"DejaVuSans-35\" d=\"M 691 4666 \nL 3169 4666 \nL 3169 4134 \nL 1269 4134 \nL 1269 2991 \nQ 1406 3038 1543 3061 \nQ 1681 3084 1819 3084 \nQ 2600 3084 3056 2656 \nQ 3513 2228 3513 1497 \nQ 3513 744 3044 326 \nQ 2575 -91 1722 -91 \nQ 1428 -91 1123 -41 \nQ 819 9 494 109 \nL 494 744 \nQ 775 591 1075 516 \nQ 1375 441 1709 441 \nQ 2250 441 2565 725 \nQ 2881 1009 2881 1497 \nQ 2881 1984 2565 2268 \nQ 2250 2553 1709 2553 \nQ 1456 2553 1204 2497 \nQ 953 2441 691 2322 \nL 691 4666 \nz\n\" transform=\"scale(0.015625)\"/>\n       </defs>\n       <use xlink:href=\"#DejaVuSans-30\"/>\n       <use xlink:href=\"#DejaVuSans-2e\" x=\"63.623047\"/>\n       <use xlink:href=\"#DejaVuSans-35\" x=\"95.410156\"/>\n      </g>\n     </g>\n    </g>\n    <g id=\"xtick_3\">\n     <g id=\"line2d_3\">\n      <g>\n       <use xlink:href=\"#mf23a9cd6dc\" x=\"92.025\" y=\"145.8\" style=\"stroke: #000000; stroke-width: 0.8\"/>\n      </g>\n     </g>\n     <g id=\"text_3\">\n      <!-- 1.0 -->\n      <g transform=\"translate(84.073438 160.398438) scale(0.1 -0.1)\">\n       <defs>\n        <path id=\"DejaVuSans-31\" d=\"M 794 531 \nL 1825 531 \nL 1825 4091 \nL 703 3866 \nL 703 4441 \nL 1819 4666 \nL 2450 4666 \nL 2450 531 \nL 3481 531 \nL 3481 0 \nL 794 0 \nL 794 531 \nz\n\" transform=\"scale(0.015625)\"/>\n       </defs>\n       <use xlink:href=\"#DejaVuSans-31\"/>\n       <use xlink:href=\"#DejaVuSans-2e\" x=\"63.623047\"/>\n       <use xlink:href=\"#DejaVuSans-30\" x=\"95.410156\"/>\n      </g>\n     </g>\n    </g>\n    <g id=\"xtick_4\">\n     <g id=\"line2d_4\">\n      <g>\n       <use xlink:href=\"#mf23a9cd6dc\" x=\"124.575\" y=\"145.8\" style=\"stroke: #000000; stroke-width: 0.8\"/>\n      </g>\n     </g>\n     <g id=\"text_4\">\n      <!-- 1.5 -->\n      <g transform=\"translate(116.623437 160.398438) scale(0.1 -0.1)\">\n       <use xlink:href=\"#DejaVuSans-31\"/>\n       <use xlink:href=\"#DejaVuSans-2e\" x=\"63.623047\"/>\n       <use xlink:href=\"#DejaVuSans-35\" x=\"95.410156\"/>\n      </g>\n     </g>\n    </g>\n    <g id=\"xtick_5\">\n     <g id=\"line2d_5\">\n      <g>\n       <use xlink:href=\"#mf23a9cd6dc\" x=\"157.125\" y=\"145.8\" style=\"stroke: #000000; stroke-width: 0.8\"/>\n      </g>\n     </g>\n     <g id=\"text_5\">\n      <!-- 2.0 -->\n      <g transform=\"translate(149.173438 160.398438) scale(0.1 -0.1)\">\n       <defs>\n        <path id=\"DejaVuSans-32\" d=\"M 1228 531 \nL 3431 531 \nL 3431 0 \nL 469 0 \nL 469 531 \nQ 828 903 1448 1529 \nQ 2069 2156 2228 2338 \nQ 2531 2678 2651 2914 \nQ 2772 3150 2772 3378 \nQ 2772 3750 2511 3984 \nQ 2250 4219 1831 4219 \nQ 1534 4219 1204 4116 \nQ 875 4013 500 3803 \nL 500 4441 \nQ 881 4594 1212 4672 \nQ 1544 4750 1819 4750 \nQ 2544 4750 2975 4387 \nQ 3406 4025 3406 3419 \nQ 3406 3131 3298 2873 \nQ 3191 2616 2906 2266 \nQ 2828 2175 2409 1742 \nQ 1991 1309 1228 531 \nz\n\" transform=\"scale(0.015625)\"/>\n       </defs>\n       <use xlink:href=\"#DejaVuSans-32\"/>\n       <use xlink:href=\"#DejaVuSans-2e\" x=\"63.623047\"/>\n       <use xlink:href=\"#DejaVuSans-30\" x=\"95.410156\"/>\n      </g>\n     </g>\n    </g>\n    <g id=\"xtick_6\">\n     <g id=\"line2d_6\">\n      <g>\n       <use xlink:href=\"#mf23a9cd6dc\" x=\"189.675\" y=\"145.8\" style=\"stroke: #000000; stroke-width: 0.8\"/>\n      </g>\n     </g>\n     <g id=\"text_6\">\n      <!-- 2.5 -->\n      <g transform=\"translate(181.723438 160.398438) scale(0.1 -0.1)\">\n       <use xlink:href=\"#DejaVuSans-32\"/>\n       <use xlink:href=\"#DejaVuSans-2e\" x=\"63.623047\"/>\n       <use xlink:href=\"#DejaVuSans-35\" x=\"95.410156\"/>\n      </g>\n     </g>\n    </g>\n    <g id=\"xtick_7\">\n     <g id=\"line2d_7\">\n      <g>\n       <use xlink:href=\"#mf23a9cd6dc\" x=\"222.225\" y=\"145.8\" style=\"stroke: #000000; stroke-width: 0.8\"/>\n      </g>\n     </g>\n     <g id=\"text_7\">\n      <!-- 3.0 -->\n      <g transform=\"translate(214.273438 160.398438) scale(0.1 -0.1)\">\n       <defs>\n        <path id=\"DejaVuSans-33\" d=\"M 2597 2516 \nQ 3050 2419 3304 2112 \nQ 3559 1806 3559 1356 \nQ 3559 666 3084 287 \nQ 2609 -91 1734 -91 \nQ 1441 -91 1130 -33 \nQ 819 25 488 141 \nL 488 750 \nQ 750 597 1062 519 \nQ 1375 441 1716 441 \nQ 2309 441 2620 675 \nQ 2931 909 2931 1356 \nQ 2931 1769 2642 2001 \nQ 2353 2234 1838 2234 \nL 1294 2234 \nL 1294 2753 \nL 1863 2753 \nQ 2328 2753 2575 2939 \nQ 2822 3125 2822 3475 \nQ 2822 3834 2567 4026 \nQ 2313 4219 1838 4219 \nQ 1578 4219 1281 4162 \nQ 984 4106 628 3988 \nL 628 4550 \nQ 988 4650 1302 4700 \nQ 1616 4750 1894 4750 \nQ 2613 4750 3031 4423 \nQ 3450 4097 3450 3541 \nQ 3450 3153 3228 2886 \nQ 3006 2619 2597 2516 \nz\n\" transform=\"scale(0.015625)\"/>\n       </defs>\n       <use xlink:href=\"#DejaVuSans-33\"/>\n       <use xlink:href=\"#DejaVuSans-2e\" x=\"63.623047\"/>\n       <use xlink:href=\"#DejaVuSans-30\" x=\"95.410156\"/>\n      </g>\n     </g>\n    </g>\n    <g id=\"text_8\">\n     <!-- epoch -->\n     <g transform=\"translate(109.346875 174.076563) scale(0.1 -0.1)\">\n      <defs>\n       <path id=\"DejaVuSans-65\" d=\"M 3597 1894 \nL 3597 1613 \nL 953 1613 \nQ 991 1019 1311 708 \nQ 1631 397 2203 397 \nQ 2534 397 2845 478 \nQ 3156 559 3463 722 \nL 3463 178 \nQ 3153 47 2828 -22 \nQ 2503 -91 2169 -91 \nQ 1331 -91 842 396 \nQ 353 884 353 1716 \nQ 353 2575 817 3079 \nQ 1281 3584 2069 3584 \nQ 2775 3584 3186 3129 \nQ 3597 2675 3597 1894 \nz\nM 3022 2063 \nQ 3016 2534 2758 2815 \nQ 2500 3097 2075 3097 \nQ 1594 3097 1305 2825 \nQ 1016 2553 972 2059 \nL 3022 2063 \nz\n\" transform=\"scale(0.015625)\"/>\n       <path id=\"DejaVuSans-70\" d=\"M 1159 525 \nL 1159 -1331 \nL 581 -1331 \nL 581 3500 \nL 1159 3500 \nL 1159 2969 \nQ 1341 3281 1617 3432 \nQ 1894 3584 2278 3584 \nQ 2916 3584 3314 3078 \nQ 3713 2572 3713 1747 \nQ 3713 922 3314 415 \nQ 2916 -91 2278 -91 \nQ 1894 -91 1617 61 \nQ 1341 213 1159 525 \nz\nM 3116 1747 \nQ 3116 2381 2855 2742 \nQ 2594 3103 2138 3103 \nQ 1681 3103 1420 2742 \nQ 1159 2381 1159 1747 \nQ 1159 1113 1420 752 \nQ 1681 391 2138 391 \nQ 2594 391 2855 752 \nQ 3116 1113 3116 1747 \nz\n\" transform=\"scale(0.015625)\"/>\n       <path id=\"DejaVuSans-6f\" d=\"M 1959 3097 \nQ 1497 3097 1228 2736 \nQ 959 2375 959 1747 \nQ 959 1119 1226 758 \nQ 1494 397 1959 397 \nQ 2419 397 2687 759 \nQ 2956 1122 2956 1747 \nQ 2956 2369 2687 2733 \nQ 2419 3097 1959 3097 \nz\nM 1959 3584 \nQ 2709 3584 3137 3096 \nQ 3566 2609 3566 1747 \nQ 3566 888 3137 398 \nQ 2709 -91 1959 -91 \nQ 1206 -91 779 398 \nQ 353 888 353 1747 \nQ 353 2609 779 3096 \nQ 1206 3584 1959 3584 \nz\n\" transform=\"scale(0.015625)\"/>\n       <path id=\"DejaVuSans-63\" d=\"M 3122 3366 \nL 3122 2828 \nQ 2878 2963 2633 3030 \nQ 2388 3097 2138 3097 \nQ 1578 3097 1268 2742 \nQ 959 2388 959 1747 \nQ 959 1106 1268 751 \nQ 1578 397 2138 397 \nQ 2388 397 2633 464 \nQ 2878 531 3122 666 \nL 3122 134 \nQ 2881 22 2623 -34 \nQ 2366 -91 2075 -91 \nQ 1284 -91 818 406 \nQ 353 903 353 1747 \nQ 353 2603 823 3093 \nQ 1294 3584 2113 3584 \nQ 2378 3584 2631 3529 \nQ 2884 3475 3122 3366 \nz\n\" transform=\"scale(0.015625)\"/>\n       <path id=\"DejaVuSans-68\" d=\"M 3513 2113 \nL 3513 0 \nL 2938 0 \nL 2938 2094 \nQ 2938 2591 2744 2837 \nQ 2550 3084 2163 3084 \nQ 1697 3084 1428 2787 \nQ 1159 2491 1159 1978 \nL 1159 0 \nL 581 0 \nL 581 4863 \nL 1159 4863 \nL 1159 2956 \nQ 1366 3272 1645 3428 \nQ 1925 3584 2291 3584 \nQ 2894 3584 3203 3211 \nQ 3513 2838 3513 2113 \nz\n\" transform=\"scale(0.015625)\"/>\n      </defs>\n      <use xlink:href=\"#DejaVuSans-65\"/>\n      <use xlink:href=\"#DejaVuSans-70\" x=\"61.523438\"/>\n      <use xlink:href=\"#DejaVuSans-6f\" x=\"125\"/>\n      <use xlink:href=\"#DejaVuSans-63\" x=\"186.181641\"/>\n      <use xlink:href=\"#DejaVuSans-68\" x=\"241.162109\"/>\n     </g>\n    </g>\n   </g>\n   <g id=\"matplotlib.axis_2\">\n    <g id=\"ytick_1\">\n     <g id=\"line2d_8\">\n      <defs>\n       <path id=\"m0a87f11208\" d=\"M 0 0 \nL -3.5 0 \n\" style=\"stroke: #000000; stroke-width: 0.8\"/>\n      </defs>\n      <g>\n       <use xlink:href=\"#m0a87f11208\" x=\"26.925\" y=\"139.5019\" style=\"stroke: #000000; stroke-width: 0.8\"/>\n      </g>\n     </g>\n     <g id=\"text_9\">\n      <!-- 0 -->\n      <g transform=\"translate(13.5625 143.301119) scale(0.1 -0.1)\">\n       <use xlink:href=\"#DejaVuSans-30\"/>\n      </g>\n     </g>\n    </g>\n    <g id=\"ytick_2\">\n     <g id=\"line2d_9\">\n      <g>\n       <use xlink:href=\"#m0a87f11208\" x=\"26.925\" y=\"108.022881\" style=\"stroke: #000000; stroke-width: 0.8\"/>\n      </g>\n     </g>\n     <g id=\"text_10\">\n      <!-- 5 -->\n      <g transform=\"translate(13.5625 111.8221) scale(0.1 -0.1)\">\n       <use xlink:href=\"#DejaVuSans-35\"/>\n      </g>\n     </g>\n    </g>\n    <g id=\"ytick_3\">\n     <g id=\"line2d_10\">\n      <g>\n       <use xlink:href=\"#m0a87f11208\" x=\"26.925\" y=\"76.543862\" style=\"stroke: #000000; stroke-width: 0.8\"/>\n      </g>\n     </g>\n     <g id=\"text_11\">\n      <!-- 10 -->\n      <g transform=\"translate(7.2 80.343081) scale(0.1 -0.1)\">\n       <use xlink:href=\"#DejaVuSans-31\"/>\n       <use xlink:href=\"#DejaVuSans-30\" x=\"63.623047\"/>\n      </g>\n     </g>\n    </g>\n    <g id=\"ytick_4\">\n     <g id=\"line2d_11\">\n      <g>\n       <use xlink:href=\"#m0a87f11208\" x=\"26.925\" y=\"45.064843\" style=\"stroke: #000000; stroke-width: 0.8\"/>\n      </g>\n     </g>\n     <g id=\"text_12\">\n      <!-- 15 -->\n      <g transform=\"translate(7.2 48.864062) scale(0.1 -0.1)\">\n       <use xlink:href=\"#DejaVuSans-31\"/>\n       <use xlink:href=\"#DejaVuSans-35\" x=\"63.623047\"/>\n      </g>\n     </g>\n    </g>\n    <g id=\"ytick_5\">\n     <g id=\"line2d_12\">\n      <g>\n       <use xlink:href=\"#m0a87f11208\" x=\"26.925\" y=\"13.585824\" style=\"stroke: #000000; stroke-width: 0.8\"/>\n      </g>\n     </g>\n     <g id=\"text_13\">\n      <!-- 20 -->\n      <g transform=\"translate(7.2 17.385043) scale(0.1 -0.1)\">\n       <use xlink:href=\"#DejaVuSans-32\"/>\n       <use xlink:href=\"#DejaVuSans-30\" x=\"63.623047\"/>\n      </g>\n     </g>\n    </g>\n   </g>\n   <g id=\"line2d_13\">\n    <path d=\"M 42.182813 13.5 \n\" clip-path=\"url(#pe158589db1)\" style=\"fill: none; stroke: #1f77b4; stroke-width: 1.5; stroke-linecap: square\"/>\n   </g>\n   <g id=\"line2d_14\">\n    <path d=\"M 42.182813 13.5 \nL 74.732812 125.891489 \n\" clip-path=\"url(#pe158589db1)\" style=\"fill: none; stroke: #1f77b4; stroke-width: 1.5; stroke-linecap: square\"/>\n   </g>\n   <g id=\"line2d_15\">\n    <path d=\"M 42.182813 13.5 \nL 74.732812 125.891489 \n\" clip-path=\"url(#pe158589db1)\" style=\"fill: none; stroke: #1f77b4; stroke-width: 1.5; stroke-linecap: square\"/>\n   </g>\n   <g id=\"line2d_16\">\n    <path d=\"M 92.025 135.250343 \n\" clip-path=\"url(#pe158589db1)\" style=\"fill: none; stroke-dasharray: 5.55,2.4; stroke-dashoffset: 0; stroke: #ff7f0e; stroke-width: 1.5\"/>\n   </g>\n   <g id=\"line2d_17\">\n    <path d=\"M 42.182813 13.5 \nL 74.732812 125.891489 \nL 107.282813 137.555347 \n\" clip-path=\"url(#pe158589db1)\" style=\"fill: none; stroke: #1f77b4; stroke-width: 1.5; stroke-linecap: square\"/>\n   </g>\n   <g id=\"line2d_18\">\n    <path d=\"M 92.025 135.250343 \n\" clip-path=\"url(#pe158589db1)\" style=\"fill: none; stroke-dasharray: 5.55,2.4; stroke-dashoffset: 0; stroke: #ff7f0e; stroke-width: 1.5\"/>\n   </g>\n   <g id=\"line2d_19\">\n    <path d=\"M 42.182813 13.5 \nL 74.732812 125.891489 \nL 107.282813 137.555347 \nL 139.832812 139.246917 \n\" clip-path=\"url(#pe158589db1)\" style=\"fill: none; stroke: #1f77b4; stroke-width: 1.5; stroke-linecap: square\"/>\n   </g>\n   <g id=\"line2d_20\">\n    <path d=\"M 92.025 135.250343 \n\" clip-path=\"url(#pe158589db1)\" style=\"fill: none; stroke-dasharray: 5.55,2.4; stroke-dashoffset: 0; stroke: #ff7f0e; stroke-width: 1.5\"/>\n   </g>\n   <g id=\"line2d_21\">\n    <path d=\"M 42.182813 13.5 \nL 74.732812 125.891489 \nL 107.282813 137.555347 \nL 139.832812 139.246917 \n\" clip-path=\"url(#pe158589db1)\" style=\"fill: none; stroke: #1f77b4; stroke-width: 1.5; stroke-linecap: square\"/>\n   </g>\n   <g id=\"line2d_22\">\n    <path d=\"M 92.025 135.250343 \nL 157.125 139.428026 \n\" clip-path=\"url(#pe158589db1)\" style=\"fill: none; stroke-dasharray: 5.55,2.4; stroke-dashoffset: 0; stroke: #ff7f0e; stroke-width: 1.5\"/>\n   </g>\n   <g id=\"line2d_23\">\n    <path d=\"M 42.182813 13.5 \nL 74.732812 125.891489 \nL 107.282813 137.555347 \nL 139.832812 139.246917 \nL 172.382812 139.467737 \n\" clip-path=\"url(#pe158589db1)\" style=\"fill: none; stroke: #1f77b4; stroke-width: 1.5; stroke-linecap: square\"/>\n   </g>\n   <g id=\"line2d_24\">\n    <path d=\"M 92.025 135.250343 \nL 157.125 139.428026 \n\" clip-path=\"url(#pe158589db1)\" style=\"fill: none; stroke-dasharray: 5.55,2.4; stroke-dashoffset: 0; stroke: #ff7f0e; stroke-width: 1.5\"/>\n   </g>\n   <g id=\"line2d_25\">\n    <path d=\"M 42.182813 13.5 \nL 74.732812 125.891489 \nL 107.282813 137.555347 \nL 139.832812 139.246917 \nL 172.382812 139.467737 \nL 204.932812 139.496396 \n\" clip-path=\"url(#pe158589db1)\" style=\"fill: none; stroke: #1f77b4; stroke-width: 1.5; stroke-linecap: square\"/>\n   </g>\n   <g id=\"line2d_26\">\n    <path d=\"M 92.025 135.250343 \nL 157.125 139.428026 \n\" clip-path=\"url(#pe158589db1)\" style=\"fill: none; stroke-dasharray: 5.55,2.4; stroke-dashoffset: 0; stroke: #ff7f0e; stroke-width: 1.5\"/>\n   </g>\n   <g id=\"line2d_27\">\n    <path d=\"M 42.182813 13.5 \nL 74.732812 125.891489 \nL 107.282813 137.555347 \nL 139.832812 139.246917 \nL 172.382812 139.467737 \nL 204.932812 139.496396 \n\" clip-path=\"url(#pe158589db1)\" style=\"fill: none; stroke: #1f77b4; stroke-width: 1.5; stroke-linecap: square\"/>\n   </g>\n   <g id=\"line2d_28\">\n    <path d=\"M 92.025 135.250343 \nL 157.125 139.428026 \nL 222.225 139.5 \n\" clip-path=\"url(#pe158589db1)\" style=\"fill: none; stroke-dasharray: 5.55,2.4; stroke-dashoffset: 0; stroke: #ff7f0e; stroke-width: 1.5\"/>\n   </g>\n   <g id=\"patch_3\">\n    <path d=\"M 26.925 145.8 \nL 26.925 7.2 \n\" style=\"fill: none; stroke: #000000; stroke-width: 0.8; stroke-linejoin: miter; stroke-linecap: square\"/>\n   </g>\n   <g id=\"patch_4\">\n    <path d=\"M 222.225 145.8 \nL 222.225 7.2 \n\" style=\"fill: none; stroke: #000000; stroke-width: 0.8; stroke-linejoin: miter; stroke-linecap: square\"/>\n   </g>\n   <g id=\"patch_5\">\n    <path d=\"M 26.925 145.8 \nL 222.225 145.8 \n\" style=\"fill: none; stroke: #000000; stroke-width: 0.8; stroke-linejoin: miter; stroke-linecap: square\"/>\n   </g>\n   <g id=\"patch_6\">\n    <path d=\"M 26.925 7.2 \nL 222.225 7.2 \n\" style=\"fill: none; stroke: #000000; stroke-width: 0.8; stroke-linejoin: miter; stroke-linecap: square\"/>\n   </g>\n   <g id=\"legend_1\">\n    <g id=\"patch_7\">\n     <path d=\"M 135.634375 45.1125 \nL 215.225 45.1125 \nQ 217.225 45.1125 217.225 43.1125 \nL 217.225 14.2 \nQ 217.225 12.2 215.225 12.2 \nL 135.634375 12.2 \nQ 133.634375 12.2 133.634375 14.2 \nL 133.634375 43.1125 \nQ 133.634375 45.1125 135.634375 45.1125 \nz\n\" style=\"fill: #ffffff; opacity: 0.8; stroke: #cccccc; stroke-linejoin: miter\"/>\n    </g>\n    <g id=\"line2d_29\">\n     <path d=\"M 137.634375 20.298438 \nL 147.634375 20.298438 \nL 157.634375 20.298438 \n\" style=\"fill: none; stroke: #1f77b4; stroke-width: 1.5; stroke-linecap: square\"/>\n    </g>\n    <g id=\"text_14\">\n     <!-- train_loss -->\n     <g transform=\"translate(165.634375 23.798438) scale(0.1 -0.1)\">\n      <defs>\n       <path id=\"DejaVuSans-74\" d=\"M 1172 4494 \nL 1172 3500 \nL 2356 3500 \nL 2356 3053 \nL 1172 3053 \nL 1172 1153 \nQ 1172 725 1289 603 \nQ 1406 481 1766 481 \nL 2356 481 \nL 2356 0 \nL 1766 0 \nQ 1100 0 847 248 \nQ 594 497 594 1153 \nL 594 3053 \nL 172 3053 \nL 172 3500 \nL 594 3500 \nL 594 4494 \nL 1172 4494 \nz\n\" transform=\"scale(0.015625)\"/>\n       <path id=\"DejaVuSans-72\" d=\"M 2631 2963 \nQ 2534 3019 2420 3045 \nQ 2306 3072 2169 3072 \nQ 1681 3072 1420 2755 \nQ 1159 2438 1159 1844 \nL 1159 0 \nL 581 0 \nL 581 3500 \nL 1159 3500 \nL 1159 2956 \nQ 1341 3275 1631 3429 \nQ 1922 3584 2338 3584 \nQ 2397 3584 2469 3576 \nQ 2541 3569 2628 3553 \nL 2631 2963 \nz\n\" transform=\"scale(0.015625)\"/>\n       <path id=\"DejaVuSans-61\" d=\"M 2194 1759 \nQ 1497 1759 1228 1600 \nQ 959 1441 959 1056 \nQ 959 750 1161 570 \nQ 1363 391 1709 391 \nQ 2188 391 2477 730 \nQ 2766 1069 2766 1631 \nL 2766 1759 \nL 2194 1759 \nz\nM 3341 1997 \nL 3341 0 \nL 2766 0 \nL 2766 531 \nQ 2569 213 2275 61 \nQ 1981 -91 1556 -91 \nQ 1019 -91 701 211 \nQ 384 513 384 1019 \nQ 384 1609 779 1909 \nQ 1175 2209 1959 2209 \nL 2766 2209 \nL 2766 2266 \nQ 2766 2663 2505 2880 \nQ 2244 3097 1772 3097 \nQ 1472 3097 1187 3025 \nQ 903 2953 641 2809 \nL 641 3341 \nQ 956 3463 1253 3523 \nQ 1550 3584 1831 3584 \nQ 2591 3584 2966 3190 \nQ 3341 2797 3341 1997 \nz\n\" transform=\"scale(0.015625)\"/>\n       <path id=\"DejaVuSans-69\" d=\"M 603 3500 \nL 1178 3500 \nL 1178 0 \nL 603 0 \nL 603 3500 \nz\nM 603 4863 \nL 1178 4863 \nL 1178 4134 \nL 603 4134 \nL 603 4863 \nz\n\" transform=\"scale(0.015625)\"/>\n       <path id=\"DejaVuSans-6e\" d=\"M 3513 2113 \nL 3513 0 \nL 2938 0 \nL 2938 2094 \nQ 2938 2591 2744 2837 \nQ 2550 3084 2163 3084 \nQ 1697 3084 1428 2787 \nQ 1159 2491 1159 1978 \nL 1159 0 \nL 581 0 \nL 581 3500 \nL 1159 3500 \nL 1159 2956 \nQ 1366 3272 1645 3428 \nQ 1925 3584 2291 3584 \nQ 2894 3584 3203 3211 \nQ 3513 2838 3513 2113 \nz\n\" transform=\"scale(0.015625)\"/>\n       <path id=\"DejaVuSans-5f\" d=\"M 3263 -1063 \nL 3263 -1509 \nL -63 -1509 \nL -63 -1063 \nL 3263 -1063 \nz\n\" transform=\"scale(0.015625)\"/>\n       <path id=\"DejaVuSans-6c\" d=\"M 603 4863 \nL 1178 4863 \nL 1178 0 \nL 603 0 \nL 603 4863 \nz\n\" transform=\"scale(0.015625)\"/>\n       <path id=\"DejaVuSans-73\" d=\"M 2834 3397 \nL 2834 2853 \nQ 2591 2978 2328 3040 \nQ 2066 3103 1784 3103 \nQ 1356 3103 1142 2972 \nQ 928 2841 928 2578 \nQ 928 2378 1081 2264 \nQ 1234 2150 1697 2047 \nL 1894 2003 \nQ 2506 1872 2764 1633 \nQ 3022 1394 3022 966 \nQ 3022 478 2636 193 \nQ 2250 -91 1575 -91 \nQ 1294 -91 989 -36 \nQ 684 19 347 128 \nL 347 722 \nQ 666 556 975 473 \nQ 1284 391 1588 391 \nQ 1994 391 2212 530 \nQ 2431 669 2431 922 \nQ 2431 1156 2273 1281 \nQ 2116 1406 1581 1522 \nL 1381 1569 \nQ 847 1681 609 1914 \nQ 372 2147 372 2553 \nQ 372 3047 722 3315 \nQ 1072 3584 1716 3584 \nQ 2034 3584 2315 3537 \nQ 2597 3491 2834 3397 \nz\n\" transform=\"scale(0.015625)\"/>\n      </defs>\n      <use xlink:href=\"#DejaVuSans-74\"/>\n      <use xlink:href=\"#DejaVuSans-72\" x=\"39.208984\"/>\n      <use xlink:href=\"#DejaVuSans-61\" x=\"80.322266\"/>\n      <use xlink:href=\"#DejaVuSans-69\" x=\"141.601562\"/>\n      <use xlink:href=\"#DejaVuSans-6e\" x=\"169.384766\"/>\n      <use xlink:href=\"#DejaVuSans-5f\" x=\"232.763672\"/>\n      <use xlink:href=\"#DejaVuSans-6c\" x=\"282.763672\"/>\n      <use xlink:href=\"#DejaVuSans-6f\" x=\"310.546875\"/>\n      <use xlink:href=\"#DejaVuSans-73\" x=\"371.728516\"/>\n      <use xlink:href=\"#DejaVuSans-73\" x=\"423.828125\"/>\n     </g>\n    </g>\n    <g id=\"line2d_30\">\n     <path d=\"M 137.634375 35.254688 \nL 147.634375 35.254688 \nL 157.634375 35.254688 \n\" style=\"fill: none; stroke-dasharray: 5.55,2.4; stroke-dashoffset: 0; stroke: #ff7f0e; stroke-width: 1.5\"/>\n    </g>\n    <g id=\"text_15\">\n     <!-- val_loss -->\n     <g transform=\"translate(165.634375 38.754688) scale(0.1 -0.1)\">\n      <defs>\n       <path id=\"DejaVuSans-76\" d=\"M 191 3500 \nL 800 3500 \nL 1894 563 \nL 2988 3500 \nL 3597 3500 \nL 2284 0 \nL 1503 0 \nL 191 3500 \nz\n\" transform=\"scale(0.015625)\"/>\n      </defs>\n      <use xlink:href=\"#DejaVuSans-76\"/>\n      <use xlink:href=\"#DejaVuSans-61\" x=\"59.179688\"/>\n      <use xlink:href=\"#DejaVuSans-6c\" x=\"120.458984\"/>\n      <use xlink:href=\"#DejaVuSans-5f\" x=\"148.242188\"/>\n      <use xlink:href=\"#DejaVuSans-6c\" x=\"198.242188\"/>\n      <use xlink:href=\"#DejaVuSans-6f\" x=\"226.025391\"/>\n      <use xlink:href=\"#DejaVuSans-73\" x=\"287.207031\"/>\n      <use xlink:href=\"#DejaVuSans-73\" x=\"339.306641\"/>\n     </g>\n    </g>\n   </g>\n  </g>\n </g>\n <defs>\n  <clipPath id=\"pe158589db1\">\n   <rect x=\"26.925\" y=\"7.2\" width=\"195.3\" height=\"138.6\"/>\n  </clipPath>\n </defs>\n</svg>\n"
          },
          "metadata": {}
        }
      ],
      "source": [
        "model = LinearRegression(lr=0.03)\n",
        "data = d2l.SyntheticRegressionData(w=torch.tensor([2, -3.4]), b=4.2)\n",
        "trainer = d2l.Trainer(max_epochs=3)\n",
        "trainer.fit(model, data)"
      ]
    },
    {
      "cell_type": "markdown",
      "id": "bf3e3b53",
      "metadata": {
        "origin_pos": 28,
        "id": "bf3e3b53"
      },
      "source": [
        "Below, we\n",
        "[**compare the model parameters learned\n",
        "by training on finite data\n",
        "and the actual parameters**]\n",
        "that generated our dataset.\n",
        "To access parameters,\n",
        "we access the weights and bias\n",
        "of the layer that we need.\n",
        "As in our implementation from scratch,\n",
        "note that our estimated parameters\n",
        "are close to their true counterparts.\n"
      ]
    },
    {
      "cell_type": "code",
      "execution_count": 8,
      "id": "9ff8ee0f",
      "metadata": {
        "execution": {
          "iopub.execute_input": "2023-08-18T19:26:15.238470Z",
          "iopub.status.busy": "2023-08-18T19:26:15.237858Z",
          "iopub.status.idle": "2023-08-18T19:26:15.242681Z",
          "shell.execute_reply": "2023-08-18T19:26:15.241815Z"
        },
        "origin_pos": 29,
        "tab": [
          "pytorch"
        ],
        "id": "9ff8ee0f"
      },
      "outputs": [],
      "source": [
        "@d2l.add_to_class(LinearRegression)\n",
        "def get_w_b(self):\n",
        "    return (self.net.weight.data, self.net.bias.data)\n",
        "w, b = model.get_w_b()"
      ]
    },
    {
      "cell_type": "code",
      "execution_count": 9,
      "id": "2e5bd7b1",
      "metadata": {
        "execution": {
          "iopub.execute_input": "2023-08-18T19:26:15.246141Z",
          "iopub.status.busy": "2023-08-18T19:26:15.245569Z",
          "iopub.status.idle": "2023-08-18T19:26:15.252296Z",
          "shell.execute_reply": "2023-08-18T19:26:15.251312Z"
        },
        "origin_pos": 31,
        "tab": [
          "pytorch"
        ],
        "id": "2e5bd7b1",
        "outputId": "0dbfe3b2-f568-4fb4-a5be-fe78f9f19810",
        "colab": {
          "base_uri": "https://localhost:8080/"
        }
      },
      "outputs": [
        {
          "output_type": "stream",
          "name": "stdout",
          "text": [
            "error in estimating w: tensor([ 0.0053, -0.0030])\n",
            "error in estimating b: tensor([0.0128])\n"
          ]
        }
      ],
      "source": [
        "print(f'error in estimating w: {data.w - w.reshape(data.w.shape)}')\n",
        "print(f'error in estimating b: {data.b - b}')"
      ]
    },
    {
      "cell_type": "markdown",
      "id": "bc2e436c",
      "metadata": {
        "origin_pos": 32,
        "id": "bc2e436c"
      },
      "source": [
        "## Summary\n",
        "\n",
        "This section contains the first\n",
        "implementation of a deep network (in this book)\n",
        "to tap into the conveniences afforded\n",
        "by modern deep learning frameworks,\n",
        "such as MXNet :cite:`Chen.Li.Li.ea.2015`,\n",
        "JAX :cite:`Frostig.Johnson.Leary.2018`,\n",
        "PyTorch :cite:`Paszke.Gross.Massa.ea.2019`,\n",
        "and Tensorflow :cite:`Abadi.Barham.Chen.ea.2016`.\n",
        "We used framework defaults for loading data, defining a layer,\n",
        "a loss function, an optimizer and a training loop.\n",
        "Whenever the framework provides all necessary features,\n",
        "it is generally a good idea to use them,\n",
        "since the library implementations of these components\n",
        "tend to be heavily optimized for performance\n",
        "and properly tested for reliability.\n",
        "At the same time, try not to forget\n",
        "that these modules *can* be implemented directly.\n",
        "This is especially important for aspiring researchers\n",
        "who wish to live on the leading edge of model development,\n",
        "where you will be inventing new components\n",
        "that cannot possibly exist in any current library.\n"
      ]
    },
    {
      "cell_type": "markdown",
      "id": "102e9024",
      "metadata": {
        "origin_pos": 34,
        "tab": [
          "pytorch"
        ],
        "id": "102e9024"
      },
      "source": [
        "In PyTorch, the `data` module provides tools for data processing,\n",
        "the `nn` module defines a large number of neural network layers and common loss functions.\n",
        "We can initialize the parameters by replacing their values\n",
        "with methods ending with `_`.\n",
        "Note that we need to specify the input dimensions of the network.\n",
        "While this is trivial for now, it can have significant knock-on effects\n",
        "when we want to design complex networks with many layers.\n",
        "Careful considerations of how to parametrize these networks\n",
        "is needed to allow portability.\n"
      ]
    },
    {
      "cell_type": "markdown",
      "id": "5a5895fe",
      "metadata": {
        "origin_pos": 36,
        "id": "5a5895fe"
      },
      "source": [
        "## Exercises\n",
        "\n",
        "1. How would you need to change the learning rate if you replace the aggregate loss over the minibatch\n",
        "   with an average over the loss on the minibatch?\n",
        "1. Review the framework documentation to see which loss functions are provided. In particular,\n",
        "   replace the squared loss with Huber's robust loss function. That is, use the loss function\n",
        "   $$l(y,y') = \\begin{cases}|y-y'| -\\frac{\\sigma}{2} & \\textrm{ if } |y-y'| > \\sigma \\\\ \\frac{1}{2 \\sigma} (y-y')^2 & \\textrm{ otherwise}\\end{cases}$$\n",
        "1. How do you access the gradient of the weights of the model?\n",
        "1. What is the effect on the solution if you change the learning rate and the number of epochs? Does it keep on improving?\n",
        "1. How does the solution change as you vary the amount of data generated?\n",
        "    1. Plot the estimation error for $\\hat{\\mathbf{w}} - \\mathbf{w}$ and $\\hat{b} - b$ as a function of the amount of data. Hint: increase the amount of data logarithmically rather than linearly, i.e., 5, 10, 20, 50, ..., 10,000 rather than 1000, 2000, ..., 10,000.\n",
        "    2. Why is the suggestion in the hint appropriate?\n"
      ]
    },
    {
      "cell_type": "markdown",
      "id": "9467a79a",
      "metadata": {
        "origin_pos": 38,
        "tab": [
          "pytorch"
        ],
        "id": "9467a79a"
      },
      "source": [
        "[Discussions](https://discuss.d2l.ai/t/45)\n"
      ]
    },
    {
      "cell_type": "markdown",
      "source": [
        "1. 更换损失计算方式后学习率的调整\n",
        "解析：当把小批量数据的聚合损失（通常是求和）替换为小批量数据损失的平均值时，损失值的量级发生了变化。假设原来聚合损失是将小批量中每个样本的损失相加，现在变为求平均。由于平均值相比求和值变小（小批量样本数大于 1 时），梯度也会相应变小（因为梯度与损失值相关）。为了使模型更新幅度与原来大致相当，通常需要将学习率乘以小批量的样本数，以补偿损失值变小带来的影响，让模型在参数更新上保持合适的步长。"
      ],
      "metadata": {
        "id": "SdmHM1ZjPjDC"
      },
      "id": "SdmHM1ZjPjDC"
    },
    {
      "cell_type": "code",
      "source": [
        "import torch\n",
        "import torch.nn as nn\n",
        "import torch.optim as optim\n",
        "\n",
        "# 生成模拟数据\n",
        "x = torch.randn(64, 10)  # 批量大小=64\n",
        "y = torch.randint(0, 5, (64,))\n",
        "\n",
        "# 定义模型\n",
        "model = nn.Linear(10, 5)\n",
        "\n",
        "# 方案1：使用聚合损失（求和），学习率=0.01\n",
        "optimizer_sum = optim.SGD(model.parameters(), lr=0.01)\n",
        "criterion_sum = nn.CrossEntropyLoss(reduction='sum')  # 求和聚合\n",
        "\n",
        "# 方案2：使用平均损失，学习率=0.01*64（批量大小）\n",
        "optimizer_mean = optim.SGD(model.parameters(), lr=0.01 * 64)\n",
        "criterion_mean = nn.CrossEntropyLoss(reduction='mean')  # 平均聚合\n",
        "\n",
        "# 模拟单步训练（仅展示学习率调整逻辑）\n",
        "def train_step(optimizer, criterion):\n",
        "    optimizer.zero_grad()\n",
        "    output = model(x)\n",
        "    loss = criterion(output, y)\n",
        "    loss.backward()\n",
        "    optimizer.step()\n",
        "    return loss.item()\n",
        "\n",
        "# 验证两种方案的梯度量级\n",
        "loss_sum = train_step(optimizer_sum, criterion_sum)\n",
        "loss_mean = train_step(optimizer_mean, criterion_mean)\n",
        "\n",
        "print(f\"Sum Loss: {loss_sum:.4f} | Mean Loss: {loss_mean:.4f}\")\n",
        "print(f\"学习率调整比例: {optimizer_mean.param_groups[0]['lr'] / optimizer_sum.param_groups[0]['lr']}\")"
      ],
      "metadata": {
        "id": "cm33iESNQCks",
        "outputId": "b319bd5f-5d5a-46c4-ca9f-d01ffbdc36c9",
        "colab": {
          "base_uri": "https://localhost:8080/"
        }
      },
      "id": "cm33iESNQCks",
      "execution_count": 11,
      "outputs": [
        {
          "output_type": "stream",
          "name": "stdout",
          "text": [
            "Sum Loss: 110.1507 | Mean Loss: 1.5865\n",
            "学习率调整比例: 64.0\n"
          ]
        }
      ]
    },
    {
      "cell_type": "markdown",
      "source": [
        "2. 用 Huber 鲁棒损失函数替换平方损失函数\n"
      ],
      "metadata": {
        "id": "diYqbz2uPkrG"
      },
      "id": "diYqbz2uPkrG"
    },
    {
      "cell_type": "code",
      "source": [
        "import torch\n",
        "import torch.nn as nn\n",
        "\n",
        "# 假设模型输出y_hat和真实标签y\n",
        "y_hat = torch.tensor([1.2, 2.5, 3.7])\n",
        "y = torch.tensor([1.0, 2.0, 4.0])\n",
        "sigma = 1.0  # Huber损失的超参数\n",
        "\n",
        "# 定义Huber损失函数\n",
        "def huber_loss(y_hat, y, sigma):\n",
        "    diff = torch.abs(y_hat - y)\n",
        "    cond = diff > sigma\n",
        "    loss = torch.where(cond, diff - 0.5 * sigma, 0.5 * (diff ** 2) / sigma)\n",
        "    return torch.mean(loss)\n",
        "\n",
        "huber_loss_value = huber_loss(y_hat, y, sigma)\n",
        "print(huber_loss_value)"
      ],
      "metadata": {
        "id": "nBPT0MOKP1WO",
        "outputId": "423add80-ad97-4368-a5e6-4f28a8af7856",
        "colab": {
          "base_uri": "https://localhost:8080/"
        }
      },
      "id": "nBPT0MOKP1WO",
      "execution_count": 10,
      "outputs": [
        {
          "output_type": "stream",
          "name": "stdout",
          "text": [
            "tensor(0.0633)\n"
          ]
        }
      ]
    },
    {
      "cell_type": "markdown",
      "source": [
        "3. 访问模型权重的梯度\n"
      ],
      "metadata": {
        "id": "3_H9sytdP3sy"
      },
      "id": "3_H9sytdP3sy"
    },
    {
      "cell_type": "code",
      "source": [
        "import torch\n",
        "import torch.nn as nn\n",
        "import torch.optim as optim\n",
        "\n",
        "# 定义简单模型\n",
        "class SimpleModel(nn.Module):\n",
        "    def __init__(self):\n",
        "        super(SimpleModel, self).__init__()\n",
        "        self.fc1 = nn.Linear(10, 5)\n",
        "        self.fc2 = nn.Linear(5, 2)\n",
        "\n",
        "    def forward(self, x):\n",
        "        return self.fc2(self.fc1(x))\n",
        "\n",
        "model = SimpleModel()\n",
        "criterion = nn.CrossEntropyLoss()\n",
        "optimizer = optim.SGD(model.parameters(), lr=0.01)\n",
        "\n",
        "# 模拟训练步骤\n",
        "x = torch.randn(32, 10)\n",
        "y = torch.randint(0, 2, (32,))\n",
        "\n",
        "# 前向传播\n",
        "output = model(x)\n",
        "loss = criterion(output, y)\n",
        "\n",
        "# 反向传播计算梯度\n",
        "optimizer.zero_grad()\n",
        "loss.backward()\n",
        "\n",
        "# 访问权重梯度\n",
        "print(\"第一层权重梯度形状:\", model.fc1.weight.grad.shape)\n",
        "print(\"第二层偏置梯度:\", model.fc2.bias.grad)\n",
        "\n",
        "# 梯度范数（衡量梯度大小）\n",
        "grad_norm = torch.norm(model.fc1.weight.grad)\n",
        "print(f\"第一层权重梯度范数: {grad_norm:.4f}\")"
      ],
      "metadata": {
        "id": "N7E3geRoQH3a",
        "outputId": "4333bdf0-90e6-4e30-dd35-0fc32dcaa564",
        "colab": {
          "base_uri": "https://localhost:8080/"
        }
      },
      "id": "N7E3geRoQH3a",
      "execution_count": 12,
      "outputs": [
        {
          "output_type": "stream",
          "name": "stdout",
          "text": [
            "第一层权重梯度形状: torch.Size([5, 10])\n",
            "第二层偏置梯度: tensor([ 0.2281, -0.2281])\n",
            "第一层权重梯度范数: 0.2659\n"
          ]
        }
      ]
    },
    {
      "cell_type": "markdown",
      "source": [
        "4. 改变学习率和训练轮数对结果的影响\n"
      ],
      "metadata": {
        "id": "cFEUDMLLQKK3"
      },
      "id": "cFEUDMLLQKK3"
    },
    {
      "cell_type": "code",
      "source": [
        "import torch\n",
        "import torch.nn as nn\n",
        "import torch.optim as optim\n",
        "import matplotlib.pyplot as plt\n",
        "\n",
        "# 生成简单线性回归数据\n",
        "x = torch.randn(100, 1)\n",
        "y = 2 * x + 1 + 0.5 * torch.randn(100, 1)\n",
        "\n",
        "# 定义模型\n",
        "model = nn.Linear(1, 1)\n",
        "\n",
        "# 不同学习率的实验\n",
        "learning_rates = [0.001, 0.01, 0.1, 1.0]\n",
        "results = {}\n",
        "\n",
        "for lr in learning_rates:\n",
        "    # 重置模型参数\n",
        "    model.reset_parameters()\n",
        "    optimizer = optim.SGD(model.parameters(), lr=lr)\n",
        "    criterion = nn.MSELoss()\n",
        "    losses = []\n",
        "\n",
        "    # 训练100个epoch\n",
        "    for epoch in range(100):\n",
        "        optimizer.zero_grad()\n",
        "        y_pred = model(x)\n",
        "        loss = criterion(y_pred, y)\n",
        "        loss.backward()\n",
        "        optimizer.step()\n",
        "        losses.append(loss.item())\n",
        "\n",
        "    results[lr] = losses\n",
        "\n",
        "# 绘制学习曲线\n",
        "plt.figure(figsize=(10, 6))\n",
        "for lr, losses in results.items():\n",
        "    plt.plot(losses, label=f'LR={lr}')\n",
        "plt.xlabel('Epoch')\n",
        "plt.ylabel('Loss')\n",
        "plt.title('不同学习率的收敛速度对比')\n",
        "plt.legend()\n",
        "plt.yscale('log')  # 使用对数刻度更清晰地观察差异\n",
        "plt.show()"
      ],
      "metadata": {
        "id": "EDRANusMQN4P",
        "outputId": "f24be1f1-dd49-4077-c338-d0e766075c97",
        "colab": {
          "base_uri": "https://localhost:8080/",
          "height": 981
        }
      },
      "id": "EDRANusMQN4P",
      "execution_count": 13,
      "outputs": [
        {
          "output_type": "stream",
          "name": "stderr",
          "text": [
            "/usr/local/lib/python3.11/dist-packages/IPython/core/pylabtools.py:151: UserWarning: Glyph 19981 (\\N{CJK UNIFIED IDEOGRAPH-4E0D}) missing from current font.\n",
            "  fig.canvas.print_figure(bytes_io, **kw)\n",
            "/usr/local/lib/python3.11/dist-packages/IPython/core/pylabtools.py:151: UserWarning: Glyph 21516 (\\N{CJK UNIFIED IDEOGRAPH-540C}) missing from current font.\n",
            "  fig.canvas.print_figure(bytes_io, **kw)\n",
            "/usr/local/lib/python3.11/dist-packages/IPython/core/pylabtools.py:151: UserWarning: Glyph 23398 (\\N{CJK UNIFIED IDEOGRAPH-5B66}) missing from current font.\n",
            "  fig.canvas.print_figure(bytes_io, **kw)\n",
            "/usr/local/lib/python3.11/dist-packages/IPython/core/pylabtools.py:151: UserWarning: Glyph 20064 (\\N{CJK UNIFIED IDEOGRAPH-4E60}) missing from current font.\n",
            "  fig.canvas.print_figure(bytes_io, **kw)\n",
            "/usr/local/lib/python3.11/dist-packages/IPython/core/pylabtools.py:151: UserWarning: Glyph 29575 (\\N{CJK UNIFIED IDEOGRAPH-7387}) missing from current font.\n",
            "  fig.canvas.print_figure(bytes_io, **kw)\n",
            "/usr/local/lib/python3.11/dist-packages/IPython/core/pylabtools.py:151: UserWarning: Glyph 30340 (\\N{CJK UNIFIED IDEOGRAPH-7684}) missing from current font.\n",
            "  fig.canvas.print_figure(bytes_io, **kw)\n",
            "/usr/local/lib/python3.11/dist-packages/IPython/core/pylabtools.py:151: UserWarning: Glyph 25910 (\\N{CJK UNIFIED IDEOGRAPH-6536}) missing from current font.\n",
            "  fig.canvas.print_figure(bytes_io, **kw)\n",
            "/usr/local/lib/python3.11/dist-packages/IPython/core/pylabtools.py:151: UserWarning: Glyph 25947 (\\N{CJK UNIFIED IDEOGRAPH-655B}) missing from current font.\n",
            "  fig.canvas.print_figure(bytes_io, **kw)\n",
            "/usr/local/lib/python3.11/dist-packages/IPython/core/pylabtools.py:151: UserWarning: Glyph 36895 (\\N{CJK UNIFIED IDEOGRAPH-901F}) missing from current font.\n",
            "  fig.canvas.print_figure(bytes_io, **kw)\n",
            "/usr/local/lib/python3.11/dist-packages/IPython/core/pylabtools.py:151: UserWarning: Glyph 24230 (\\N{CJK UNIFIED IDEOGRAPH-5EA6}) missing from current font.\n",
            "  fig.canvas.print_figure(bytes_io, **kw)\n",
            "/usr/local/lib/python3.11/dist-packages/IPython/core/pylabtools.py:151: UserWarning: Glyph 23545 (\\N{CJK UNIFIED IDEOGRAPH-5BF9}) missing from current font.\n",
            "  fig.canvas.print_figure(bytes_io, **kw)\n",
            "/usr/local/lib/python3.11/dist-packages/IPython/core/pylabtools.py:151: UserWarning: Glyph 27604 (\\N{CJK UNIFIED IDEOGRAPH-6BD4}) missing from current font.\n",
            "  fig.canvas.print_figure(bytes_io, **kw)\n"
          ]
        },
        {
          "output_type": "display_data",
          "data": {
            "text/plain": [
              "<Figure size 1000x600 with 1 Axes>"
            ],
            "image/svg+xml": "<?xml version=\"1.0\" encoding=\"utf-8\" standalone=\"no\"?>\n<!DOCTYPE svg PUBLIC \"-//W3C//DTD SVG 1.1//EN\"\n  \"http://www.w3.org/Graphics/SVG/1.1/DTD/svg11.dtd\">\n<svg xmlns:xlink=\"http://www.w3.org/1999/xlink\" width=\"610.678125pt\" height=\"392.514375pt\" viewBox=\"0 0 610.678125 392.514375\" xmlns=\"http://www.w3.org/2000/svg\" version=\"1.1\">\n <metadata>\n  <rdf:RDF xmlns:dc=\"http://purl.org/dc/elements/1.1/\" xmlns:cc=\"http://creativecommons.org/ns#\" xmlns:rdf=\"http://www.w3.org/1999/02/22-rdf-syntax-ns#\">\n   <cc:Work>\n    <dc:type rdf:resource=\"http://purl.org/dc/dcmitype/StillImage\"/>\n    <dc:date>2025-05-12T06:48:56.159373</dc:date>\n    <dc:format>image/svg+xml</dc:format>\n    <dc:creator>\n     <cc:Agent>\n      <dc:title>Matplotlib v3.7.2, https://matplotlib.org/</dc:title>\n     </cc:Agent>\n    </dc:creator>\n   </cc:Work>\n  </rdf:RDF>\n </metadata>\n <defs>\n  <style type=\"text/css\">*{stroke-linejoin: round; stroke-linecap: butt}</style>\n </defs>\n <g id=\"figure_1\">\n  <g id=\"patch_1\">\n   <path d=\"M 0 392.514375 \nL 610.678125 392.514375 \nL 610.678125 0 \nL 0 0 \nz\n\" style=\"fill: #ffffff\"/>\n  </g>\n  <g id=\"axes_1\">\n   <g id=\"patch_2\">\n    <path d=\"M 45.478125 354.958125 \nL 603.478125 354.958125 \nL 603.478125 22.318125 \nL 45.478125 22.318125 \nz\n\" style=\"fill: #ffffff\"/>\n   </g>\n   <g id=\"matplotlib.axis_1\">\n    <g id=\"xtick_1\">\n     <g id=\"line2d_1\">\n      <defs>\n       <path id=\"m1c4b103f61\" d=\"M 0 0 \nL 0 3.5 \n\" style=\"stroke: #000000; stroke-width: 0.8\"/>\n      </defs>\n      <g>\n       <use xlink:href=\"#m1c4b103f61\" x=\"70.841761\" y=\"354.958125\" style=\"stroke: #000000; stroke-width: 0.8\"/>\n      </g>\n     </g>\n     <g id=\"text_1\">\n      <!-- 0 -->\n      <g transform=\"translate(67.660511 369.556562) scale(0.1 -0.1)\">\n       <defs>\n        <path id=\"DejaVuSans-30\" d=\"M 2034 4250 \nQ 1547 4250 1301 3770 \nQ 1056 3291 1056 2328 \nQ 1056 1369 1301 889 \nQ 1547 409 2034 409 \nQ 2525 409 2770 889 \nQ 3016 1369 3016 2328 \nQ 3016 3291 2770 3770 \nQ 2525 4250 2034 4250 \nz\nM 2034 4750 \nQ 2819 4750 3233 4129 \nQ 3647 3509 3647 2328 \nQ 3647 1150 3233 529 \nQ 2819 -91 2034 -91 \nQ 1250 -91 836 529 \nQ 422 1150 422 2328 \nQ 422 3509 836 4129 \nQ 1250 4750 2034 4750 \nz\n\" transform=\"scale(0.015625)\"/>\n       </defs>\n       <use xlink:href=\"#DejaVuSans-30\"/>\n      </g>\n     </g>\n    </g>\n    <g id=\"xtick_2\">\n     <g id=\"line2d_2\">\n      <g>\n       <use xlink:href=\"#m1c4b103f61\" x=\"173.3211\" y=\"354.958125\" style=\"stroke: #000000; stroke-width: 0.8\"/>\n      </g>\n     </g>\n     <g id=\"text_2\">\n      <!-- 20 -->\n      <g transform=\"translate(166.9586 369.556562) scale(0.1 -0.1)\">\n       <defs>\n        <path id=\"DejaVuSans-32\" d=\"M 1228 531 \nL 3431 531 \nL 3431 0 \nL 469 0 \nL 469 531 \nQ 828 903 1448 1529 \nQ 2069 2156 2228 2338 \nQ 2531 2678 2651 2914 \nQ 2772 3150 2772 3378 \nQ 2772 3750 2511 3984 \nQ 2250 4219 1831 4219 \nQ 1534 4219 1204 4116 \nQ 875 4013 500 3803 \nL 500 4441 \nQ 881 4594 1212 4672 \nQ 1544 4750 1819 4750 \nQ 2544 4750 2975 4387 \nQ 3406 4025 3406 3419 \nQ 3406 3131 3298 2873 \nQ 3191 2616 2906 2266 \nQ 2828 2175 2409 1742 \nQ 1991 1309 1228 531 \nz\n\" transform=\"scale(0.015625)\"/>\n       </defs>\n       <use xlink:href=\"#DejaVuSans-32\"/>\n       <use xlink:href=\"#DejaVuSans-30\" x=\"63.623047\"/>\n      </g>\n     </g>\n    </g>\n    <g id=\"xtick_3\">\n     <g id=\"line2d_3\">\n      <g>\n       <use xlink:href=\"#m1c4b103f61\" x=\"275.800439\" y=\"354.958125\" style=\"stroke: #000000; stroke-width: 0.8\"/>\n      </g>\n     </g>\n     <g id=\"text_3\">\n      <!-- 40 -->\n      <g transform=\"translate(269.437939 369.556562) scale(0.1 -0.1)\">\n       <defs>\n        <path id=\"DejaVuSans-34\" d=\"M 2419 4116 \nL 825 1625 \nL 2419 1625 \nL 2419 4116 \nz\nM 2253 4666 \nL 3047 4666 \nL 3047 1625 \nL 3713 1625 \nL 3713 1100 \nL 3047 1100 \nL 3047 0 \nL 2419 0 \nL 2419 1100 \nL 313 1100 \nL 313 1709 \nL 2253 4666 \nz\n\" transform=\"scale(0.015625)\"/>\n       </defs>\n       <use xlink:href=\"#DejaVuSans-34\"/>\n       <use xlink:href=\"#DejaVuSans-30\" x=\"63.623047\"/>\n      </g>\n     </g>\n    </g>\n    <g id=\"xtick_4\">\n     <g id=\"line2d_4\">\n      <g>\n       <use xlink:href=\"#m1c4b103f61\" x=\"378.279778\" y=\"354.958125\" style=\"stroke: #000000; stroke-width: 0.8\"/>\n      </g>\n     </g>\n     <g id=\"text_4\">\n      <!-- 60 -->\n      <g transform=\"translate(371.917278 369.556562) scale(0.1 -0.1)\">\n       <defs>\n        <path id=\"DejaVuSans-36\" d=\"M 2113 2584 \nQ 1688 2584 1439 2293 \nQ 1191 2003 1191 1497 \nQ 1191 994 1439 701 \nQ 1688 409 2113 409 \nQ 2538 409 2786 701 \nQ 3034 994 3034 1497 \nQ 3034 2003 2786 2293 \nQ 2538 2584 2113 2584 \nz\nM 3366 4563 \nL 3366 3988 \nQ 3128 4100 2886 4159 \nQ 2644 4219 2406 4219 \nQ 1781 4219 1451 3797 \nQ 1122 3375 1075 2522 \nQ 1259 2794 1537 2939 \nQ 1816 3084 2150 3084 \nQ 2853 3084 3261 2657 \nQ 3669 2231 3669 1497 \nQ 3669 778 3244 343 \nQ 2819 -91 2113 -91 \nQ 1303 -91 875 529 \nQ 447 1150 447 2328 \nQ 447 3434 972 4092 \nQ 1497 4750 2381 4750 \nQ 2619 4750 2861 4703 \nQ 3103 4656 3366 4563 \nz\n\" transform=\"scale(0.015625)\"/>\n       </defs>\n       <use xlink:href=\"#DejaVuSans-36\"/>\n       <use xlink:href=\"#DejaVuSans-30\" x=\"63.623047\"/>\n      </g>\n     </g>\n    </g>\n    <g id=\"xtick_5\">\n     <g id=\"line2d_5\">\n      <g>\n       <use xlink:href=\"#m1c4b103f61\" x=\"480.759117\" y=\"354.958125\" style=\"stroke: #000000; stroke-width: 0.8\"/>\n      </g>\n     </g>\n     <g id=\"text_5\">\n      <!-- 80 -->\n      <g transform=\"translate(474.396617 369.556562) scale(0.1 -0.1)\">\n       <defs>\n        <path id=\"DejaVuSans-38\" d=\"M 2034 2216 \nQ 1584 2216 1326 1975 \nQ 1069 1734 1069 1313 \nQ 1069 891 1326 650 \nQ 1584 409 2034 409 \nQ 2484 409 2743 651 \nQ 3003 894 3003 1313 \nQ 3003 1734 2745 1975 \nQ 2488 2216 2034 2216 \nz\nM 1403 2484 \nQ 997 2584 770 2862 \nQ 544 3141 544 3541 \nQ 544 4100 942 4425 \nQ 1341 4750 2034 4750 \nQ 2731 4750 3128 4425 \nQ 3525 4100 3525 3541 \nQ 3525 3141 3298 2862 \nQ 3072 2584 2669 2484 \nQ 3125 2378 3379 2068 \nQ 3634 1759 3634 1313 \nQ 3634 634 3220 271 \nQ 2806 -91 2034 -91 \nQ 1263 -91 848 271 \nQ 434 634 434 1313 \nQ 434 1759 690 2068 \nQ 947 2378 1403 2484 \nz\nM 1172 3481 \nQ 1172 3119 1398 2916 \nQ 1625 2713 2034 2713 \nQ 2441 2713 2670 2916 \nQ 2900 3119 2900 3481 \nQ 2900 3844 2670 4047 \nQ 2441 4250 2034 4250 \nQ 1625 4250 1398 4047 \nQ 1172 3844 1172 3481 \nz\n\" transform=\"scale(0.015625)\"/>\n       </defs>\n       <use xlink:href=\"#DejaVuSans-38\"/>\n       <use xlink:href=\"#DejaVuSans-30\" x=\"63.623047\"/>\n      </g>\n     </g>\n    </g>\n    <g id=\"xtick_6\">\n     <g id=\"line2d_6\">\n      <g>\n       <use xlink:href=\"#m1c4b103f61\" x=\"583.238456\" y=\"354.958125\" style=\"stroke: #000000; stroke-width: 0.8\"/>\n      </g>\n     </g>\n     <g id=\"text_6\">\n      <!-- 100 -->\n      <g transform=\"translate(573.694706 369.556562) scale(0.1 -0.1)\">\n       <defs>\n        <path id=\"DejaVuSans-31\" d=\"M 794 531 \nL 1825 531 \nL 1825 4091 \nL 703 3866 \nL 703 4441 \nL 1819 4666 \nL 2450 4666 \nL 2450 531 \nL 3481 531 \nL 3481 0 \nL 794 0 \nL 794 531 \nz\n\" transform=\"scale(0.015625)\"/>\n       </defs>\n       <use xlink:href=\"#DejaVuSans-31\"/>\n       <use xlink:href=\"#DejaVuSans-30\" x=\"63.623047\"/>\n       <use xlink:href=\"#DejaVuSans-30\" x=\"127.246094\"/>\n      </g>\n     </g>\n    </g>\n    <g id=\"text_7\">\n     <!-- Epoch -->\n     <g transform=\"translate(309.167187 383.234687) scale(0.1 -0.1)\">\n      <defs>\n       <path id=\"DejaVuSans-45\" d=\"M 628 4666 \nL 3578 4666 \nL 3578 4134 \nL 1259 4134 \nL 1259 2753 \nL 3481 2753 \nL 3481 2222 \nL 1259 2222 \nL 1259 531 \nL 3634 531 \nL 3634 0 \nL 628 0 \nL 628 4666 \nz\n\" transform=\"scale(0.015625)\"/>\n       <path id=\"DejaVuSans-70\" d=\"M 1159 525 \nL 1159 -1331 \nL 581 -1331 \nL 581 3500 \nL 1159 3500 \nL 1159 2969 \nQ 1341 3281 1617 3432 \nQ 1894 3584 2278 3584 \nQ 2916 3584 3314 3078 \nQ 3713 2572 3713 1747 \nQ 3713 922 3314 415 \nQ 2916 -91 2278 -91 \nQ 1894 -91 1617 61 \nQ 1341 213 1159 525 \nz\nM 3116 1747 \nQ 3116 2381 2855 2742 \nQ 2594 3103 2138 3103 \nQ 1681 3103 1420 2742 \nQ 1159 2381 1159 1747 \nQ 1159 1113 1420 752 \nQ 1681 391 2138 391 \nQ 2594 391 2855 752 \nQ 3116 1113 3116 1747 \nz\n\" transform=\"scale(0.015625)\"/>\n       <path id=\"DejaVuSans-6f\" d=\"M 1959 3097 \nQ 1497 3097 1228 2736 \nQ 959 2375 959 1747 \nQ 959 1119 1226 758 \nQ 1494 397 1959 397 \nQ 2419 397 2687 759 \nQ 2956 1122 2956 1747 \nQ 2956 2369 2687 2733 \nQ 2419 3097 1959 3097 \nz\nM 1959 3584 \nQ 2709 3584 3137 3096 \nQ 3566 2609 3566 1747 \nQ 3566 888 3137 398 \nQ 2709 -91 1959 -91 \nQ 1206 -91 779 398 \nQ 353 888 353 1747 \nQ 353 2609 779 3096 \nQ 1206 3584 1959 3584 \nz\n\" transform=\"scale(0.015625)\"/>\n       <path id=\"DejaVuSans-63\" d=\"M 3122 3366 \nL 3122 2828 \nQ 2878 2963 2633 3030 \nQ 2388 3097 2138 3097 \nQ 1578 3097 1268 2742 \nQ 959 2388 959 1747 \nQ 959 1106 1268 751 \nQ 1578 397 2138 397 \nQ 2388 397 2633 464 \nQ 2878 531 3122 666 \nL 3122 134 \nQ 2881 22 2623 -34 \nQ 2366 -91 2075 -91 \nQ 1284 -91 818 406 \nQ 353 903 353 1747 \nQ 353 2603 823 3093 \nQ 1294 3584 2113 3584 \nQ 2378 3584 2631 3529 \nQ 2884 3475 3122 3366 \nz\n\" transform=\"scale(0.015625)\"/>\n       <path id=\"DejaVuSans-68\" d=\"M 3513 2113 \nL 3513 0 \nL 2938 0 \nL 2938 2094 \nQ 2938 2591 2744 2837 \nQ 2550 3084 2163 3084 \nQ 1697 3084 1428 2787 \nQ 1159 2491 1159 1978 \nL 1159 0 \nL 581 0 \nL 581 4863 \nL 1159 4863 \nL 1159 2956 \nQ 1366 3272 1645 3428 \nQ 1925 3584 2291 3584 \nQ 2894 3584 3203 3211 \nQ 3513 2838 3513 2113 \nz\n\" transform=\"scale(0.015625)\"/>\n      </defs>\n      <use xlink:href=\"#DejaVuSans-45\"/>\n      <use xlink:href=\"#DejaVuSans-70\" x=\"63.183594\"/>\n      <use xlink:href=\"#DejaVuSans-6f\" x=\"126.660156\"/>\n      <use xlink:href=\"#DejaVuSans-63\" x=\"187.841797\"/>\n      <use xlink:href=\"#DejaVuSans-68\" x=\"242.822266\"/>\n     </g>\n    </g>\n   </g>\n   <g id=\"matplotlib.axis_2\">\n    <g id=\"ytick_1\">\n     <g id=\"line2d_7\">\n      <defs>\n       <path id=\"m943f65b709\" d=\"M 0 0 \nL -3.5 0 \n\" style=\"stroke: #000000; stroke-width: 0.8\"/>\n      </defs>\n      <g>\n       <use xlink:href=\"#m943f65b709\" x=\"45.478125\" y=\"212.204508\" style=\"stroke: #000000; stroke-width: 0.8\"/>\n      </g>\n     </g>\n     <g id=\"text_8\">\n      <!-- $\\mathdefault{10^{0}}$ -->\n      <g transform=\"translate(20.878125 216.003726) scale(0.1 -0.1)\">\n       <use xlink:href=\"#DejaVuSans-31\" transform=\"translate(0 0.765625)\"/>\n       <use xlink:href=\"#DejaVuSans-30\" transform=\"translate(63.623047 0.765625)\"/>\n       <use xlink:href=\"#DejaVuSans-30\" transform=\"translate(128.203125 39.046875) scale(0.7)\"/>\n      </g>\n     </g>\n    </g>\n    <g id=\"ytick_2\">\n     <g id=\"line2d_8\">\n      <defs>\n       <path id=\"m3aa760bfc3\" d=\"M 0 0 \nL -2 0 \n\" style=\"stroke: #000000; stroke-width: 0.6\"/>\n      </defs>\n      <g>\n       <use xlink:href=\"#m3aa760bfc3\" x=\"45.478125\" y=\"320.884772\" style=\"stroke: #000000; stroke-width: 0.6\"/>\n      </g>\n     </g>\n    </g>\n    <g id=\"ytick_3\">\n     <g id=\"line2d_9\">\n      <g>\n       <use xlink:href=\"#m3aa760bfc3\" x=\"45.478125\" y=\"294.916275\" style=\"stroke: #000000; stroke-width: 0.6\"/>\n      </g>\n     </g>\n    </g>\n    <g id=\"ytick_4\">\n     <g id=\"line2d_10\">\n      <g>\n       <use xlink:href=\"#m3aa760bfc3\" x=\"45.478125\" y=\"274.773544\" style=\"stroke: #000000; stroke-width: 0.6\"/>\n      </g>\n     </g>\n    </g>\n    <g id=\"ytick_5\">\n     <g id=\"line2d_11\">\n      <g>\n       <use xlink:href=\"#m3aa760bfc3\" x=\"45.478125\" y=\"258.315735\" style=\"stroke: #000000; stroke-width: 0.6\"/>\n      </g>\n     </g>\n    </g>\n    <g id=\"ytick_6\">\n     <g id=\"line2d_12\">\n      <g>\n       <use xlink:href=\"#m3aa760bfc3\" x=\"45.478125\" y=\"244.400855\" style=\"stroke: #000000; stroke-width: 0.6\"/>\n      </g>\n     </g>\n    </g>\n    <g id=\"ytick_7\">\n     <g id=\"line2d_13\">\n      <g>\n       <use xlink:href=\"#m3aa760bfc3\" x=\"45.478125\" y=\"232.347238\" style=\"stroke: #000000; stroke-width: 0.6\"/>\n      </g>\n     </g>\n    </g>\n    <g id=\"ytick_8\">\n     <g id=\"line2d_14\">\n      <g>\n       <use xlink:href=\"#m3aa760bfc3\" x=\"45.478125\" y=\"221.715195\" style=\"stroke: #000000; stroke-width: 0.6\"/>\n      </g>\n     </g>\n    </g>\n    <g id=\"ytick_9\">\n     <g id=\"line2d_15\">\n      <g>\n       <use xlink:href=\"#m3aa760bfc3\" x=\"45.478125\" y=\"149.635471\" style=\"stroke: #000000; stroke-width: 0.6\"/>\n      </g>\n     </g>\n    </g>\n    <g id=\"ytick_10\">\n     <g id=\"line2d_16\">\n      <g>\n       <use xlink:href=\"#m3aa760bfc3\" x=\"45.478125\" y=\"113.034931\" style=\"stroke: #000000; stroke-width: 0.6\"/>\n      </g>\n     </g>\n    </g>\n    <g id=\"ytick_11\">\n     <g id=\"line2d_17\">\n      <g>\n       <use xlink:href=\"#m3aa760bfc3\" x=\"45.478125\" y=\"87.066434\" style=\"stroke: #000000; stroke-width: 0.6\"/>\n      </g>\n     </g>\n    </g>\n    <g id=\"ytick_12\">\n     <g id=\"line2d_18\">\n      <g>\n       <use xlink:href=\"#m3aa760bfc3\" x=\"45.478125\" y=\"66.923703\" style=\"stroke: #000000; stroke-width: 0.6\"/>\n      </g>\n     </g>\n    </g>\n    <g id=\"ytick_13\">\n     <g id=\"line2d_19\">\n      <g>\n       <use xlink:href=\"#m3aa760bfc3\" x=\"45.478125\" y=\"50.465894\" style=\"stroke: #000000; stroke-width: 0.6\"/>\n      </g>\n     </g>\n    </g>\n    <g id=\"ytick_14\">\n     <g id=\"line2d_20\">\n      <g>\n       <use xlink:href=\"#m3aa760bfc3\" x=\"45.478125\" y=\"36.551014\" style=\"stroke: #000000; stroke-width: 0.6\"/>\n      </g>\n     </g>\n    </g>\n    <g id=\"ytick_15\">\n     <g id=\"line2d_21\">\n      <g>\n       <use xlink:href=\"#m3aa760bfc3\" x=\"45.478125\" y=\"24.497397\" style=\"stroke: #000000; stroke-width: 0.6\"/>\n      </g>\n     </g>\n    </g>\n    <g id=\"text_9\">\n     <!-- Loss -->\n     <g transform=\"translate(14.798437 199.605312) rotate(-90) scale(0.1 -0.1)\">\n      <defs>\n       <path id=\"DejaVuSans-4c\" d=\"M 628 4666 \nL 1259 4666 \nL 1259 531 \nL 3531 531 \nL 3531 0 \nL 628 0 \nL 628 4666 \nz\n\" transform=\"scale(0.015625)\"/>\n       <path id=\"DejaVuSans-73\" d=\"M 2834 3397 \nL 2834 2853 \nQ 2591 2978 2328 3040 \nQ 2066 3103 1784 3103 \nQ 1356 3103 1142 2972 \nQ 928 2841 928 2578 \nQ 928 2378 1081 2264 \nQ 1234 2150 1697 2047 \nL 1894 2003 \nQ 2506 1872 2764 1633 \nQ 3022 1394 3022 966 \nQ 3022 478 2636 193 \nQ 2250 -91 1575 -91 \nQ 1294 -91 989 -36 \nQ 684 19 347 128 \nL 347 722 \nQ 666 556 975 473 \nQ 1284 391 1588 391 \nQ 1994 391 2212 530 \nQ 2431 669 2431 922 \nQ 2431 1156 2273 1281 \nQ 2116 1406 1581 1522 \nL 1381 1569 \nQ 847 1681 609 1914 \nQ 372 2147 372 2553 \nQ 372 3047 722 3315 \nQ 1072 3584 1716 3584 \nQ 2034 3584 2315 3537 \nQ 2597 3491 2834 3397 \nz\n\" transform=\"scale(0.015625)\"/>\n      </defs>\n      <use xlink:href=\"#DejaVuSans-4c\"/>\n      <use xlink:href=\"#DejaVuSans-6f\" x=\"53.962891\"/>\n      <use xlink:href=\"#DejaVuSans-73\" x=\"115.144531\"/>\n      <use xlink:href=\"#DejaVuSans-73\" x=\"167.244141\"/>\n     </g>\n    </g>\n   </g>\n   <g id=\"line2d_22\">\n    <path d=\"M 70.841761 37.438125 \nL 75.965728 37.755884 \nL 81.089695 38.073596 \nL 86.213662 38.39125 \nL 91.337629 38.708861 \nL 96.461596 39.026399 \nL 101.585563 39.343897 \nL 106.70953 39.661351 \nL 111.833497 39.978738 \nL 116.957464 40.296084 \nL 122.081431 40.613373 \nL 127.205398 40.93062 \nL 132.329365 41.247806 \nL 137.453332 41.56494 \nL 142.577299 41.882006 \nL 147.701265 42.199037 \nL 152.825232 42.516009 \nL 157.949199 42.832932 \nL 163.073166 43.149814 \nL 168.197133 43.466623 \nL 173.3211 43.783376 \nL 178.445067 44.100094 \nL 183.569034 44.416754 \nL 188.693001 44.73333 \nL 193.816968 45.049891 \nL 198.940935 45.366381 \nL 204.064902 45.682813 \nL 209.188869 45.999192 \nL 214.312836 46.315525 \nL 219.436803 46.631795 \nL 224.56077 46.948017 \nL 229.684737 47.264175 \nL 234.808704 47.58029 \nL 239.93267 47.896323 \nL 245.056637 48.212334 \nL 250.180604 48.528268 \nL 255.304571 48.844156 \nL 260.428538 49.159987 \nL 265.552505 49.475756 \nL 270.676472 49.791473 \nL 275.800439 50.107133 \nL 280.924406 50.422725 \nL 286.048373 50.73828 \nL 291.17234 51.053758 \nL 296.296307 51.369204 \nL 301.420274 51.684579 \nL 306.544241 51.999885 \nL 311.668208 52.315139 \nL 316.792175 52.630351 \nL 321.916142 52.945496 \nL 327.040108 53.260576 \nL 332.164075 53.575608 \nL 337.288042 53.890567 \nL 342.412009 54.205484 \nL 347.535976 54.520333 \nL 352.659943 54.835132 \nL 357.78391 55.149862 \nL 362.907877 55.464533 \nL 368.031844 55.779148 \nL 373.155811 56.09371 \nL 378.279778 56.4082 \nL 383.403745 56.722644 \nL 388.527712 57.037022 \nL 393.651679 57.351337 \nL 398.775646 57.665586 \nL 403.899613 57.979793 \nL 409.02358 58.293925 \nL 414.147546 58.608008 \nL 419.271513 58.922021 \nL 424.39548 59.235976 \nL 429.519447 59.549868 \nL 434.643414 59.863694 \nL 439.767381 60.177464 \nL 444.891348 60.491174 \nL 450.015315 60.804819 \nL 455.139282 61.118396 \nL 460.263249 61.431916 \nL 465.387216 61.745374 \nL 470.511183 62.058782 \nL 475.63515 62.372104 \nL 480.759117 62.685375 \nL 485.883084 62.998583 \nL 491.007051 63.311733 \nL 496.131018 63.624818 \nL 501.254985 63.937844 \nL 506.378951 64.250781 \nL 511.502918 64.563666 \nL 516.626885 64.876495 \nL 521.750852 65.189263 \nL 526.874819 65.501966 \nL 531.998786 65.814599 \nL 537.122753 66.127159 \nL 542.24672 66.439666 \nL 547.370687 66.752098 \nL 552.494654 67.064469 \nL 557.618621 67.376774 \nL 562.742588 67.689017 \nL 567.866555 68.001194 \nL 572.990522 68.313318 \nL 578.114489 68.62535 \n\" clip-path=\"url(#p80ee0f503b)\" style=\"fill: none; stroke: #1f77b4; stroke-width: 1.5; stroke-linecap: square\"/>\n   </g>\n   <g id=\"line2d_23\">\n    <path d=\"M 70.841761 45.185947 \nL 75.965728 48.306766 \nL 81.089695 51.422166 \nL 86.213662 54.532009 \nL 91.337629 57.636129 \nL 96.461596 60.734402 \nL 101.585563 63.82666 \nL 106.70953 66.912737 \nL 111.833497 69.992459 \nL 116.957464 73.065672 \nL 122.081431 76.132198 \nL 127.205398 79.191856 \nL 132.329365 82.244455 \nL 137.453332 85.289822 \nL 142.577299 88.32774 \nL 147.701265 91.358036 \nL 152.825232 94.380489 \nL 157.949199 97.394894 \nL 163.073166 100.401029 \nL 168.197133 103.398671 \nL 173.3211 106.387608 \nL 178.445067 109.367586 \nL 183.569034 112.338396 \nL 188.693001 115.299773 \nL 193.816968 118.251475 \nL 198.940935 121.193274 \nL 204.064902 124.124854 \nL 209.188869 127.045986 \nL 214.312836 129.956402 \nL 219.436803 132.855812 \nL 224.56077 135.743951 \nL 229.684737 138.620506 \nL 234.808704 141.485183 \nL 239.93267 144.337727 \nL 245.056637 147.177788 \nL 250.180604 150.005069 \nL 255.304571 152.819259 \nL 260.428538 155.620056 \nL 265.552505 158.407094 \nL 270.676472 161.180101 \nL 275.800439 163.93869 \nL 280.924406 166.682554 \nL 286.048373 169.411345 \nL 291.17234 172.12471 \nL 296.296307 174.822312 \nL 301.420274 177.503787 \nL 306.544241 180.168789 \nL 311.668208 182.816946 \nL 316.792175 185.447911 \nL 321.916142 188.061321 \nL 327.040108 190.656794 \nL 332.164075 193.233982 \nL 337.288042 195.792493 \nL 342.412009 198.332005 \nL 347.535976 200.852116 \nL 352.659943 203.352449 \nL 357.78391 205.832661 \nL 362.907877 208.292381 \nL 368.031844 210.731252 \nL 373.155811 213.148907 \nL 378.279778 215.544982 \nL 383.403745 217.919124 \nL 388.527712 220.270979 \nL 393.651679 222.600214 \nL 398.775646 224.906488 \nL 403.899613 227.189451 \nL 409.02358 229.448789 \nL 414.147546 231.684164 \nL 419.271513 233.89526 \nL 424.39548 236.081815 \nL 429.519447 238.243501 \nL 434.643414 240.380016 \nL 439.767381 242.491108 \nL 444.891348 244.576498 \nL 450.015315 246.635922 \nL 455.139282 248.669166 \nL 460.263249 250.67596 \nL 465.387216 252.656118 \nL 470.511183 254.609415 \nL 475.63515 256.535674 \nL 480.759117 258.434717 \nL 485.883084 260.306377 \nL 491.007051 262.150502 \nL 496.131018 263.966953 \nL 501.254985 265.755627 \nL 506.378951 267.516413 \nL 511.502918 269.249239 \nL 516.626885 270.954029 \nL 521.750852 272.63071 \nL 526.874819 274.279301 \nL 531.998786 275.899732 \nL 537.122753 277.492017 \nL 542.24672 279.056204 \nL 547.370687 280.592274 \nL 552.494654 282.10032 \nL 557.618621 283.580372 \nL 562.742588 285.032566 \nL 567.866555 286.456957 \nL 572.990522 287.853652 \nL 578.114489 289.222823 \n\" clip-path=\"url(#p80ee0f503b)\" style=\"fill: none; stroke: #ff7f0e; stroke-width: 1.5; stroke-linecap: square\"/>\n   </g>\n   <g id=\"line2d_24\">\n    <path d=\"M 70.841761 138.175176 \nL 75.965728 166.876158 \nL 81.089695 194.063791 \nL 86.213662 219.339604 \nL 91.337629 242.298499 \nL 96.461596 262.587598 \nL 101.585563 279.973901 \nL 106.70953 294.396781 \nL 111.833497 305.983002 \nL 116.957464 315.016555 \nL 122.081431 321.877845 \nL 127.205398 326.976918 \nL 132.329365 330.70121 \nL 137.453332 333.385302 \nL 142.577299 335.300557 \nL 147.701265 336.657241 \nL 152.825232 337.613195 \nL 157.949199 338.284289 \nL 163.073166 338.754136 \nL 168.197133 339.082486 \nL 173.3211 339.311642 \nL 178.445067 339.471443 \nL 183.569034 339.582795 \nL 188.693001 339.660361 \nL 193.816968 339.714383 \nL 198.940935 339.75199 \nL 204.064902 339.778164 \nL 209.188869 339.796385 \nL 214.312836 339.809069 \nL 219.436803 339.817911 \nL 224.56077 339.824049 \nL 229.684737 339.82833 \nL 234.808704 339.831311 \nL 239.93267 339.833379 \nL 245.056637 339.834806 \nL 250.180604 339.835819 \nL 255.304571 339.836521 \nL 260.428538 339.837002 \nL 265.552505 339.837351 \nL 270.676472 339.837583 \nL 275.800439 339.837738 \nL 280.924406 339.837843 \nL 286.048373 339.837931 \nL 291.17234 339.837992 \nL 296.296307 339.838014 \nL 301.420274 339.838059 \nL 306.544241 339.838075 \nL 311.668208 339.838086 \nL 316.792175 339.838097 \nL 321.916142 339.838092 \nL 327.040108 339.838108 \nL 332.164075 339.838114 \nL 337.288042 339.838108 \nL 342.412009 339.838108 \nL 347.535976 339.838097 \nL 352.659943 339.838114 \nL 357.78391 339.838114 \nL 362.907877 339.838114 \nL 368.031844 339.838114 \nL 373.155811 339.838114 \nL 378.279778 339.838119 \nL 383.403745 339.838114 \nL 388.527712 339.838114 \nL 393.651679 339.838114 \nL 398.775646 339.838108 \nL 403.899613 339.838119 \nL 409.02358 339.838114 \nL 414.147546 339.838114 \nL 419.271513 339.838114 \nL 424.39548 339.838114 \nL 429.519447 339.838114 \nL 434.643414 339.838114 \nL 439.767381 339.838114 \nL 444.891348 339.838125 \nL 450.015315 339.838114 \nL 455.139282 339.838119 \nL 460.263249 339.838119 \nL 465.387216 339.838119 \nL 470.511183 339.838114 \nL 475.63515 339.838114 \nL 480.759117 339.838114 \nL 485.883084 339.838114 \nL 491.007051 339.838125 \nL 496.131018 339.838114 \nL 501.254985 339.838114 \nL 506.378951 339.838114 \nL 511.502918 339.838114 \nL 516.626885 339.838114 \nL 521.750852 339.838114 \nL 526.874819 339.838114 \nL 531.998786 339.838114 \nL 537.122753 339.838114 \nL 542.24672 339.838114 \nL 547.370687 339.838114 \nL 552.494654 339.838114 \nL 557.618621 339.838114 \nL 562.742588 339.838114 \nL 567.866555 339.838114 \nL 572.990522 339.838114 \nL 578.114489 339.838114 \n\" clip-path=\"url(#p80ee0f503b)\" style=\"fill: none; stroke: #2ca02c; stroke-width: 1.5; stroke-linecap: square\"/>\n   </g>\n   <g id=\"line2d_25\">\n    <path d=\"M 70.841761 145.59602 \nL 75.965728 208.561303 \nL 81.089695 260.153056 \nL 86.213662 296.670396 \nL 91.337629 318.542078 \nL 96.461596 329.908986 \nL 101.585563 335.294024 \nL 106.70953 337.720926 \nL 111.833497 338.788716 \nL 116.957464 339.253393 \nL 122.081431 339.454626 \nL 127.205398 339.541559 \nL 132.329365 339.579055 \nL 137.453332 339.5952 \nL 142.577299 339.602124 \nL 147.701265 339.605059 \nL 152.825232 339.606283 \nL 157.949199 339.606769 \nL 163.073166 339.60694 \nL 168.197133 339.606956 \nL 173.3211 339.606923 \nL 178.445067 339.606852 \nL 183.569034 339.606791 \nL 188.693001 339.606714 \nL 193.816968 339.606636 \nL 198.940935 339.606565 \nL 204.064902 339.606476 \nL 209.188869 339.606394 \nL 214.312836 339.606311 \nL 219.436803 339.606239 \nL 224.56077 339.606162 \nL 229.684737 339.606074 \nL 234.808704 339.605997 \nL 239.93267 339.605919 \nL 245.056637 339.605831 \nL 250.180604 339.605759 \nL 255.304571 339.605682 \nL 260.428538 339.605605 \nL 265.552505 339.605511 \nL 270.676472 339.605434 \nL 275.800439 339.605362 \nL 280.924406 339.605268 \nL 286.048373 339.605186 \nL 291.17234 339.605108 \nL 296.296307 339.605031 \nL 301.420274 339.604959 \nL 306.544241 339.604882 \nL 311.668208 339.604788 \nL 316.792175 339.604722 \nL 321.916142 339.604634 \nL 327.040108 339.604562 \nL 332.164075 339.604468 \nL 337.288042 339.604408 \nL 342.412009 339.604308 \nL 347.535976 339.604231 \nL 352.659943 339.604154 \nL 357.78391 339.604077 \nL 362.907877 339.603999 \nL 368.031844 339.603928 \nL 373.155811 339.603839 \nL 378.279778 339.603751 \nL 383.403745 339.603668 \nL 388.527712 339.603591 \nL 393.651679 339.603514 \nL 398.775646 339.603437 \nL 403.899613 339.603343 \nL 409.02358 339.603271 \nL 414.147546 339.603188 \nL 419.271513 339.603106 \nL 424.39548 339.603023 \nL 429.519447 339.60294 \nL 434.643414 339.602868 \nL 439.767381 339.60278 \nL 444.891348 339.602708 \nL 450.015315 339.602615 \nL 455.139282 339.602537 \nL 460.263249 339.602455 \nL 465.387216 339.602377 \nL 470.511183 339.602289 \nL 475.63515 339.602212 \nL 480.759117 339.602151 \nL 485.883084 339.602052 \nL 491.007051 339.601975 \nL 496.131018 339.601886 \nL 501.254985 339.601804 \nL 506.378951 339.601726 \nL 511.502918 339.601649 \nL 516.626885 339.601555 \nL 521.750852 339.601484 \nL 526.874819 339.601401 \nL 531.998786 339.601324 \nL 537.122753 339.60123 \nL 542.24672 339.601147 \nL 547.370687 339.601075 \nL 552.494654 339.600993 \nL 557.618621 339.600904 \nL 562.742588 339.600827 \nL 567.866555 339.60075 \nL 572.990522 339.600667 \nL 578.114489 339.60059 \n\" clip-path=\"url(#p80ee0f503b)\" style=\"fill: none; stroke: #d62728; stroke-width: 1.5; stroke-linecap: square\"/>\n   </g>\n   <g id=\"patch_3\">\n    <path d=\"M 45.478125 354.958125 \nL 45.478125 22.318125 \n\" style=\"fill: none; stroke: #000000; stroke-width: 0.8; stroke-linejoin: miter; stroke-linecap: square\"/>\n   </g>\n   <g id=\"patch_4\">\n    <path d=\"M 603.478125 354.958125 \nL 603.478125 22.318125 \n\" style=\"fill: none; stroke: #000000; stroke-width: 0.8; stroke-linejoin: miter; stroke-linecap: square\"/>\n   </g>\n   <g id=\"patch_5\">\n    <path d=\"M 45.478125 354.958125 \nL 603.478125 354.958125 \n\" style=\"fill: none; stroke: #000000; stroke-width: 0.8; stroke-linejoin: miter; stroke-linecap: square\"/>\n   </g>\n   <g id=\"patch_6\">\n    <path d=\"M 45.478125 22.318125 \nL 603.478125 22.318125 \n\" style=\"fill: none; stroke: #000000; stroke-width: 0.8; stroke-linejoin: miter; stroke-linecap: square\"/>\n   </g>\n   <g id=\"text_10\">\n    <!-- 不同学习率的收敛速度对比 -->\n    <g transform=\"translate(281.266875 16.318125) scale(0.12 -0.12)\">\n     <defs>\n      <path id=\"DejaVuSans-4e0d\" d=\"M 319 -1131 \nL 319 4513 \nL 3519 4513 \nL 3519 -1131 \nL 319 -1131 \nz\nM 678 -775 \nL 3163 -775 \nL 3163 4153 \nL 678 4153 \nL 678 -775 \nz\n\" transform=\"scale(0.015625)\"/>\n      <path id=\"DejaVuSans-540c\" d=\"M 319 -1131 \nL 319 4513 \nL 3519 4513 \nL 3519 -1131 \nL 319 -1131 \nz\nM 678 -775 \nL 3163 -775 \nL 3163 4153 \nL 678 4153 \nL 678 -775 \nz\n\" transform=\"scale(0.015625)\"/>\n      <path id=\"DejaVuSans-5b66\" d=\"M 319 -1131 \nL 319 4513 \nL 3519 4513 \nL 3519 -1131 \nL 319 -1131 \nz\nM 678 -775 \nL 3163 -775 \nL 3163 4153 \nL 678 4153 \nL 678 -775 \nz\n\" transform=\"scale(0.015625)\"/>\n      <path id=\"DejaVuSans-4e60\" d=\"M 319 -1131 \nL 319 4513 \nL 3519 4513 \nL 3519 -1131 \nL 319 -1131 \nz\nM 678 -775 \nL 3163 -775 \nL 3163 4153 \nL 678 4153 \nL 678 -775 \nz\n\" transform=\"scale(0.015625)\"/>\n      <path id=\"DejaVuSans-7387\" d=\"M 319 -1131 \nL 319 4513 \nL 3519 4513 \nL 3519 -1131 \nL 319 -1131 \nz\nM 678 -775 \nL 3163 -775 \nL 3163 4153 \nL 678 4153 \nL 678 -775 \nz\n\" transform=\"scale(0.015625)\"/>\n      <path id=\"DejaVuSans-7684\" d=\"M 319 -1131 \nL 319 4513 \nL 3519 4513 \nL 3519 -1131 \nL 319 -1131 \nz\nM 678 -775 \nL 3163 -775 \nL 3163 4153 \nL 678 4153 \nL 678 -775 \nz\n\" transform=\"scale(0.015625)\"/>\n      <path id=\"DejaVuSans-6536\" d=\"M 319 -1131 \nL 319 4513 \nL 3519 4513 \nL 3519 -1131 \nL 319 -1131 \nz\nM 678 -775 \nL 3163 -775 \nL 3163 4153 \nL 678 4153 \nL 678 -775 \nz\n\" transform=\"scale(0.015625)\"/>\n      <path id=\"DejaVuSans-655b\" d=\"M 319 -1131 \nL 319 4513 \nL 3519 4513 \nL 3519 -1131 \nL 319 -1131 \nz\nM 678 -775 \nL 3163 -775 \nL 3163 4153 \nL 678 4153 \nL 678 -775 \nz\n\" transform=\"scale(0.015625)\"/>\n      <path id=\"DejaVuSans-901f\" d=\"M 319 -1131 \nL 319 4513 \nL 3519 4513 \nL 3519 -1131 \nL 319 -1131 \nz\nM 678 -775 \nL 3163 -775 \nL 3163 4153 \nL 678 4153 \nL 678 -775 \nz\n\" transform=\"scale(0.015625)\"/>\n      <path id=\"DejaVuSans-5ea6\" d=\"M 319 -1131 \nL 319 4513 \nL 3519 4513 \nL 3519 -1131 \nL 319 -1131 \nz\nM 678 -775 \nL 3163 -775 \nL 3163 4153 \nL 678 4153 \nL 678 -775 \nz\n\" transform=\"scale(0.015625)\"/>\n      <path id=\"DejaVuSans-5bf9\" d=\"M 319 -1131 \nL 319 4513 \nL 3519 4513 \nL 3519 -1131 \nL 319 -1131 \nz\nM 678 -775 \nL 3163 -775 \nL 3163 4153 \nL 678 4153 \nL 678 -775 \nz\n\" transform=\"scale(0.015625)\"/>\n      <path id=\"DejaVuSans-6bd4\" d=\"M 319 -1131 \nL 319 4513 \nL 3519 4513 \nL 3519 -1131 \nL 319 -1131 \nz\nM 678 -775 \nL 3163 -775 \nL 3163 4153 \nL 678 4153 \nL 678 -775 \nz\n\" transform=\"scale(0.015625)\"/>\n     </defs>\n     <use xlink:href=\"#DejaVuSans-4e0d\"/>\n     <use xlink:href=\"#DejaVuSans-540c\" x=\"60.009766\"/>\n     <use xlink:href=\"#DejaVuSans-5b66\" x=\"120.019531\"/>\n     <use xlink:href=\"#DejaVuSans-4e60\" x=\"180.029297\"/>\n     <use xlink:href=\"#DejaVuSans-7387\" x=\"240.039062\"/>\n     <use xlink:href=\"#DejaVuSans-7684\" x=\"300.048828\"/>\n     <use xlink:href=\"#DejaVuSans-6536\" x=\"360.058594\"/>\n     <use xlink:href=\"#DejaVuSans-655b\" x=\"420.068359\"/>\n     <use xlink:href=\"#DejaVuSans-901f\" x=\"480.078125\"/>\n     <use xlink:href=\"#DejaVuSans-5ea6\" x=\"540.087891\"/>\n     <use xlink:href=\"#DejaVuSans-5bf9\" x=\"600.097656\"/>\n     <use xlink:href=\"#DejaVuSans-6bd4\" x=\"660.107422\"/>\n    </g>\n   </g>\n   <g id=\"legend_1\">\n    <g id=\"patch_7\">\n     <path d=\"M 514.95 219.494375 \nL 596.478125 219.494375 \nQ 598.478125 219.494375 598.478125 217.494375 \nL 598.478125 159.781875 \nQ 598.478125 157.781875 596.478125 157.781875 \nL 514.95 157.781875 \nQ 512.95 157.781875 512.95 159.781875 \nL 512.95 217.494375 \nQ 512.95 219.494375 514.95 219.494375 \nz\n\" style=\"fill: #ffffff; opacity: 0.8; stroke: #cccccc; stroke-linejoin: miter\"/>\n    </g>\n    <g id=\"line2d_26\">\n     <path d=\"M 516.95 165.880312 \nL 526.95 165.880312 \nL 536.95 165.880312 \n\" style=\"fill: none; stroke: #1f77b4; stroke-width: 1.5; stroke-linecap: square\"/>\n    </g>\n    <g id=\"text_11\">\n     <!-- LR=0.001 -->\n     <g transform=\"translate(544.95 169.380312) scale(0.1 -0.1)\">\n      <defs>\n       <path id=\"DejaVuSans-52\" d=\"M 2841 2188 \nQ 3044 2119 3236 1894 \nQ 3428 1669 3622 1275 \nL 4263 0 \nL 3584 0 \nL 2988 1197 \nQ 2756 1666 2539 1819 \nQ 2322 1972 1947 1972 \nL 1259 1972 \nL 1259 0 \nL 628 0 \nL 628 4666 \nL 2053 4666 \nQ 2853 4666 3247 4331 \nQ 3641 3997 3641 3322 \nQ 3641 2881 3436 2590 \nQ 3231 2300 2841 2188 \nz\nM 1259 4147 \nL 1259 2491 \nL 2053 2491 \nQ 2509 2491 2742 2702 \nQ 2975 2913 2975 3322 \nQ 2975 3731 2742 3939 \nQ 2509 4147 2053 4147 \nL 1259 4147 \nz\n\" transform=\"scale(0.015625)\"/>\n       <path id=\"DejaVuSans-3d\" d=\"M 678 2906 \nL 4684 2906 \nL 4684 2381 \nL 678 2381 \nL 678 2906 \nz\nM 678 1631 \nL 4684 1631 \nL 4684 1100 \nL 678 1100 \nL 678 1631 \nz\n\" transform=\"scale(0.015625)\"/>\n       <path id=\"DejaVuSans-2e\" d=\"M 684 794 \nL 1344 794 \nL 1344 0 \nL 684 0 \nL 684 794 \nz\n\" transform=\"scale(0.015625)\"/>\n      </defs>\n      <use xlink:href=\"#DejaVuSans-4c\"/>\n      <use xlink:href=\"#DejaVuSans-52\" x=\"55.712891\"/>\n      <use xlink:href=\"#DejaVuSans-3d\" x=\"125.195312\"/>\n      <use xlink:href=\"#DejaVuSans-30\" x=\"208.984375\"/>\n      <use xlink:href=\"#DejaVuSans-2e\" x=\"272.607422\"/>\n      <use xlink:href=\"#DejaVuSans-30\" x=\"304.394531\"/>\n      <use xlink:href=\"#DejaVuSans-30\" x=\"368.017578\"/>\n      <use xlink:href=\"#DejaVuSans-31\" x=\"431.640625\"/>\n     </g>\n    </g>\n    <g id=\"line2d_27\">\n     <path d=\"M 516.95 180.558437 \nL 526.95 180.558437 \nL 536.95 180.558437 \n\" style=\"fill: none; stroke: #ff7f0e; stroke-width: 1.5; stroke-linecap: square\"/>\n    </g>\n    <g id=\"text_12\">\n     <!-- LR=0.01 -->\n     <g transform=\"translate(544.95 184.058437) scale(0.1 -0.1)\">\n      <use xlink:href=\"#DejaVuSans-4c\"/>\n      <use xlink:href=\"#DejaVuSans-52\" x=\"55.712891\"/>\n      <use xlink:href=\"#DejaVuSans-3d\" x=\"125.195312\"/>\n      <use xlink:href=\"#DejaVuSans-30\" x=\"208.984375\"/>\n      <use xlink:href=\"#DejaVuSans-2e\" x=\"272.607422\"/>\n      <use xlink:href=\"#DejaVuSans-30\" x=\"304.394531\"/>\n      <use xlink:href=\"#DejaVuSans-31\" x=\"368.017578\"/>\n     </g>\n    </g>\n    <g id=\"line2d_28\">\n     <path d=\"M 516.95 195.236562 \nL 526.95 195.236562 \nL 536.95 195.236562 \n\" style=\"fill: none; stroke: #2ca02c; stroke-width: 1.5; stroke-linecap: square\"/>\n    </g>\n    <g id=\"text_13\">\n     <!-- LR=0.1 -->\n     <g transform=\"translate(544.95 198.736562) scale(0.1 -0.1)\">\n      <use xlink:href=\"#DejaVuSans-4c\"/>\n      <use xlink:href=\"#DejaVuSans-52\" x=\"55.712891\"/>\n      <use xlink:href=\"#DejaVuSans-3d\" x=\"125.195312\"/>\n      <use xlink:href=\"#DejaVuSans-30\" x=\"208.984375\"/>\n      <use xlink:href=\"#DejaVuSans-2e\" x=\"272.607422\"/>\n      <use xlink:href=\"#DejaVuSans-31\" x=\"304.394531\"/>\n     </g>\n    </g>\n    <g id=\"line2d_29\">\n     <path d=\"M 516.95 209.914687 \nL 526.95 209.914687 \nL 536.95 209.914687 \n\" style=\"fill: none; stroke: #d62728; stroke-width: 1.5; stroke-linecap: square\"/>\n    </g>\n    <g id=\"text_14\">\n     <!-- LR=1.0 -->\n     <g transform=\"translate(544.95 213.414687) scale(0.1 -0.1)\">\n      <use xlink:href=\"#DejaVuSans-4c\"/>\n      <use xlink:href=\"#DejaVuSans-52\" x=\"55.712891\"/>\n      <use xlink:href=\"#DejaVuSans-3d\" x=\"125.195312\"/>\n      <use xlink:href=\"#DejaVuSans-31\" x=\"208.984375\"/>\n      <use xlink:href=\"#DejaVuSans-2e\" x=\"272.607422\"/>\n      <use xlink:href=\"#DejaVuSans-30\" x=\"304.394531\"/>\n     </g>\n    </g>\n   </g>\n  </g>\n </g>\n <defs>\n  <clipPath id=\"p80ee0f503b\">\n   <rect x=\"45.478125\" y=\"22.318125\" width=\"558\" height=\"332.64\"/>\n  </clipPath>\n </defs>\n</svg>\n"
          },
          "metadata": {}
        }
      ]
    },
    {
      "cell_type": "markdown",
      "source": [
        "5. 数据量变化对结果的影响\n"
      ],
      "metadata": {
        "id": "1y4NC_fxQQbt"
      },
      "id": "1y4NC_fxQQbt"
    },
    {
      "cell_type": "code",
      "source": [
        "import torch\n",
        "import torch.nn as nn\n",
        "import torch.optim as optim\n",
        "import numpy as np\n",
        "import matplotlib.pyplot as plt\n",
        "\n",
        "# 生成数据函数\n",
        "def generate_data(n_samples, noise=0.5):\n",
        "    x = torch.randn(n_samples, 1)\n",
        "    y = 2 * x + 1 + noise * torch.randn(n_samples, 1)\n",
        "    return x, y\n",
        "\n",
        "# 定义模型\n",
        "class LinearRegression(nn.Module):\n",
        "    def __init__(self):\n",
        "        super(LinearRegression, self).__init__()\n",
        "        self.linear = nn.Linear(1, 1)\n",
        "\n",
        "    def forward(self, x):\n",
        "        return self.linear(x)\n",
        "\n",
        "# 不同数据量的实验\n",
        "data_sizes = [10, 50, 100, 500, 1000, 5000]\n",
        "test_errors = []\n",
        "\n",
        "# 固定测试集\n",
        "x_test, y_test = generate_data(1000, noise=0.5)\n",
        "\n",
        "for size in data_sizes:\n",
        "    # 生成训练集\n",
        "    x_train, y_train = generate_data(size, noise=0.5)\n",
        "\n",
        "    # 初始化模型\n",
        "    model = LinearRegression()\n",
        "    criterion = nn.MSELoss()\n",
        "    optimizer = optim.SGD(model.parameters(), lr=0.01)\n",
        "\n",
        "    # 训练模型\n",
        "    for epoch in range(100):\n",
        "        optimizer.zero_grad()\n",
        "        y_pred = model(x_train)\n",
        "        loss = criterion(y_pred, y_train)\n",
        "        loss.backward()\n",
        "        optimizer.step()\n",
        "\n",
        "    # 在测试集上评估\n",
        "    with torch.no_grad():\n",
        "        y_pred_test = model(x_test)\n",
        "        test_error = criterion(y_pred_test, y_test).item()\n",
        "        test_errors.append(test_error)\n",
        "\n",
        "# 绘制误差与数据量的关系\n",
        "plt.figure(figsize=(10, 6))\n",
        "plt.plot(data_sizes, test_errors, 'o-')\n",
        "plt.xscale('log')  # 使用对数坐标更清晰地展示关系\n",
        "plt.yscale('log')\n",
        "plt.xlabel('训练数据量 (对数刻度)')\n",
        "plt.ylabel('测试误差 (对数刻度)')\n",
        "plt.title('模型误差与数据量的关系')\n",
        "plt.grid(True)\n",
        "plt.show()"
      ],
      "metadata": {
        "id": "ItXqgHqWQTLB",
        "outputId": "fe66a907-807d-4c28-fec8-bd908aac35a9",
        "colab": {
          "base_uri": "https://localhost:8080/",
          "height": 1000
        }
      },
      "id": "ItXqgHqWQTLB",
      "execution_count": 14,
      "outputs": [
        {
          "output_type": "stream",
          "name": "stderr",
          "text": [
            "/usr/local/lib/python3.11/dist-packages/IPython/core/pylabtools.py:151: UserWarning: Glyph 27979 (\\N{CJK UNIFIED IDEOGRAPH-6D4B}) missing from current font.\n",
            "  fig.canvas.print_figure(bytes_io, **kw)\n",
            "/usr/local/lib/python3.11/dist-packages/IPython/core/pylabtools.py:151: UserWarning: Glyph 35797 (\\N{CJK UNIFIED IDEOGRAPH-8BD5}) missing from current font.\n",
            "  fig.canvas.print_figure(bytes_io, **kw)\n",
            "/usr/local/lib/python3.11/dist-packages/IPython/core/pylabtools.py:151: UserWarning: Glyph 35823 (\\N{CJK UNIFIED IDEOGRAPH-8BEF}) missing from current font.\n",
            "  fig.canvas.print_figure(bytes_io, **kw)\n",
            "/usr/local/lib/python3.11/dist-packages/IPython/core/pylabtools.py:151: UserWarning: Glyph 24046 (\\N{CJK UNIFIED IDEOGRAPH-5DEE}) missing from current font.\n",
            "  fig.canvas.print_figure(bytes_io, **kw)\n",
            "/usr/local/lib/python3.11/dist-packages/IPython/core/pylabtools.py:151: UserWarning: Glyph 25968 (\\N{CJK UNIFIED IDEOGRAPH-6570}) missing from current font.\n",
            "  fig.canvas.print_figure(bytes_io, **kw)\n",
            "/usr/local/lib/python3.11/dist-packages/IPython/core/pylabtools.py:151: UserWarning: Glyph 21051 (\\N{CJK UNIFIED IDEOGRAPH-523B}) missing from current font.\n",
            "  fig.canvas.print_figure(bytes_io, **kw)\n",
            "/usr/local/lib/python3.11/dist-packages/IPython/core/pylabtools.py:151: UserWarning: Glyph 27169 (\\N{CJK UNIFIED IDEOGRAPH-6A21}) missing from current font.\n",
            "  fig.canvas.print_figure(bytes_io, **kw)\n",
            "/usr/local/lib/python3.11/dist-packages/IPython/core/pylabtools.py:151: UserWarning: Glyph 22411 (\\N{CJK UNIFIED IDEOGRAPH-578B}) missing from current font.\n",
            "  fig.canvas.print_figure(bytes_io, **kw)\n",
            "/usr/local/lib/python3.11/dist-packages/IPython/core/pylabtools.py:151: UserWarning: Glyph 19982 (\\N{CJK UNIFIED IDEOGRAPH-4E0E}) missing from current font.\n",
            "  fig.canvas.print_figure(bytes_io, **kw)\n",
            "/usr/local/lib/python3.11/dist-packages/IPython/core/pylabtools.py:151: UserWarning: Glyph 25454 (\\N{CJK UNIFIED IDEOGRAPH-636E}) missing from current font.\n",
            "  fig.canvas.print_figure(bytes_io, **kw)\n",
            "/usr/local/lib/python3.11/dist-packages/IPython/core/pylabtools.py:151: UserWarning: Glyph 37327 (\\N{CJK UNIFIED IDEOGRAPH-91CF}) missing from current font.\n",
            "  fig.canvas.print_figure(bytes_io, **kw)\n",
            "/usr/local/lib/python3.11/dist-packages/IPython/core/pylabtools.py:151: UserWarning: Glyph 20851 (\\N{CJK UNIFIED IDEOGRAPH-5173}) missing from current font.\n",
            "  fig.canvas.print_figure(bytes_io, **kw)\n",
            "/usr/local/lib/python3.11/dist-packages/IPython/core/pylabtools.py:151: UserWarning: Glyph 31995 (\\N{CJK UNIFIED IDEOGRAPH-7CFB}) missing from current font.\n",
            "  fig.canvas.print_figure(bytes_io, **kw)\n",
            "/usr/local/lib/python3.11/dist-packages/IPython/core/pylabtools.py:151: UserWarning: Glyph 35757 (\\N{CJK UNIFIED IDEOGRAPH-8BAD}) missing from current font.\n",
            "  fig.canvas.print_figure(bytes_io, **kw)\n",
            "/usr/local/lib/python3.11/dist-packages/IPython/core/pylabtools.py:151: UserWarning: Glyph 32451 (\\N{CJK UNIFIED IDEOGRAPH-7EC3}) missing from current font.\n",
            "  fig.canvas.print_figure(bytes_io, **kw)\n"
          ]
        },
        {
          "output_type": "display_data",
          "data": {
            "text/plain": [
              "<Figure size 1000x600 with 1 Axes>"
            ],
            "image/svg+xml": "<?xml version=\"1.0\" encoding=\"utf-8\" standalone=\"no\"?>\n<!DOCTYPE svg PUBLIC \"-//W3C//DTD SVG 1.1//EN\"\n  \"http://www.w3.org/Graphics/SVG/1.1/DTD/svg11.dtd\">\n<svg xmlns:xlink=\"http://www.w3.org/1999/xlink\" width=\"633.578125pt\" height=\"392.514375pt\" viewBox=\"0 0 633.578125 392.514375\" xmlns=\"http://www.w3.org/2000/svg\" version=\"1.1\">\n <metadata>\n  <rdf:RDF xmlns:dc=\"http://purl.org/dc/elements/1.1/\" xmlns:cc=\"http://creativecommons.org/ns#\" xmlns:rdf=\"http://www.w3.org/1999/02/22-rdf-syntax-ns#\">\n   <cc:Work>\n    <dc:type rdf:resource=\"http://purl.org/dc/dcmitype/StillImage\"/>\n    <dc:date>2025-05-12T06:49:15.423872</dc:date>\n    <dc:format>image/svg+xml</dc:format>\n    <dc:creator>\n     <cc:Agent>\n      <dc:title>Matplotlib v3.7.2, https://matplotlib.org/</dc:title>\n     </cc:Agent>\n    </dc:creator>\n   </cc:Work>\n  </rdf:RDF>\n </metadata>\n <defs>\n  <style type=\"text/css\">*{stroke-linejoin: round; stroke-linecap: butt}</style>\n </defs>\n <g id=\"figure_1\">\n  <g id=\"patch_1\">\n   <path d=\"M 0 392.514375 \nL 633.578125 392.514375 \nL 633.578125 0 \nL 0 0 \nz\n\" style=\"fill: #ffffff\"/>\n  </g>\n  <g id=\"axes_1\">\n   <g id=\"patch_2\">\n    <path d=\"M 68.378125 354.958125 \nL 626.378125 354.958125 \nL 626.378125 22.318125 \nL 68.378125 22.318125 \nz\n\" style=\"fill: #ffffff\"/>\n   </g>\n   <g id=\"matplotlib.axis_1\">\n    <g id=\"xtick_1\">\n     <g id=\"line2d_1\">\n      <path d=\"M 93.741761 354.958125 \nL 93.741761 22.318125 \n\" clip-path=\"url(#p1a38c7d816)\" style=\"fill: none; stroke: #b0b0b0; stroke-width: 0.8; stroke-linecap: square\"/>\n     </g>\n     <g id=\"line2d_2\">\n      <defs>\n       <path id=\"m2919ba9363\" d=\"M 0 0 \nL 0 3.5 \n\" style=\"stroke: #000000; stroke-width: 0.8\"/>\n      </defs>\n      <g>\n       <use xlink:href=\"#m2919ba9363\" x=\"93.741761\" y=\"354.958125\" style=\"stroke: #000000; stroke-width: 0.8\"/>\n      </g>\n     </g>\n     <g id=\"text_1\">\n      <!-- $\\mathdefault{10^{1}}$ -->\n      <g transform=\"translate(84.941761 369.556562) scale(0.1 -0.1)\">\n       <defs>\n        <path id=\"DejaVuSans-31\" d=\"M 794 531 \nL 1825 531 \nL 1825 4091 \nL 703 3866 \nL 703 4441 \nL 1819 4666 \nL 2450 4666 \nL 2450 531 \nL 3481 531 \nL 3481 0 \nL 794 0 \nL 794 531 \nz\n\" transform=\"scale(0.015625)\"/>\n        <path id=\"DejaVuSans-30\" d=\"M 2034 4250 \nQ 1547 4250 1301 3770 \nQ 1056 3291 1056 2328 \nQ 1056 1369 1301 889 \nQ 1547 409 2034 409 \nQ 2525 409 2770 889 \nQ 3016 1369 3016 2328 \nQ 3016 3291 2770 3770 \nQ 2525 4250 2034 4250 \nz\nM 2034 4750 \nQ 2819 4750 3233 4129 \nQ 3647 3509 3647 2328 \nQ 3647 1150 3233 529 \nQ 2819 -91 2034 -91 \nQ 1250 -91 836 529 \nQ 422 1150 422 2328 \nQ 422 3509 836 4129 \nQ 1250 4750 2034 4750 \nz\n\" transform=\"scale(0.015625)\"/>\n       </defs>\n       <use xlink:href=\"#DejaVuSans-31\" transform=\"translate(0 0.684375)\"/>\n       <use xlink:href=\"#DejaVuSans-30\" transform=\"translate(63.623047 0.684375)\"/>\n       <use xlink:href=\"#DejaVuSans-31\" transform=\"translate(128.203125 38.965625) scale(0.7)\"/>\n      </g>\n     </g>\n    </g>\n    <g id=\"xtick_2\">\n     <g id=\"line2d_3\">\n      <path d=\"M 281.692249 354.958125 \nL 281.692249 22.318125 \n\" clip-path=\"url(#p1a38c7d816)\" style=\"fill: none; stroke: #b0b0b0; stroke-width: 0.8; stroke-linecap: square\"/>\n     </g>\n     <g id=\"line2d_4\">\n      <g>\n       <use xlink:href=\"#m2919ba9363\" x=\"281.692249\" y=\"354.958125\" style=\"stroke: #000000; stroke-width: 0.8\"/>\n      </g>\n     </g>\n     <g id=\"text_2\">\n      <!-- $\\mathdefault{10^{2}}$ -->\n      <g transform=\"translate(272.892249 369.556562) scale(0.1 -0.1)\">\n       <defs>\n        <path id=\"DejaVuSans-32\" d=\"M 1228 531 \nL 3431 531 \nL 3431 0 \nL 469 0 \nL 469 531 \nQ 828 903 1448 1529 \nQ 2069 2156 2228 2338 \nQ 2531 2678 2651 2914 \nQ 2772 3150 2772 3378 \nQ 2772 3750 2511 3984 \nQ 2250 4219 1831 4219 \nQ 1534 4219 1204 4116 \nQ 875 4013 500 3803 \nL 500 4441 \nQ 881 4594 1212 4672 \nQ 1544 4750 1819 4750 \nQ 2544 4750 2975 4387 \nQ 3406 4025 3406 3419 \nQ 3406 3131 3298 2873 \nQ 3191 2616 2906 2266 \nQ 2828 2175 2409 1742 \nQ 1991 1309 1228 531 \nz\n\" transform=\"scale(0.015625)\"/>\n       </defs>\n       <use xlink:href=\"#DejaVuSans-31\" transform=\"translate(0 0.765625)\"/>\n       <use xlink:href=\"#DejaVuSans-30\" transform=\"translate(63.623047 0.765625)\"/>\n       <use xlink:href=\"#DejaVuSans-32\" transform=\"translate(128.203125 39.046875) scale(0.7)\"/>\n      </g>\n     </g>\n    </g>\n    <g id=\"xtick_3\">\n     <g id=\"line2d_5\">\n      <path d=\"M 469.642736 354.958125 \nL 469.642736 22.318125 \n\" clip-path=\"url(#p1a38c7d816)\" style=\"fill: none; stroke: #b0b0b0; stroke-width: 0.8; stroke-linecap: square\"/>\n     </g>\n     <g id=\"line2d_6\">\n      <g>\n       <use xlink:href=\"#m2919ba9363\" x=\"469.642736\" y=\"354.958125\" style=\"stroke: #000000; stroke-width: 0.8\"/>\n      </g>\n     </g>\n     <g id=\"text_3\">\n      <!-- $\\mathdefault{10^{3}}$ -->\n      <g transform=\"translate(460.842736 369.556562) scale(0.1 -0.1)\">\n       <defs>\n        <path id=\"DejaVuSans-33\" d=\"M 2597 2516 \nQ 3050 2419 3304 2112 \nQ 3559 1806 3559 1356 \nQ 3559 666 3084 287 \nQ 2609 -91 1734 -91 \nQ 1441 -91 1130 -33 \nQ 819 25 488 141 \nL 488 750 \nQ 750 597 1062 519 \nQ 1375 441 1716 441 \nQ 2309 441 2620 675 \nQ 2931 909 2931 1356 \nQ 2931 1769 2642 2001 \nQ 2353 2234 1838 2234 \nL 1294 2234 \nL 1294 2753 \nL 1863 2753 \nQ 2328 2753 2575 2939 \nQ 2822 3125 2822 3475 \nQ 2822 3834 2567 4026 \nQ 2313 4219 1838 4219 \nQ 1578 4219 1281 4162 \nQ 984 4106 628 3988 \nL 628 4550 \nQ 988 4650 1302 4700 \nQ 1616 4750 1894 4750 \nQ 2613 4750 3031 4423 \nQ 3450 4097 3450 3541 \nQ 3450 3153 3228 2886 \nQ 3006 2619 2597 2516 \nz\n\" transform=\"scale(0.015625)\"/>\n       </defs>\n       <use xlink:href=\"#DejaVuSans-31\" transform=\"translate(0 0.765625)\"/>\n       <use xlink:href=\"#DejaVuSans-30\" transform=\"translate(63.623047 0.765625)\"/>\n       <use xlink:href=\"#DejaVuSans-33\" transform=\"translate(128.203125 39.046875) scale(0.7)\"/>\n      </g>\n     </g>\n    </g>\n    <g id=\"xtick_4\">\n     <g id=\"line2d_7\">\n      <defs>\n       <path id=\"m175cd7726d\" d=\"M 0 0 \nL 0 2 \n\" style=\"stroke: #000000; stroke-width: 0.6\"/>\n      </defs>\n      <g>\n       <use xlink:href=\"#m175cd7726d\" x=\"75.527477\" y=\"354.958125\" style=\"stroke: #000000; stroke-width: 0.6\"/>\n      </g>\n     </g>\n    </g>\n    <g id=\"xtick_5\">\n     <g id=\"line2d_8\">\n      <g>\n       <use xlink:href=\"#m175cd7726d\" x=\"85.141619\" y=\"354.958125\" style=\"stroke: #000000; stroke-width: 0.6\"/>\n      </g>\n     </g>\n    </g>\n    <g id=\"xtick_6\">\n     <g id=\"line2d_9\">\n      <g>\n       <use xlink:href=\"#m175cd7726d\" x=\"150.320496\" y=\"354.958125\" style=\"stroke: #000000; stroke-width: 0.6\"/>\n      </g>\n     </g>\n    </g>\n    <g id=\"xtick_7\">\n     <g id=\"line2d_10\">\n      <g>\n       <use xlink:href=\"#m175cd7726d\" x=\"183.416934\" y=\"354.958125\" style=\"stroke: #000000; stroke-width: 0.6\"/>\n      </g>\n     </g>\n    </g>\n    <g id=\"xtick_8\">\n     <g id=\"line2d_11\">\n      <g>\n       <use xlink:href=\"#m175cd7726d\" x=\"206.89923\" y=\"354.958125\" style=\"stroke: #000000; stroke-width: 0.6\"/>\n      </g>\n     </g>\n    </g>\n    <g id=\"xtick_9\">\n     <g id=\"line2d_12\">\n      <g>\n       <use xlink:href=\"#m175cd7726d\" x=\"225.113514\" y=\"354.958125\" style=\"stroke: #000000; stroke-width: 0.6\"/>\n      </g>\n     </g>\n    </g>\n    <g id=\"xtick_10\">\n     <g id=\"line2d_13\">\n      <g>\n       <use xlink:href=\"#m175cd7726d\" x=\"239.995668\" y=\"354.958125\" style=\"stroke: #000000; stroke-width: 0.6\"/>\n      </g>\n     </g>\n    </g>\n    <g id=\"xtick_11\">\n     <g id=\"line2d_14\">\n      <g>\n       <use xlink:href=\"#m175cd7726d\" x=\"252.57835\" y=\"354.958125\" style=\"stroke: #000000; stroke-width: 0.6\"/>\n      </g>\n     </g>\n    </g>\n    <g id=\"xtick_12\">\n     <g id=\"line2d_15\">\n      <g>\n       <use xlink:href=\"#m175cd7726d\" x=\"263.477964\" y=\"354.958125\" style=\"stroke: #000000; stroke-width: 0.6\"/>\n      </g>\n     </g>\n    </g>\n    <g id=\"xtick_13\">\n     <g id=\"line2d_16\">\n      <g>\n       <use xlink:href=\"#m175cd7726d\" x=\"273.092106\" y=\"354.958125\" style=\"stroke: #000000; stroke-width: 0.6\"/>\n      </g>\n     </g>\n    </g>\n    <g id=\"xtick_14\">\n     <g id=\"line2d_17\">\n      <g>\n       <use xlink:href=\"#m175cd7726d\" x=\"338.270983\" y=\"354.958125\" style=\"stroke: #000000; stroke-width: 0.6\"/>\n      </g>\n     </g>\n    </g>\n    <g id=\"xtick_15\">\n     <g id=\"line2d_18\">\n      <g>\n       <use xlink:href=\"#m175cd7726d\" x=\"371.367421\" y=\"354.958125\" style=\"stroke: #000000; stroke-width: 0.6\"/>\n      </g>\n     </g>\n    </g>\n    <g id=\"xtick_16\">\n     <g id=\"line2d_19\">\n      <g>\n       <use xlink:href=\"#m175cd7726d\" x=\"394.849717\" y=\"354.958125\" style=\"stroke: #000000; stroke-width: 0.6\"/>\n      </g>\n     </g>\n    </g>\n    <g id=\"xtick_17\">\n     <g id=\"line2d_20\">\n      <g>\n       <use xlink:href=\"#m175cd7726d\" x=\"413.064001\" y=\"354.958125\" style=\"stroke: #000000; stroke-width: 0.6\"/>\n      </g>\n     </g>\n    </g>\n    <g id=\"xtick_18\">\n     <g id=\"line2d_21\">\n      <g>\n       <use xlink:href=\"#m175cd7726d\" x=\"427.946155\" y=\"354.958125\" style=\"stroke: #000000; stroke-width: 0.6\"/>\n      </g>\n     </g>\n    </g>\n    <g id=\"xtick_19\">\n     <g id=\"line2d_22\">\n      <g>\n       <use xlink:href=\"#m175cd7726d\" x=\"440.528837\" y=\"354.958125\" style=\"stroke: #000000; stroke-width: 0.6\"/>\n      </g>\n     </g>\n    </g>\n    <g id=\"xtick_20\">\n     <g id=\"line2d_23\">\n      <g>\n       <use xlink:href=\"#m175cd7726d\" x=\"451.428452\" y=\"354.958125\" style=\"stroke: #000000; stroke-width: 0.6\"/>\n      </g>\n     </g>\n    </g>\n    <g id=\"xtick_21\">\n     <g id=\"line2d_24\">\n      <g>\n       <use xlink:href=\"#m175cd7726d\" x=\"461.042593\" y=\"354.958125\" style=\"stroke: #000000; stroke-width: 0.6\"/>\n      </g>\n     </g>\n    </g>\n    <g id=\"xtick_22\">\n     <g id=\"line2d_25\">\n      <g>\n       <use xlink:href=\"#m175cd7726d\" x=\"526.22147\" y=\"354.958125\" style=\"stroke: #000000; stroke-width: 0.6\"/>\n      </g>\n     </g>\n    </g>\n    <g id=\"xtick_23\">\n     <g id=\"line2d_26\">\n      <g>\n       <use xlink:href=\"#m175cd7726d\" x=\"559.317908\" y=\"354.958125\" style=\"stroke: #000000; stroke-width: 0.6\"/>\n      </g>\n     </g>\n    </g>\n    <g id=\"xtick_24\">\n     <g id=\"line2d_27\">\n      <g>\n       <use xlink:href=\"#m175cd7726d\" x=\"582.800204\" y=\"354.958125\" style=\"stroke: #000000; stroke-width: 0.6\"/>\n      </g>\n     </g>\n    </g>\n    <g id=\"xtick_25\">\n     <g id=\"line2d_28\">\n      <g>\n       <use xlink:href=\"#m175cd7726d\" x=\"601.014489\" y=\"354.958125\" style=\"stroke: #000000; stroke-width: 0.6\"/>\n      </g>\n     </g>\n    </g>\n    <g id=\"xtick_26\">\n     <g id=\"line2d_29\">\n      <g>\n       <use xlink:href=\"#m175cd7726d\" x=\"615.896642\" y=\"354.958125\" style=\"stroke: #000000; stroke-width: 0.6\"/>\n      </g>\n     </g>\n    </g>\n    <g id=\"text_4\">\n     <!-- 训练数据量 (对数刻度) -->\n     <g transform=\"translate(314.880469 383.234687) scale(0.1 -0.1)\">\n      <defs>\n       <path id=\"DejaVuSans-8bad\" d=\"M 319 -1131 \nL 319 4513 \nL 3519 4513 \nL 3519 -1131 \nL 319 -1131 \nz\nM 678 -775 \nL 3163 -775 \nL 3163 4153 \nL 678 4153 \nL 678 -775 \nz\n\" transform=\"scale(0.015625)\"/>\n       <path id=\"DejaVuSans-7ec3\" d=\"M 319 -1131 \nL 319 4513 \nL 3519 4513 \nL 3519 -1131 \nL 319 -1131 \nz\nM 678 -775 \nL 3163 -775 \nL 3163 4153 \nL 678 4153 \nL 678 -775 \nz\n\" transform=\"scale(0.015625)\"/>\n       <path id=\"DejaVuSans-6570\" d=\"M 319 -1131 \nL 319 4513 \nL 3519 4513 \nL 3519 -1131 \nL 319 -1131 \nz\nM 678 -775 \nL 3163 -775 \nL 3163 4153 \nL 678 4153 \nL 678 -775 \nz\n\" transform=\"scale(0.015625)\"/>\n       <path id=\"DejaVuSans-636e\" d=\"M 319 -1131 \nL 319 4513 \nL 3519 4513 \nL 3519 -1131 \nL 319 -1131 \nz\nM 678 -775 \nL 3163 -775 \nL 3163 4153 \nL 678 4153 \nL 678 -775 \nz\n\" transform=\"scale(0.015625)\"/>\n       <path id=\"DejaVuSans-91cf\" d=\"M 319 -1131 \nL 319 4513 \nL 3519 4513 \nL 3519 -1131 \nL 319 -1131 \nz\nM 678 -775 \nL 3163 -775 \nL 3163 4153 \nL 678 4153 \nL 678 -775 \nz\n\" transform=\"scale(0.015625)\"/>\n       <path id=\"DejaVuSans-20\" transform=\"scale(0.015625)\"/>\n       <path id=\"DejaVuSans-28\" d=\"M 1984 4856 \nQ 1566 4138 1362 3434 \nQ 1159 2731 1159 2009 \nQ 1159 1288 1364 580 \nQ 1569 -128 1984 -844 \nL 1484 -844 \nQ 1016 -109 783 600 \nQ 550 1309 550 2009 \nQ 550 2706 781 3412 \nQ 1013 4119 1484 4856 \nL 1984 4856 \nz\n\" transform=\"scale(0.015625)\"/>\n       <path id=\"DejaVuSans-5bf9\" d=\"M 319 -1131 \nL 319 4513 \nL 3519 4513 \nL 3519 -1131 \nL 319 -1131 \nz\nM 678 -775 \nL 3163 -775 \nL 3163 4153 \nL 678 4153 \nL 678 -775 \nz\n\" transform=\"scale(0.015625)\"/>\n       <path id=\"DejaVuSans-523b\" d=\"M 319 -1131 \nL 319 4513 \nL 3519 4513 \nL 3519 -1131 \nL 319 -1131 \nz\nM 678 -775 \nL 3163 -775 \nL 3163 4153 \nL 678 4153 \nL 678 -775 \nz\n\" transform=\"scale(0.015625)\"/>\n       <path id=\"DejaVuSans-5ea6\" d=\"M 319 -1131 \nL 319 4513 \nL 3519 4513 \nL 3519 -1131 \nL 319 -1131 \nz\nM 678 -775 \nL 3163 -775 \nL 3163 4153 \nL 678 4153 \nL 678 -775 \nz\n\" transform=\"scale(0.015625)\"/>\n       <path id=\"DejaVuSans-29\" d=\"M 513 4856 \nL 1013 4856 \nQ 1481 4119 1714 3412 \nQ 1947 2706 1947 2009 \nQ 1947 1309 1714 600 \nQ 1481 -109 1013 -844 \nL 513 -844 \nQ 928 -128 1133 580 \nQ 1338 1288 1338 2009 \nQ 1338 2731 1133 3434 \nQ 928 4138 513 4856 \nz\n\" transform=\"scale(0.015625)\"/>\n      </defs>\n      <use xlink:href=\"#DejaVuSans-8bad\"/>\n      <use xlink:href=\"#DejaVuSans-7ec3\" x=\"60.009766\"/>\n      <use xlink:href=\"#DejaVuSans-6570\" x=\"120.019531\"/>\n      <use xlink:href=\"#DejaVuSans-636e\" x=\"180.029297\"/>\n      <use xlink:href=\"#DejaVuSans-91cf\" x=\"240.039062\"/>\n      <use xlink:href=\"#DejaVuSans-20\" x=\"300.048828\"/>\n      <use xlink:href=\"#DejaVuSans-28\" x=\"331.835938\"/>\n      <use xlink:href=\"#DejaVuSans-5bf9\" x=\"370.849609\"/>\n      <use xlink:href=\"#DejaVuSans-6570\" x=\"430.859375\"/>\n      <use xlink:href=\"#DejaVuSans-523b\" x=\"490.869141\"/>\n      <use xlink:href=\"#DejaVuSans-5ea6\" x=\"550.878906\"/>\n      <use xlink:href=\"#DejaVuSans-29\" x=\"610.888672\"/>\n     </g>\n    </g>\n   </g>\n   <g id=\"matplotlib.axis_2\">\n    <g id=\"ytick_1\">\n     <g id=\"line2d_30\">\n      <path d=\"M 68.378125 35.930272 \nL 626.378125 35.930272 \n\" clip-path=\"url(#p1a38c7d816)\" style=\"fill: none; stroke: #b0b0b0; stroke-width: 0.8; stroke-linecap: square\"/>\n     </g>\n     <g id=\"line2d_31\">\n      <defs>\n       <path id=\"mdacc85970c\" d=\"M 0 0 \nL -3.5 0 \n\" style=\"stroke: #000000; stroke-width: 0.8\"/>\n      </defs>\n      <g>\n       <use xlink:href=\"#mdacc85970c\" x=\"68.378125\" y=\"35.930272\" style=\"stroke: #000000; stroke-width: 0.8\"/>\n      </g>\n     </g>\n     <g id=\"text_5\">\n      <!-- $\\mathdefault{10^{0}}$ -->\n      <g transform=\"translate(43.778125 39.729491) scale(0.1 -0.1)\">\n       <use xlink:href=\"#DejaVuSans-31\" transform=\"translate(0 0.765625)\"/>\n       <use xlink:href=\"#DejaVuSans-30\" transform=\"translate(63.623047 0.765625)\"/>\n       <use xlink:href=\"#DejaVuSans-30\" transform=\"translate(128.203125 39.046875) scale(0.7)\"/>\n      </g>\n     </g>\n    </g>\n    <g id=\"ytick_2\">\n     <g id=\"line2d_32\">\n      <defs>\n       <path id=\"m5e5d382d78\" d=\"M 0 0 \nL -2 0 \n\" style=\"stroke: #000000; stroke-width: 0.6\"/>\n      </defs>\n      <g>\n       <use xlink:href=\"#m5e5d382d78\" x=\"68.378125\" y=\"324.207078\" style=\"stroke: #000000; stroke-width: 0.6\"/>\n      </g>\n     </g>\n     <g id=\"text_6\">\n      <!-- $\\mathdefault{3\\times10^{-1}}$ -->\n      <g transform=\"translate(20.878125 328.006297) scale(0.1 -0.1)\">\n       <defs>\n        <path id=\"DejaVuSans-d7\" d=\"M 4488 3438 \nL 3059 2003 \nL 4488 575 \nL 4116 197 \nL 2681 1631 \nL 1247 197 \nL 878 575 \nL 2303 2003 \nL 878 3438 \nL 1247 3816 \nL 2681 2381 \nL 4116 3816 \nL 4488 3438 \nz\n\" transform=\"scale(0.015625)\"/>\n        <path id=\"DejaVuSans-2212\" d=\"M 678 2272 \nL 4684 2272 \nL 4684 1741 \nL 678 1741 \nL 678 2272 \nz\n\" transform=\"scale(0.015625)\"/>\n       </defs>\n       <use xlink:href=\"#DejaVuSans-33\" transform=\"translate(0 0.684375)\"/>\n       <use xlink:href=\"#DejaVuSans-d7\" transform=\"translate(83.105469 0.684375)\"/>\n       <use xlink:href=\"#DejaVuSans-31\" transform=\"translate(186.376953 0.684375)\"/>\n       <use xlink:href=\"#DejaVuSans-30\" transform=\"translate(250 0.684375)\"/>\n       <use xlink:href=\"#DejaVuSans-2212\" transform=\"translate(314.580078 38.965625) scale(0.7)\"/>\n       <use xlink:href=\"#DejaVuSans-31\" transform=\"translate(373.232422 38.965625) scale(0.7)\"/>\n      </g>\n     </g>\n    </g>\n    <g id=\"ytick_3\">\n     <g id=\"line2d_33\">\n      <g>\n       <use xlink:href=\"#m5e5d382d78\" x=\"68.378125\" y=\"255.325066\" style=\"stroke: #000000; stroke-width: 0.6\"/>\n      </g>\n     </g>\n     <g id=\"text_7\">\n      <!-- $\\mathdefault{4\\times10^{-1}}$ -->\n      <g transform=\"translate(20.878125 259.124285) scale(0.1 -0.1)\">\n       <defs>\n        <path id=\"DejaVuSans-34\" d=\"M 2419 4116 \nL 825 1625 \nL 2419 1625 \nL 2419 4116 \nz\nM 2253 4666 \nL 3047 4666 \nL 3047 1625 \nL 3713 1625 \nL 3713 1100 \nL 3047 1100 \nL 3047 0 \nL 2419 0 \nL 2419 1100 \nL 313 1100 \nL 313 1709 \nL 2253 4666 \nz\n\" transform=\"scale(0.015625)\"/>\n       </defs>\n       <use xlink:href=\"#DejaVuSans-34\" transform=\"translate(0 0.684375)\"/>\n       <use xlink:href=\"#DejaVuSans-d7\" transform=\"translate(83.105469 0.684375)\"/>\n       <use xlink:href=\"#DejaVuSans-31\" transform=\"translate(186.376953 0.684375)\"/>\n       <use xlink:href=\"#DejaVuSans-30\" transform=\"translate(250 0.684375)\"/>\n       <use xlink:href=\"#DejaVuSans-2212\" transform=\"translate(314.580078 38.965625) scale(0.7)\"/>\n       <use xlink:href=\"#DejaVuSans-31\" transform=\"translate(373.232422 38.965625) scale(0.7)\"/>\n      </g>\n     </g>\n    </g>\n    <g id=\"ytick_4\">\n     <g id=\"line2d_34\">\n      <g>\n       <use xlink:href=\"#m5e5d382d78\" x=\"68.378125\" y=\"201.896027\" style=\"stroke: #000000; stroke-width: 0.6\"/>\n      </g>\n     </g>\n    </g>\n    <g id=\"ytick_5\">\n     <g id=\"line2d_35\">\n      <g>\n       <use xlink:href=\"#m5e5d382d78\" x=\"68.378125\" y=\"158.241323\" style=\"stroke: #000000; stroke-width: 0.6\"/>\n      </g>\n     </g>\n     <g id=\"text_8\">\n      <!-- $\\mathdefault{6\\times10^{-1}}$ -->\n      <g transform=\"translate(20.878125 162.040542) scale(0.1 -0.1)\">\n       <defs>\n        <path id=\"DejaVuSans-36\" d=\"M 2113 2584 \nQ 1688 2584 1439 2293 \nQ 1191 2003 1191 1497 \nQ 1191 994 1439 701 \nQ 1688 409 2113 409 \nQ 2538 409 2786 701 \nQ 3034 994 3034 1497 \nQ 3034 2003 2786 2293 \nQ 2538 2584 2113 2584 \nz\nM 3366 4563 \nL 3366 3988 \nQ 3128 4100 2886 4159 \nQ 2644 4219 2406 4219 \nQ 1781 4219 1451 3797 \nQ 1122 3375 1075 2522 \nQ 1259 2794 1537 2939 \nQ 1816 3084 2150 3084 \nQ 2853 3084 3261 2657 \nQ 3669 2231 3669 1497 \nQ 3669 778 3244 343 \nQ 2819 -91 2113 -91 \nQ 1303 -91 875 529 \nQ 447 1150 447 2328 \nQ 447 3434 972 4092 \nQ 1497 4750 2381 4750 \nQ 2619 4750 2861 4703 \nQ 3103 4656 3366 4563 \nz\n\" transform=\"scale(0.015625)\"/>\n       </defs>\n       <use xlink:href=\"#DejaVuSans-36\" transform=\"translate(0 0.684375)\"/>\n       <use xlink:href=\"#DejaVuSans-d7\" transform=\"translate(83.105469 0.684375)\"/>\n       <use xlink:href=\"#DejaVuSans-31\" transform=\"translate(186.376953 0.684375)\"/>\n       <use xlink:href=\"#DejaVuSans-30\" transform=\"translate(250 0.684375)\"/>\n       <use xlink:href=\"#DejaVuSans-2212\" transform=\"translate(314.580078 38.965625) scale(0.7)\"/>\n       <use xlink:href=\"#DejaVuSans-31\" transform=\"translate(373.232422 38.965625) scale(0.7)\"/>\n      </g>\n     </g>\n    </g>\n    <g id=\"ytick_6\">\n     <g id=\"line2d_36\">\n      <g>\n       <use xlink:href=\"#m5e5d382d78\" x=\"68.378125\" y=\"121.331797\" style=\"stroke: #000000; stroke-width: 0.6\"/>\n      </g>\n     </g>\n    </g>\n    <g id=\"ytick_7\">\n     <g id=\"line2d_37\">\n      <g>\n       <use xlink:href=\"#m5e5d382d78\" x=\"68.378125\" y=\"89.359311\" style=\"stroke: #000000; stroke-width: 0.6\"/>\n      </g>\n     </g>\n    </g>\n    <g id=\"ytick_8\">\n     <g id=\"line2d_38\">\n      <g>\n       <use xlink:href=\"#m5e5d382d78\" x=\"68.378125\" y=\"61.15758\" style=\"stroke: #000000; stroke-width: 0.6\"/>\n      </g>\n     </g>\n    </g>\n    <g id=\"text_9\">\n     <!-- 测试误差 (对数刻度) -->\n     <g transform=\"translate(14.798438 218.135) rotate(-90) scale(0.1 -0.1)\">\n      <defs>\n       <path id=\"DejaVuSans-6d4b\" d=\"M 319 -1131 \nL 319 4513 \nL 3519 4513 \nL 3519 -1131 \nL 319 -1131 \nz\nM 678 -775 \nL 3163 -775 \nL 3163 4153 \nL 678 4153 \nL 678 -775 \nz\n\" transform=\"scale(0.015625)\"/>\n       <path id=\"DejaVuSans-8bd5\" d=\"M 319 -1131 \nL 319 4513 \nL 3519 4513 \nL 3519 -1131 \nL 319 -1131 \nz\nM 678 -775 \nL 3163 -775 \nL 3163 4153 \nL 678 4153 \nL 678 -775 \nz\n\" transform=\"scale(0.015625)\"/>\n       <path id=\"DejaVuSans-8bef\" d=\"M 319 -1131 \nL 319 4513 \nL 3519 4513 \nL 3519 -1131 \nL 319 -1131 \nz\nM 678 -775 \nL 3163 -775 \nL 3163 4153 \nL 678 4153 \nL 678 -775 \nz\n\" transform=\"scale(0.015625)\"/>\n       <path id=\"DejaVuSans-5dee\" d=\"M 319 -1131 \nL 319 4513 \nL 3519 4513 \nL 3519 -1131 \nL 319 -1131 \nz\nM 678 -775 \nL 3163 -775 \nL 3163 4153 \nL 678 4153 \nL 678 -775 \nz\n\" transform=\"scale(0.015625)\"/>\n      </defs>\n      <use xlink:href=\"#DejaVuSans-6d4b\"/>\n      <use xlink:href=\"#DejaVuSans-8bd5\" x=\"60.009766\"/>\n      <use xlink:href=\"#DejaVuSans-8bef\" x=\"120.019531\"/>\n      <use xlink:href=\"#DejaVuSans-5dee\" x=\"180.029297\"/>\n      <use xlink:href=\"#DejaVuSans-20\" x=\"240.039062\"/>\n      <use xlink:href=\"#DejaVuSans-28\" x=\"271.826172\"/>\n      <use xlink:href=\"#DejaVuSans-5bf9\" x=\"310.839844\"/>\n      <use xlink:href=\"#DejaVuSans-6570\" x=\"370.849609\"/>\n      <use xlink:href=\"#DejaVuSans-523b\" x=\"430.859375\"/>\n      <use xlink:href=\"#DejaVuSans-5ea6\" x=\"490.869141\"/>\n      <use xlink:href=\"#DejaVuSans-29\" x=\"550.878906\"/>\n     </g>\n    </g>\n   </g>\n   <g id=\"line2d_39\">\n    <path d=\"M 93.741761 37.438125 \nL 225.113514 228.433932 \nL 281.692249 171.389239 \nL 413.064001 339.838125 \nL 469.642736 279.310077 \nL 601.014489 306.232308 \n\" clip-path=\"url(#p1a38c7d816)\" style=\"fill: none; stroke: #1f77b4; stroke-width: 1.5; stroke-linecap: square\"/>\n    <defs>\n     <path id=\"ma2171d79f0\" d=\"M 0 3 \nC 0.795609 3 1.55874 2.683901 2.12132 2.12132 \nC 2.683901 1.55874 3 0.795609 3 0 \nC 3 -0.795609 2.683901 -1.55874 2.12132 -2.12132 \nC 1.55874 -2.683901 0.795609 -3 0 -3 \nC -0.795609 -3 -1.55874 -2.683901 -2.12132 -2.12132 \nC -2.683901 -1.55874 -3 -0.795609 -3 0 \nC -3 0.795609 -2.683901 1.55874 -2.12132 2.12132 \nC -1.55874 2.683901 -0.795609 3 0 3 \nz\n\" style=\"stroke: #1f77b4\"/>\n    </defs>\n    <g clip-path=\"url(#p1a38c7d816)\">\n     <use xlink:href=\"#ma2171d79f0\" x=\"93.741761\" y=\"37.438125\" style=\"fill: #1f77b4; stroke: #1f77b4\"/>\n     <use xlink:href=\"#ma2171d79f0\" x=\"225.113514\" y=\"228.433932\" style=\"fill: #1f77b4; stroke: #1f77b4\"/>\n     <use xlink:href=\"#ma2171d79f0\" x=\"281.692249\" y=\"171.389239\" style=\"fill: #1f77b4; stroke: #1f77b4\"/>\n     <use xlink:href=\"#ma2171d79f0\" x=\"413.064001\" y=\"339.838125\" style=\"fill: #1f77b4; stroke: #1f77b4\"/>\n     <use xlink:href=\"#ma2171d79f0\" x=\"469.642736\" y=\"279.310077\" style=\"fill: #1f77b4; stroke: #1f77b4\"/>\n     <use xlink:href=\"#ma2171d79f0\" x=\"601.014489\" y=\"306.232308\" style=\"fill: #1f77b4; stroke: #1f77b4\"/>\n    </g>\n   </g>\n   <g id=\"patch_3\">\n    <path d=\"M 68.378125 354.958125 \nL 68.378125 22.318125 \n\" style=\"fill: none; stroke: #000000; stroke-width: 0.8; stroke-linejoin: miter; stroke-linecap: square\"/>\n   </g>\n   <g id=\"patch_4\">\n    <path d=\"M 626.378125 354.958125 \nL 626.378125 22.318125 \n\" style=\"fill: none; stroke: #000000; stroke-width: 0.8; stroke-linejoin: miter; stroke-linecap: square\"/>\n   </g>\n   <g id=\"patch_5\">\n    <path d=\"M 68.378125 354.958125 \nL 626.378125 354.958125 \n\" style=\"fill: none; stroke: #000000; stroke-width: 0.8; stroke-linejoin: miter; stroke-linecap: square\"/>\n   </g>\n   <g id=\"patch_6\">\n    <path d=\"M 68.378125 22.318125 \nL 626.378125 22.318125 \n\" style=\"fill: none; stroke: #000000; stroke-width: 0.8; stroke-linejoin: miter; stroke-linecap: square\"/>\n   </g>\n   <g id=\"text_10\">\n    <!-- 模型误差与数据量的关系 -->\n    <g transform=\"translate(307.767812 16.318125) scale(0.12 -0.12)\">\n     <defs>\n      <path id=\"DejaVuSans-6a21\" d=\"M 319 -1131 \nL 319 4513 \nL 3519 4513 \nL 3519 -1131 \nL 319 -1131 \nz\nM 678 -775 \nL 3163 -775 \nL 3163 4153 \nL 678 4153 \nL 678 -775 \nz\n\" transform=\"scale(0.015625)\"/>\n      <path id=\"DejaVuSans-578b\" d=\"M 319 -1131 \nL 319 4513 \nL 3519 4513 \nL 3519 -1131 \nL 319 -1131 \nz\nM 678 -775 \nL 3163 -775 \nL 3163 4153 \nL 678 4153 \nL 678 -775 \nz\n\" transform=\"scale(0.015625)\"/>\n      <path id=\"DejaVuSans-4e0e\" d=\"M 319 -1131 \nL 319 4513 \nL 3519 4513 \nL 3519 -1131 \nL 319 -1131 \nz\nM 678 -775 \nL 3163 -775 \nL 3163 4153 \nL 678 4153 \nL 678 -775 \nz\n\" transform=\"scale(0.015625)\"/>\n      <path id=\"DejaVuSans-7684\" d=\"M 319 -1131 \nL 319 4513 \nL 3519 4513 \nL 3519 -1131 \nL 319 -1131 \nz\nM 678 -775 \nL 3163 -775 \nL 3163 4153 \nL 678 4153 \nL 678 -775 \nz\n\" transform=\"scale(0.015625)\"/>\n      <path id=\"DejaVuSans-5173\" d=\"M 319 -1131 \nL 319 4513 \nL 3519 4513 \nL 3519 -1131 \nL 319 -1131 \nz\nM 678 -775 \nL 3163 -775 \nL 3163 4153 \nL 678 4153 \nL 678 -775 \nz\n\" transform=\"scale(0.015625)\"/>\n      <path id=\"DejaVuSans-7cfb\" d=\"M 319 -1131 \nL 319 4513 \nL 3519 4513 \nL 3519 -1131 \nL 319 -1131 \nz\nM 678 -775 \nL 3163 -775 \nL 3163 4153 \nL 678 4153 \nL 678 -775 \nz\n\" transform=\"scale(0.015625)\"/>\n     </defs>\n     <use xlink:href=\"#DejaVuSans-6a21\"/>\n     <use xlink:href=\"#DejaVuSans-578b\" x=\"60.009766\"/>\n     <use xlink:href=\"#DejaVuSans-8bef\" x=\"120.019531\"/>\n     <use xlink:href=\"#DejaVuSans-5dee\" x=\"180.029297\"/>\n     <use xlink:href=\"#DejaVuSans-4e0e\" x=\"240.039062\"/>\n     <use xlink:href=\"#DejaVuSans-6570\" x=\"300.048828\"/>\n     <use xlink:href=\"#DejaVuSans-636e\" x=\"360.058594\"/>\n     <use xlink:href=\"#DejaVuSans-91cf\" x=\"420.068359\"/>\n     <use xlink:href=\"#DejaVuSans-7684\" x=\"480.078125\"/>\n     <use xlink:href=\"#DejaVuSans-5173\" x=\"540.087891\"/>\n     <use xlink:href=\"#DejaVuSans-7cfb\" x=\"600.097656\"/>\n    </g>\n   </g>\n  </g>\n </g>\n <defs>\n  <clipPath id=\"p1a38c7d816\">\n   <rect x=\"68.378125\" y=\"22.318125\" width=\"558\" height=\"332.64\"/>\n  </clipPath>\n </defs>\n</svg>\n"
          },
          "metadata": {}
        }
      ]
    }
  ],
  "metadata": {
    "kernelspec": {
      "display_name": "Python 3",
      "name": "python3"
    },
    "language_info": {
      "name": "python"
    },
    "required_libs": [],
    "colab": {
      "provenance": []
    }
  },
  "nbformat": 4,
  "nbformat_minor": 5
}