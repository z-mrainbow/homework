{
  "cells": [
    {
      "cell_type": "markdown",
      "id": "608018c8",
      "metadata": {
        "id": "608018c8"
      },
      "source": [
        "The following additional libraries are needed to run this\n",
        "notebook. Note that running on Colab is experimental, please report a Github\n",
        "issue if you have any problem."
      ]
    },
    {
      "cell_type": "code",
      "execution_count": 1,
      "id": "91b3a9ef",
      "metadata": {
        "id": "91b3a9ef",
        "outputId": "23df2872-98d6-48f0-b6b1-4212bfc434d7",
        "colab": {
          "base_uri": "https://localhost:8080/",
          "height": 1000
        }
      },
      "outputs": [
        {
          "output_type": "stream",
          "name": "stdout",
          "text": [
            "Collecting d2l==1.0.3\n",
            "  Downloading d2l-1.0.3-py3-none-any.whl.metadata (556 bytes)\n",
            "Collecting jupyter==1.0.0 (from d2l==1.0.3)\n",
            "  Downloading jupyter-1.0.0-py2.py3-none-any.whl.metadata (995 bytes)\n",
            "Collecting numpy==1.23.5 (from d2l==1.0.3)\n",
            "  Downloading numpy-1.23.5-cp311-cp311-manylinux_2_17_x86_64.manylinux2014_x86_64.whl.metadata (2.3 kB)\n",
            "Collecting matplotlib==3.7.2 (from d2l==1.0.3)\n",
            "  Downloading matplotlib-3.7.2-cp311-cp311-manylinux_2_17_x86_64.manylinux2014_x86_64.whl.metadata (5.6 kB)\n",
            "Collecting matplotlib-inline==0.1.6 (from d2l==1.0.3)\n",
            "  Downloading matplotlib_inline-0.1.6-py3-none-any.whl.metadata (2.8 kB)\n",
            "Collecting requests==2.31.0 (from d2l==1.0.3)\n",
            "  Downloading requests-2.31.0-py3-none-any.whl.metadata (4.6 kB)\n",
            "Collecting pandas==2.0.3 (from d2l==1.0.3)\n",
            "  Downloading pandas-2.0.3-cp311-cp311-manylinux_2_17_x86_64.manylinux2014_x86_64.whl.metadata (18 kB)\n",
            "Collecting scipy==1.10.1 (from d2l==1.0.3)\n",
            "  Downloading scipy-1.10.1-cp311-cp311-manylinux_2_17_x86_64.manylinux2014_x86_64.whl.metadata (58 kB)\n",
            "\u001b[2K     \u001b[90m━━━━━━━━━━━━━━━━━━━━━━━━━━━━━━━━━━━━━━━\u001b[0m \u001b[32m58.9/58.9 kB\u001b[0m \u001b[31m639.7 kB/s\u001b[0m eta \u001b[36m0:00:00\u001b[0m\n",
            "\u001b[?25hRequirement already satisfied: notebook in /usr/local/lib/python3.11/dist-packages (from jupyter==1.0.0->d2l==1.0.3) (6.5.7)\n",
            "Collecting qtconsole (from jupyter==1.0.0->d2l==1.0.3)\n",
            "  Downloading qtconsole-5.6.1-py3-none-any.whl.metadata (5.0 kB)\n",
            "Requirement already satisfied: jupyter-console in /usr/local/lib/python3.11/dist-packages (from jupyter==1.0.0->d2l==1.0.3) (6.1.0)\n",
            "Requirement already satisfied: nbconvert in /usr/local/lib/python3.11/dist-packages (from jupyter==1.0.0->d2l==1.0.3) (7.16.6)\n",
            "Requirement already satisfied: ipykernel in /usr/local/lib/python3.11/dist-packages (from jupyter==1.0.0->d2l==1.0.3) (6.17.1)\n",
            "Requirement already satisfied: ipywidgets in /usr/local/lib/python3.11/dist-packages (from jupyter==1.0.0->d2l==1.0.3) (7.7.1)\n",
            "Requirement already satisfied: contourpy>=1.0.1 in /usr/local/lib/python3.11/dist-packages (from matplotlib==3.7.2->d2l==1.0.3) (1.3.2)\n",
            "Requirement already satisfied: cycler>=0.10 in /usr/local/lib/python3.11/dist-packages (from matplotlib==3.7.2->d2l==1.0.3) (0.12.1)\n",
            "Requirement already satisfied: fonttools>=4.22.0 in /usr/local/lib/python3.11/dist-packages (from matplotlib==3.7.2->d2l==1.0.3) (4.57.0)\n",
            "Requirement already satisfied: kiwisolver>=1.0.1 in /usr/local/lib/python3.11/dist-packages (from matplotlib==3.7.2->d2l==1.0.3) (1.4.8)\n",
            "Requirement already satisfied: packaging>=20.0 in /usr/local/lib/python3.11/dist-packages (from matplotlib==3.7.2->d2l==1.0.3) (24.2)\n",
            "Requirement already satisfied: pillow>=6.2.0 in /usr/local/lib/python3.11/dist-packages (from matplotlib==3.7.2->d2l==1.0.3) (11.1.0)\n",
            "Collecting pyparsing<3.1,>=2.3.1 (from matplotlib==3.7.2->d2l==1.0.3)\n",
            "  Downloading pyparsing-3.0.9-py3-none-any.whl.metadata (4.2 kB)\n",
            "Requirement already satisfied: python-dateutil>=2.7 in /usr/local/lib/python3.11/dist-packages (from matplotlib==3.7.2->d2l==1.0.3) (2.8.2)\n",
            "Requirement already satisfied: traitlets in /usr/local/lib/python3.11/dist-packages (from matplotlib-inline==0.1.6->d2l==1.0.3) (5.7.1)\n",
            "Requirement already satisfied: pytz>=2020.1 in /usr/local/lib/python3.11/dist-packages (from pandas==2.0.3->d2l==1.0.3) (2025.2)\n",
            "Requirement already satisfied: tzdata>=2022.1 in /usr/local/lib/python3.11/dist-packages (from pandas==2.0.3->d2l==1.0.3) (2025.2)\n",
            "Requirement already satisfied: charset-normalizer<4,>=2 in /usr/local/lib/python3.11/dist-packages (from requests==2.31.0->d2l==1.0.3) (3.4.1)\n",
            "Requirement already satisfied: idna<4,>=2.5 in /usr/local/lib/python3.11/dist-packages (from requests==2.31.0->d2l==1.0.3) (3.10)\n",
            "Requirement already satisfied: urllib3<3,>=1.21.1 in /usr/local/lib/python3.11/dist-packages (from requests==2.31.0->d2l==1.0.3) (2.3.0)\n",
            "Requirement already satisfied: certifi>=2017.4.17 in /usr/local/lib/python3.11/dist-packages (from requests==2.31.0->d2l==1.0.3) (2025.1.31)\n",
            "Requirement already satisfied: six>=1.5 in /usr/local/lib/python3.11/dist-packages (from python-dateutil>=2.7->matplotlib==3.7.2->d2l==1.0.3) (1.17.0)\n",
            "Requirement already satisfied: debugpy>=1.0 in /usr/local/lib/python3.11/dist-packages (from ipykernel->jupyter==1.0.0->d2l==1.0.3) (1.8.0)\n",
            "Requirement already satisfied: ipython>=7.23.1 in /usr/local/lib/python3.11/dist-packages (from ipykernel->jupyter==1.0.0->d2l==1.0.3) (7.34.0)\n",
            "Requirement already satisfied: jupyter-client>=6.1.12 in /usr/local/lib/python3.11/dist-packages (from ipykernel->jupyter==1.0.0->d2l==1.0.3) (6.1.12)\n",
            "Requirement already satisfied: nest-asyncio in /usr/local/lib/python3.11/dist-packages (from ipykernel->jupyter==1.0.0->d2l==1.0.3) (1.6.0)\n",
            "Requirement already satisfied: psutil in /usr/local/lib/python3.11/dist-packages (from ipykernel->jupyter==1.0.0->d2l==1.0.3) (5.9.5)\n",
            "Requirement already satisfied: pyzmq>=17 in /usr/local/lib/python3.11/dist-packages (from ipykernel->jupyter==1.0.0->d2l==1.0.3) (24.0.1)\n",
            "Requirement already satisfied: tornado>=6.1 in /usr/local/lib/python3.11/dist-packages (from ipykernel->jupyter==1.0.0->d2l==1.0.3) (6.4.2)\n",
            "Requirement already satisfied: ipython-genutils~=0.2.0 in /usr/local/lib/python3.11/dist-packages (from ipywidgets->jupyter==1.0.0->d2l==1.0.3) (0.2.0)\n",
            "Requirement already satisfied: widgetsnbextension~=3.6.0 in /usr/local/lib/python3.11/dist-packages (from ipywidgets->jupyter==1.0.0->d2l==1.0.3) (3.6.10)\n",
            "Requirement already satisfied: jupyterlab-widgets>=1.0.0 in /usr/local/lib/python3.11/dist-packages (from ipywidgets->jupyter==1.0.0->d2l==1.0.3) (3.0.14)\n",
            "Requirement already satisfied: prompt-toolkit!=3.0.0,!=3.0.1,<3.1.0,>=2.0.0 in /usr/local/lib/python3.11/dist-packages (from jupyter-console->jupyter==1.0.0->d2l==1.0.3) (3.0.51)\n",
            "Requirement already satisfied: pygments in /usr/local/lib/python3.11/dist-packages (from jupyter-console->jupyter==1.0.0->d2l==1.0.3) (2.18.0)\n",
            "Requirement already satisfied: beautifulsoup4 in /usr/local/lib/python3.11/dist-packages (from nbconvert->jupyter==1.0.0->d2l==1.0.3) (4.13.4)\n",
            "Requirement already satisfied: bleach!=5.0.0 in /usr/local/lib/python3.11/dist-packages (from bleach[css]!=5.0.0->nbconvert->jupyter==1.0.0->d2l==1.0.3) (6.2.0)\n",
            "Requirement already satisfied: defusedxml in /usr/local/lib/python3.11/dist-packages (from nbconvert->jupyter==1.0.0->d2l==1.0.3) (0.7.1)\n",
            "Requirement already satisfied: jinja2>=3.0 in /usr/local/lib/python3.11/dist-packages (from nbconvert->jupyter==1.0.0->d2l==1.0.3) (3.1.6)\n",
            "Requirement already satisfied: jupyter-core>=4.7 in /usr/local/lib/python3.11/dist-packages (from nbconvert->jupyter==1.0.0->d2l==1.0.3) (5.7.2)\n",
            "Requirement already satisfied: jupyterlab-pygments in /usr/local/lib/python3.11/dist-packages (from nbconvert->jupyter==1.0.0->d2l==1.0.3) (0.3.0)\n",
            "Requirement already satisfied: markupsafe>=2.0 in /usr/local/lib/python3.11/dist-packages (from nbconvert->jupyter==1.0.0->d2l==1.0.3) (3.0.2)\n",
            "Requirement already satisfied: mistune<4,>=2.0.3 in /usr/local/lib/python3.11/dist-packages (from nbconvert->jupyter==1.0.0->d2l==1.0.3) (3.1.3)\n",
            "Requirement already satisfied: nbclient>=0.5.0 in /usr/local/lib/python3.11/dist-packages (from nbconvert->jupyter==1.0.0->d2l==1.0.3) (0.10.2)\n",
            "Requirement already satisfied: nbformat>=5.7 in /usr/local/lib/python3.11/dist-packages (from nbconvert->jupyter==1.0.0->d2l==1.0.3) (5.10.4)\n",
            "Requirement already satisfied: pandocfilters>=1.4.1 in /usr/local/lib/python3.11/dist-packages (from nbconvert->jupyter==1.0.0->d2l==1.0.3) (1.5.1)\n",
            "Requirement already satisfied: argon2-cffi in /usr/local/lib/python3.11/dist-packages (from notebook->jupyter==1.0.0->d2l==1.0.3) (23.1.0)\n",
            "Requirement already satisfied: Send2Trash>=1.8.0 in /usr/local/lib/python3.11/dist-packages (from notebook->jupyter==1.0.0->d2l==1.0.3) (1.8.3)\n",
            "Requirement already satisfied: terminado>=0.8.3 in /usr/local/lib/python3.11/dist-packages (from notebook->jupyter==1.0.0->d2l==1.0.3) (0.18.1)\n",
            "Requirement already satisfied: prometheus-client in /usr/local/lib/python3.11/dist-packages (from notebook->jupyter==1.0.0->d2l==1.0.3) (0.21.1)\n",
            "Requirement already satisfied: nbclassic>=0.4.7 in /usr/local/lib/python3.11/dist-packages (from notebook->jupyter==1.0.0->d2l==1.0.3) (1.2.0)\n",
            "Collecting qtpy>=2.4.0 (from qtconsole->jupyter==1.0.0->d2l==1.0.3)\n",
            "  Downloading QtPy-2.4.3-py3-none-any.whl.metadata (12 kB)\n",
            "Requirement already satisfied: webencodings in /usr/local/lib/python3.11/dist-packages (from bleach!=5.0.0->bleach[css]!=5.0.0->nbconvert->jupyter==1.0.0->d2l==1.0.3) (0.5.1)\n",
            "Requirement already satisfied: tinycss2<1.5,>=1.1.0 in /usr/local/lib/python3.11/dist-packages (from bleach[css]!=5.0.0->nbconvert->jupyter==1.0.0->d2l==1.0.3) (1.4.0)\n",
            "Requirement already satisfied: setuptools>=18.5 in /usr/local/lib/python3.11/dist-packages (from ipython>=7.23.1->ipykernel->jupyter==1.0.0->d2l==1.0.3) (75.2.0)\n",
            "Collecting jedi>=0.16 (from ipython>=7.23.1->ipykernel->jupyter==1.0.0->d2l==1.0.3)\n",
            "  Downloading jedi-0.19.2-py2.py3-none-any.whl.metadata (22 kB)\n",
            "Requirement already satisfied: decorator in /usr/local/lib/python3.11/dist-packages (from ipython>=7.23.1->ipykernel->jupyter==1.0.0->d2l==1.0.3) (4.4.2)\n",
            "Requirement already satisfied: pickleshare in /usr/local/lib/python3.11/dist-packages (from ipython>=7.23.1->ipykernel->jupyter==1.0.0->d2l==1.0.3) (0.7.5)\n",
            "Requirement already satisfied: backcall in /usr/local/lib/python3.11/dist-packages (from ipython>=7.23.1->ipykernel->jupyter==1.0.0->d2l==1.0.3) (0.2.0)\n",
            "Requirement already satisfied: pexpect>4.3 in /usr/local/lib/python3.11/dist-packages (from ipython>=7.23.1->ipykernel->jupyter==1.0.0->d2l==1.0.3) (4.9.0)\n",
            "Requirement already satisfied: platformdirs>=2.5 in /usr/local/lib/python3.11/dist-packages (from jupyter-core>=4.7->nbconvert->jupyter==1.0.0->d2l==1.0.3) (4.3.7)\n",
            "Requirement already satisfied: notebook-shim>=0.2.3 in /usr/local/lib/python3.11/dist-packages (from nbclassic>=0.4.7->notebook->jupyter==1.0.0->d2l==1.0.3) (0.2.4)\n",
            "Requirement already satisfied: fastjsonschema>=2.15 in /usr/local/lib/python3.11/dist-packages (from nbformat>=5.7->nbconvert->jupyter==1.0.0->d2l==1.0.3) (2.21.1)\n",
            "Requirement already satisfied: jsonschema>=2.6 in /usr/local/lib/python3.11/dist-packages (from nbformat>=5.7->nbconvert->jupyter==1.0.0->d2l==1.0.3) (4.23.0)\n",
            "Requirement already satisfied: wcwidth in /usr/local/lib/python3.11/dist-packages (from prompt-toolkit!=3.0.0,!=3.0.1,<3.1.0,>=2.0.0->jupyter-console->jupyter==1.0.0->d2l==1.0.3) (0.2.13)\n",
            "Requirement already satisfied: ptyprocess in /usr/local/lib/python3.11/dist-packages (from terminado>=0.8.3->notebook->jupyter==1.0.0->d2l==1.0.3) (0.7.0)\n",
            "Requirement already satisfied: argon2-cffi-bindings in /usr/local/lib/python3.11/dist-packages (from argon2-cffi->notebook->jupyter==1.0.0->d2l==1.0.3) (21.2.0)\n",
            "Requirement already satisfied: soupsieve>1.2 in /usr/local/lib/python3.11/dist-packages (from beautifulsoup4->nbconvert->jupyter==1.0.0->d2l==1.0.3) (2.6)\n",
            "Requirement already satisfied: typing-extensions>=4.0.0 in /usr/local/lib/python3.11/dist-packages (from beautifulsoup4->nbconvert->jupyter==1.0.0->d2l==1.0.3) (4.13.2)\n",
            "Requirement already satisfied: parso<0.9.0,>=0.8.4 in /usr/local/lib/python3.11/dist-packages (from jedi>=0.16->ipython>=7.23.1->ipykernel->jupyter==1.0.0->d2l==1.0.3) (0.8.4)\n",
            "Requirement already satisfied: attrs>=22.2.0 in /usr/local/lib/python3.11/dist-packages (from jsonschema>=2.6->nbformat>=5.7->nbconvert->jupyter==1.0.0->d2l==1.0.3) (25.3.0)\n",
            "Requirement already satisfied: jsonschema-specifications>=2023.03.6 in /usr/local/lib/python3.11/dist-packages (from jsonschema>=2.6->nbformat>=5.7->nbconvert->jupyter==1.0.0->d2l==1.0.3) (2024.10.1)\n",
            "Requirement already satisfied: referencing>=0.28.4 in /usr/local/lib/python3.11/dist-packages (from jsonschema>=2.6->nbformat>=5.7->nbconvert->jupyter==1.0.0->d2l==1.0.3) (0.36.2)\n",
            "Requirement already satisfied: rpds-py>=0.7.1 in /usr/local/lib/python3.11/dist-packages (from jsonschema>=2.6->nbformat>=5.7->nbconvert->jupyter==1.0.0->d2l==1.0.3) (0.24.0)\n",
            "Requirement already satisfied: jupyter-server<3,>=1.8 in /usr/local/lib/python3.11/dist-packages (from notebook-shim>=0.2.3->nbclassic>=0.4.7->notebook->jupyter==1.0.0->d2l==1.0.3) (1.16.0)\n",
            "Requirement already satisfied: cffi>=1.0.1 in /usr/local/lib/python3.11/dist-packages (from argon2-cffi-bindings->argon2-cffi->notebook->jupyter==1.0.0->d2l==1.0.3) (1.17.1)\n",
            "Requirement already satisfied: pycparser in /usr/local/lib/python3.11/dist-packages (from cffi>=1.0.1->argon2-cffi-bindings->argon2-cffi->notebook->jupyter==1.0.0->d2l==1.0.3) (2.22)\n",
            "Requirement already satisfied: anyio>=3.1.0 in /usr/local/lib/python3.11/dist-packages (from jupyter-server<3,>=1.8->notebook-shim>=0.2.3->nbclassic>=0.4.7->notebook->jupyter==1.0.0->d2l==1.0.3) (4.9.0)\n",
            "Requirement already satisfied: websocket-client in /usr/local/lib/python3.11/dist-packages (from jupyter-server<3,>=1.8->notebook-shim>=0.2.3->nbclassic>=0.4.7->notebook->jupyter==1.0.0->d2l==1.0.3) (1.8.0)\n",
            "Requirement already satisfied: sniffio>=1.1 in /usr/local/lib/python3.11/dist-packages (from anyio>=3.1.0->jupyter-server<3,>=1.8->notebook-shim>=0.2.3->nbclassic>=0.4.7->notebook->jupyter==1.0.0->d2l==1.0.3) (1.3.1)\n",
            "Downloading d2l-1.0.3-py3-none-any.whl (111 kB)\n",
            "\u001b[2K   \u001b[90m━━━━━━━━━━━━━━━━━━━━━━━━━━━━━━━━━━━━━━━━\u001b[0m \u001b[32m111.7/111.7 kB\u001b[0m \u001b[31m4.5 MB/s\u001b[0m eta \u001b[36m0:00:00\u001b[0m\n",
            "\u001b[?25hDownloading jupyter-1.0.0-py2.py3-none-any.whl (2.7 kB)\n",
            "Downloading matplotlib-3.7.2-cp311-cp311-manylinux_2_17_x86_64.manylinux2014_x86_64.whl (11.6 MB)\n",
            "\u001b[2K   \u001b[90m━━━━━━━━━━━━━━━━━━━━━━━━━━━━━━━━━━━━━━━━\u001b[0m \u001b[32m11.6/11.6 MB\u001b[0m \u001b[31m61.8 MB/s\u001b[0m eta \u001b[36m0:00:00\u001b[0m\n",
            "\u001b[?25hDownloading matplotlib_inline-0.1.6-py3-none-any.whl (9.4 kB)\n",
            "Downloading numpy-1.23.5-cp311-cp311-manylinux_2_17_x86_64.manylinux2014_x86_64.whl (17.1 MB)\n",
            "\u001b[2K   \u001b[90m━━━━━━━━━━━━━━━━━━━━━━━━━━━━━━━━━━━━━━━━\u001b[0m \u001b[32m17.1/17.1 MB\u001b[0m \u001b[31m60.4 MB/s\u001b[0m eta \u001b[36m0:00:00\u001b[0m\n",
            "\u001b[?25hDownloading pandas-2.0.3-cp311-cp311-manylinux_2_17_x86_64.manylinux2014_x86_64.whl (12.2 MB)\n",
            "\u001b[2K   \u001b[90m━━━━━━━━━━━━━━━━━━━━━━━━━━━━━━━━━━━━━━━━\u001b[0m \u001b[32m12.2/12.2 MB\u001b[0m \u001b[31m70.5 MB/s\u001b[0m eta \u001b[36m0:00:00\u001b[0m\n",
            "\u001b[?25hDownloading requests-2.31.0-py3-none-any.whl (62 kB)\n",
            "\u001b[2K   \u001b[90m━━━━━━━━━━━━━━━━━━━━━━━━━━━━━━━━━━━━━━━━\u001b[0m \u001b[32m62.6/62.6 kB\u001b[0m \u001b[31m3.7 MB/s\u001b[0m eta \u001b[36m0:00:00\u001b[0m\n",
            "\u001b[?25hDownloading scipy-1.10.1-cp311-cp311-manylinux_2_17_x86_64.manylinux2014_x86_64.whl (34.1 MB)\n",
            "\u001b[2K   \u001b[90m━━━━━━━━━━━━━━━━━━━━━━━━━━━━━━━━━━━━━━━━\u001b[0m \u001b[32m34.1/34.1 MB\u001b[0m \u001b[31m16.2 MB/s\u001b[0m eta \u001b[36m0:00:00\u001b[0m\n",
            "\u001b[?25hDownloading pyparsing-3.0.9-py3-none-any.whl (98 kB)\n",
            "\u001b[2K   \u001b[90m━━━━━━━━━━━━━━━━━━━━━━━━━━━━━━━━━━━━━━━━\u001b[0m \u001b[32m98.3/98.3 kB\u001b[0m \u001b[31m4.0 MB/s\u001b[0m eta \u001b[36m0:00:00\u001b[0m\n",
            "\u001b[?25hDownloading qtconsole-5.6.1-py3-none-any.whl (125 kB)\n",
            "\u001b[2K   \u001b[90m━━━━━━━━━━━━━━━━━━━━━━━━━━━━━━━━━━━━━━━━\u001b[0m \u001b[32m125.0/125.0 kB\u001b[0m \u001b[31m7.8 MB/s\u001b[0m eta \u001b[36m0:00:00\u001b[0m\n",
            "\u001b[?25hDownloading QtPy-2.4.3-py3-none-any.whl (95 kB)\n",
            "\u001b[2K   \u001b[90m━━━━━━━━━━━━━━━━━━━━━━━━━━━━━━━━━━━━━━━━\u001b[0m \u001b[32m95.0/95.0 kB\u001b[0m \u001b[31m5.5 MB/s\u001b[0m eta \u001b[36m0:00:00\u001b[0m\n",
            "\u001b[?25hDownloading jedi-0.19.2-py2.py3-none-any.whl (1.6 MB)\n",
            "\u001b[2K   \u001b[90m━━━━━━━━━━━━━━━━━━━━━━━━━━━━━━━━━━━━━━━━\u001b[0m \u001b[32m1.6/1.6 MB\u001b[0m \u001b[31m33.7 MB/s\u001b[0m eta \u001b[36m0:00:00\u001b[0m\n",
            "\u001b[?25hInstalling collected packages: requests, qtpy, pyparsing, numpy, matplotlib-inline, jedi, scipy, pandas, matplotlib, qtconsole, jupyter, d2l\n",
            "  Attempting uninstall: requests\n",
            "    Found existing installation: requests 2.32.3\n",
            "    Uninstalling requests-2.32.3:\n",
            "      Successfully uninstalled requests-2.32.3\n",
            "  Attempting uninstall: pyparsing\n",
            "    Found existing installation: pyparsing 3.2.3\n",
            "    Uninstalling pyparsing-3.2.3:\n",
            "      Successfully uninstalled pyparsing-3.2.3\n",
            "  Attempting uninstall: numpy\n",
            "    Found existing installation: numpy 2.0.2\n",
            "    Uninstalling numpy-2.0.2:\n",
            "      Successfully uninstalled numpy-2.0.2\n",
            "  Attempting uninstall: matplotlib-inline\n",
            "    Found existing installation: matplotlib-inline 0.1.7\n",
            "    Uninstalling matplotlib-inline-0.1.7:\n",
            "      Successfully uninstalled matplotlib-inline-0.1.7\n",
            "  Attempting uninstall: scipy\n",
            "    Found existing installation: scipy 1.14.1\n",
            "    Uninstalling scipy-1.14.1:\n",
            "      Successfully uninstalled scipy-1.14.1\n",
            "  Attempting uninstall: pandas\n",
            "    Found existing installation: pandas 2.2.2\n",
            "    Uninstalling pandas-2.2.2:\n",
            "      Successfully uninstalled pandas-2.2.2\n",
            "  Attempting uninstall: matplotlib\n",
            "    Found existing installation: matplotlib 3.10.0\n",
            "    Uninstalling matplotlib-3.10.0:\n",
            "      Successfully uninstalled matplotlib-3.10.0\n",
            "\u001b[31mERROR: pip's dependency resolver does not currently take into account all the packages that are installed. This behaviour is the source of the following dependency conflicts.\n",
            "google-colab 1.0.0 requires pandas==2.2.2, but you have pandas 2.0.3 which is incompatible.\n",
            "google-colab 1.0.0 requires requests==2.32.3, but you have requests 2.31.0 which is incompatible.\n",
            "thinc 8.3.6 requires numpy<3.0.0,>=2.0.0, but you have numpy 1.23.5 which is incompatible.\n",
            "chex 0.1.89 requires numpy>=1.24.1, but you have numpy 1.23.5 which is incompatible.\n",
            "mizani 0.13.3 requires pandas>=2.2.0, but you have pandas 2.0.3 which is incompatible.\n",
            "xarray 2025.1.2 requires numpy>=1.24, but you have numpy 1.23.5 which is incompatible.\n",
            "xarray 2025.1.2 requires pandas>=2.1, but you have pandas 2.0.3 which is incompatible.\n",
            "bigframes 1.42.0 requires numpy>=1.24.0, but you have numpy 1.23.5 which is incompatible.\n",
            "cvxpy 1.6.5 requires scipy>=1.11.0, but you have scipy 1.10.1 which is incompatible.\n",
            "albumentations 2.0.5 requires numpy>=1.24.4, but you have numpy 1.23.5 which is incompatible.\n",
            "scikit-image 0.25.2 requires numpy>=1.24, but you have numpy 1.23.5 which is incompatible.\n",
            "scikit-image 0.25.2 requires scipy>=1.11.4, but you have scipy 1.10.1 which is incompatible.\n",
            "jax 0.5.2 requires numpy>=1.25, but you have numpy 1.23.5 which is incompatible.\n",
            "jax 0.5.2 requires scipy>=1.11.1, but you have scipy 1.10.1 which is incompatible.\n",
            "albucore 0.0.23 requires numpy>=1.24.4, but you have numpy 1.23.5 which is incompatible.\n",
            "blosc2 3.3.0 requires numpy>=1.26, but you have numpy 1.23.5 which is incompatible.\n",
            "jaxlib 0.5.1 requires numpy>=1.25, but you have numpy 1.23.5 which is incompatible.\n",
            "jaxlib 0.5.1 requires scipy>=1.11.1, but you have scipy 1.10.1 which is incompatible.\n",
            "plotnine 0.14.5 requires matplotlib>=3.8.0, but you have matplotlib 3.7.2 which is incompatible.\n",
            "plotnine 0.14.5 requires pandas>=2.2.0, but you have pandas 2.0.3 which is incompatible.\n",
            "treescope 0.1.9 requires numpy>=1.25.2, but you have numpy 1.23.5 which is incompatible.\n",
            "imbalanced-learn 0.13.0 requires numpy<3,>=1.24.3, but you have numpy 1.23.5 which is incompatible.\n",
            "pymc 5.21.2 requires numpy>=1.25.0, but you have numpy 1.23.5 which is incompatible.\n",
            "tensorflow 2.18.0 requires numpy<2.1.0,>=1.26.0, but you have numpy 1.23.5 which is incompatible.\u001b[0m\u001b[31m\n",
            "\u001b[0mSuccessfully installed d2l-1.0.3 jedi-0.19.2 jupyter-1.0.0 matplotlib-3.7.2 matplotlib-inline-0.1.6 numpy-1.23.5 pandas-2.0.3 pyparsing-3.0.9 qtconsole-5.6.1 qtpy-2.4.3 requests-2.31.0 scipy-1.10.1\n"
          ]
        },
        {
          "output_type": "display_data",
          "data": {
            "application/vnd.colab-display-data+json": {
              "pip_warning": {
                "packages": [
                  "matplotlib",
                  "matplotlib_inline",
                  "mpl_toolkits",
                  "numpy"
                ]
              },
              "id": "fb6e97b5b5df459db0dc4600b2d0d6e0"
            }
          },
          "metadata": {}
        }
      ],
      "source": [
        "!pip install d2l==1.0.3\n"
      ]
    },
    {
      "cell_type": "markdown",
      "id": "d13df7ea",
      "metadata": {
        "origin_pos": 1,
        "id": "d13df7ea"
      },
      "source": [
        "# Synthetic Regression Data\n",
        ":label:`sec_synthetic-regression-data`\n",
        "\n",
        "\n",
        "Machine learning is all about extracting information from data.\n",
        "So you might wonder, what could we possibly learn from synthetic data?\n",
        "While we might not care intrinsically about the patterns\n",
        "that we ourselves baked into an artificial data generating model,\n",
        "such datasets are nevertheless useful for didactic purposes,\n",
        "helping us to evaluate the properties of our learning\n",
        "algorithms and to confirm that our implementations work as expected.\n",
        "For example, if we create data for which the correct parameters are known *a priori*,\n",
        "then we can check that our model can in fact recover them.\n"
      ]
    },
    {
      "cell_type": "code",
      "execution_count": 1,
      "id": "b9773b7e",
      "metadata": {
        "execution": {
          "iopub.execute_input": "2023-08-18T19:36:11.561594Z",
          "iopub.status.busy": "2023-08-18T19:36:11.560983Z",
          "iopub.status.idle": "2023-08-18T19:36:15.344149Z",
          "shell.execute_reply": "2023-08-18T19:36:15.342706Z"
        },
        "origin_pos": 3,
        "tab": [
          "pytorch"
        ],
        "id": "b9773b7e"
      },
      "outputs": [],
      "source": [
        "%matplotlib inline\n",
        "import random\n",
        "import torch\n",
        "from d2l import torch as d2l"
      ]
    },
    {
      "cell_type": "markdown",
      "id": "4b65a3a2",
      "metadata": {
        "origin_pos": 6,
        "id": "4b65a3a2"
      },
      "source": [
        "## Generating the Dataset\n",
        "\n",
        "For this example, we will work in low dimension\n",
        "for succinctness.\n",
        "The following code snippet generates 1000 examples\n",
        "with 2-dimensional features drawn\n",
        "from a standard normal distribution.\n",
        "The resulting design matrix $\\mathbf{X}$\n",
        "belongs to $\\mathbb{R}^{1000 \\times 2}$.\n",
        "We generate each label by applying\n",
        "a *ground truth* linear function,\n",
        "corrupting them via additive noise $\\boldsymbol{\\epsilon}$,\n",
        "drawn independently and identically for each example:\n",
        "\n",
        "(**$$\\mathbf{y}= \\mathbf{X} \\mathbf{w} + b + \\boldsymbol{\\epsilon}.$$**)\n",
        "\n",
        "For convenience we assume that $\\boldsymbol{\\epsilon}$ is drawn\n",
        "from a normal distribution with mean $\\mu= 0$\n",
        "and standard deviation $\\sigma = 0.01$.\n",
        "Note that for object-oriented design\n",
        "we add the code to the `__init__` method of a subclass of `d2l.DataModule` (introduced in :numref:`oo-design-data`).\n",
        "It is good practice to allow the setting of any additional hyperparameters.\n",
        "We accomplish this with `save_hyperparameters()`.\n",
        "The `batch_size` will be determined later.\n"
      ]
    },
    {
      "cell_type": "code",
      "execution_count": 2,
      "id": "e174e8b1",
      "metadata": {
        "execution": {
          "iopub.execute_input": "2023-08-18T19:36:15.351059Z",
          "iopub.status.busy": "2023-08-18T19:36:15.350010Z",
          "iopub.status.idle": "2023-08-18T19:36:15.358156Z",
          "shell.execute_reply": "2023-08-18T19:36:15.357035Z"
        },
        "origin_pos": 7,
        "tab": [
          "pytorch"
        ],
        "id": "e174e8b1"
      },
      "outputs": [],
      "source": [
        "class SyntheticRegressionData(d2l.DataModule):\n",
        "    \"\"\"Synthetic data for linear regression.\"\"\"\n",
        "    def __init__(self, w, b, noise=0.01, num_train=1000, num_val=1000,\n",
        "                 batch_size=32):\n",
        "        super().__init__()\n",
        "        self.save_hyperparameters()\n",
        "        n = num_train + num_val\n",
        "        self.X = torch.randn(n, len(w))\n",
        "        noise = torch.randn(n, 1) * noise\n",
        "        self.y = torch.matmul(self.X, w.reshape((-1, 1))) + b + noise"
      ]
    },
    {
      "cell_type": "markdown",
      "id": "60afd383",
      "metadata": {
        "origin_pos": 8,
        "id": "60afd383"
      },
      "source": [
        "Below, we set the true parameters to $\\mathbf{w} = [2, -3.4]^\\top$ and $b = 4.2$.\n",
        "Later, we can check our estimated parameters against these *ground truth* values.\n"
      ]
    },
    {
      "cell_type": "code",
      "execution_count": 3,
      "id": "38a83404",
      "metadata": {
        "execution": {
          "iopub.execute_input": "2023-08-18T19:36:15.362285Z",
          "iopub.status.busy": "2023-08-18T19:36:15.361503Z",
          "iopub.status.idle": "2023-08-18T19:36:15.390526Z",
          "shell.execute_reply": "2023-08-18T19:36:15.389339Z"
        },
        "origin_pos": 9,
        "tab": [
          "pytorch"
        ],
        "id": "38a83404"
      },
      "outputs": [],
      "source": [
        "data = SyntheticRegressionData(w=torch.tensor([2, -3.4]), b=4.2)"
      ]
    },
    {
      "cell_type": "markdown",
      "id": "4105d024",
      "metadata": {
        "origin_pos": 10,
        "id": "4105d024"
      },
      "source": [
        "[**Each row in `features` consists of a vector in $\\mathbb{R}^2$ and each row in `labels` is a scalar.**] Let's have a look at the first entry.\n"
      ]
    },
    {
      "cell_type": "code",
      "execution_count": 4,
      "id": "43e267cb",
      "metadata": {
        "execution": {
          "iopub.execute_input": "2023-08-18T19:36:15.395708Z",
          "iopub.status.busy": "2023-08-18T19:36:15.394509Z",
          "iopub.status.idle": "2023-08-18T19:36:15.405078Z",
          "shell.execute_reply": "2023-08-18T19:36:15.402629Z"
        },
        "origin_pos": 11,
        "tab": [
          "pytorch"
        ],
        "id": "43e267cb",
        "outputId": "f561ebab-28ba-4fb7-c787-0a5587ac97c4",
        "colab": {
          "base_uri": "https://localhost:8080/"
        }
      },
      "outputs": [
        {
          "output_type": "stream",
          "name": "stdout",
          "text": [
            "features: tensor([-0.6454, -1.3908]) \n",
            "label: tensor([7.6257])\n"
          ]
        }
      ],
      "source": [
        "print('features:', data.X[0],'\\nlabel:', data.y[0])"
      ]
    },
    {
      "cell_type": "markdown",
      "id": "bf8516d3",
      "metadata": {
        "origin_pos": 12,
        "id": "bf8516d3"
      },
      "source": [
        "## Reading the Dataset\n",
        "\n",
        "Training machine learning models often requires multiple passes over a dataset,\n",
        "grabbing one minibatch of examples at a time.\n",
        "This data is then used to update the model.\n",
        "To illustrate how this works, we\n",
        "[**implement the `get_dataloader` method,**]\n",
        "registering it in the `SyntheticRegressionData` class via `add_to_class` (introduced in :numref:`oo-design-utilities`).\n",
        "It (**takes a batch size, a matrix of features,\n",
        "and a vector of labels, and generates minibatches of size `batch_size`.**)\n",
        "As such, each minibatch consists of a tuple of features and labels.\n",
        "Note that we need to be mindful of whether we're in training or validation mode:\n",
        "in the former, we will want to read the data in random order,\n",
        "whereas for the latter, being able to read data in a pre-defined order\n",
        "may be important for debugging purposes.\n"
      ]
    },
    {
      "cell_type": "code",
      "execution_count": 5,
      "id": "1686e6b2",
      "metadata": {
        "execution": {
          "iopub.execute_input": "2023-08-18T19:36:15.409740Z",
          "iopub.status.busy": "2023-08-18T19:36:15.408327Z",
          "iopub.status.idle": "2023-08-18T19:36:15.417911Z",
          "shell.execute_reply": "2023-08-18T19:36:15.416944Z"
        },
        "origin_pos": 13,
        "tab": [
          "pytorch"
        ],
        "id": "1686e6b2"
      },
      "outputs": [],
      "source": [
        "@d2l.add_to_class(SyntheticRegressionData)\n",
        "def get_dataloader(self, train):\n",
        "    if train:\n",
        "        indices = list(range(0, self.num_train))\n",
        "        # The examples are read in random order\n",
        "        random.shuffle(indices)\n",
        "    else:\n",
        "        indices = list(range(self.num_train, self.num_train+self.num_val))\n",
        "    for i in range(0, len(indices), self.batch_size):\n",
        "        batch_indices = torch.tensor(indices[i: i+self.batch_size])\n",
        "        yield self.X[batch_indices], self.y[batch_indices]"
      ]
    },
    {
      "cell_type": "markdown",
      "id": "2437653f",
      "metadata": {
        "origin_pos": 14,
        "id": "2437653f"
      },
      "source": [
        "To build some intuition, let's inspect the first minibatch of\n",
        "data. Each minibatch of features provides us with both its size and the dimensionality of input features.\n",
        "Likewise, our minibatch of labels will have a matching shape given by `batch_size`.\n"
      ]
    },
    {
      "cell_type": "code",
      "execution_count": 6,
      "id": "d5af1472",
      "metadata": {
        "execution": {
          "iopub.execute_input": "2023-08-18T19:36:15.424253Z",
          "iopub.status.busy": "2023-08-18T19:36:15.423639Z",
          "iopub.status.idle": "2023-08-18T19:36:15.430119Z",
          "shell.execute_reply": "2023-08-18T19:36:15.429099Z"
        },
        "origin_pos": 15,
        "tab": [
          "pytorch"
        ],
        "id": "d5af1472",
        "outputId": "a1506c9b-dffe-4ad9-d534-58f0de68a9ac",
        "colab": {
          "base_uri": "https://localhost:8080/"
        }
      },
      "outputs": [
        {
          "output_type": "stream",
          "name": "stdout",
          "text": [
            "X shape: torch.Size([32, 2]) \n",
            "y shape: torch.Size([32, 1])\n"
          ]
        }
      ],
      "source": [
        "X, y = next(iter(data.train_dataloader()))\n",
        "print('X shape:', X.shape, '\\ny shape:', y.shape)"
      ]
    },
    {
      "cell_type": "markdown",
      "id": "c485f93e",
      "metadata": {
        "origin_pos": 16,
        "id": "c485f93e"
      },
      "source": [
        "While seemingly innocuous, the invocation\n",
        "of `iter(data.train_dataloader())`\n",
        "illustrates the power of Python's object-oriented design.\n",
        "Note that we added a method to the `SyntheticRegressionData` class\n",
        "*after* creating the `data` object.\n",
        "Nonetheless, the object benefits from\n",
        "the *ex post facto* addition of functionality to the class.\n",
        "\n",
        "Throughout the iteration we obtain distinct minibatches\n",
        "until the entire dataset has been exhausted (try this).\n",
        "While the iteration implemented above is good for didactic purposes,\n",
        "it is inefficient in ways that might get us into trouble with real problems.\n",
        "For example, it requires that we load all the data in memory\n",
        "and that we perform lots of random memory access.\n",
        "The built-in iterators implemented in a deep learning framework\n",
        "are considerably more efficient and they can deal\n",
        "with sources such as data stored in files,\n",
        "data received via a stream,\n",
        "and data generated or processed on the fly.\n",
        "Next let's try to implement the same method using built-in iterators.\n",
        "\n",
        "## Concise Implementation of the Data Loader\n",
        "\n",
        "Rather than writing our own iterator,\n",
        "we can [**call the existing API in a framework to load data.**]\n",
        "As before, we need a dataset with features `X` and labels `y`.\n",
        "Beyond that, we set `batch_size` in the built-in data loader\n",
        "and let it take care of shuffling examples  efficiently.\n"
      ]
    },
    {
      "cell_type": "code",
      "execution_count": 7,
      "id": "d5ae674e",
      "metadata": {
        "execution": {
          "iopub.execute_input": "2023-08-18T19:36:15.434272Z",
          "iopub.status.busy": "2023-08-18T19:36:15.433429Z",
          "iopub.status.idle": "2023-08-18T19:36:15.441792Z",
          "shell.execute_reply": "2023-08-18T19:36:15.439267Z"
        },
        "origin_pos": 18,
        "tab": [
          "pytorch"
        ],
        "id": "d5ae674e"
      },
      "outputs": [],
      "source": [
        "@d2l.add_to_class(d2l.DataModule)\n",
        "def get_tensorloader(self, tensors, train, indices=slice(0, None)):\n",
        "    tensors = tuple(a[indices] for a in tensors)\n",
        "    dataset = torch.utils.data.TensorDataset(*tensors)\n",
        "    return torch.utils.data.DataLoader(dataset, self.batch_size,\n",
        "                                       shuffle=train)"
      ]
    },
    {
      "cell_type": "code",
      "execution_count": 8,
      "id": "617242ed",
      "metadata": {
        "execution": {
          "iopub.execute_input": "2023-08-18T19:36:15.448335Z",
          "iopub.status.busy": "2023-08-18T19:36:15.447832Z",
          "iopub.status.idle": "2023-08-18T19:36:15.457888Z",
          "shell.execute_reply": "2023-08-18T19:36:15.456920Z"
        },
        "origin_pos": 19,
        "tab": [
          "pytorch"
        ],
        "id": "617242ed"
      },
      "outputs": [],
      "source": [
        "@d2l.add_to_class(SyntheticRegressionData)\n",
        "def get_dataloader(self, train):\n",
        "    i = slice(0, self.num_train) if train else slice(self.num_train, None)\n",
        "    return self.get_tensorloader((self.X, self.y), train, i)"
      ]
    },
    {
      "cell_type": "markdown",
      "id": "9b36d404",
      "metadata": {
        "origin_pos": 20,
        "id": "9b36d404"
      },
      "source": [
        "The new data loader behaves just like the previous one, except that it is more efficient and has some added functionality.\n"
      ]
    },
    {
      "cell_type": "code",
      "execution_count": 9,
      "id": "2f5d57c3",
      "metadata": {
        "attributes": {
          "classes": [],
          "id": "",
          "n": "4"
        },
        "execution": {
          "iopub.execute_input": "2023-08-18T19:36:15.464003Z",
          "iopub.status.busy": "2023-08-18T19:36:15.462740Z",
          "iopub.status.idle": "2023-08-18T19:36:15.474793Z",
          "shell.execute_reply": "2023-08-18T19:36:15.473623Z"
        },
        "origin_pos": 21,
        "tab": [
          "pytorch"
        ],
        "id": "2f5d57c3",
        "outputId": "ed1474cf-a73b-4116-ca19-f26902fe5a8c",
        "colab": {
          "base_uri": "https://localhost:8080/"
        }
      },
      "outputs": [
        {
          "output_type": "stream",
          "name": "stdout",
          "text": [
            "X shape: torch.Size([32, 2]) \n",
            "y shape: torch.Size([32, 1])\n"
          ]
        }
      ],
      "source": [
        "X, y = next(iter(data.train_dataloader()))\n",
        "print('X shape:', X.shape, '\\ny shape:', y.shape)"
      ]
    },
    {
      "cell_type": "markdown",
      "id": "4e8e09f0",
      "metadata": {
        "origin_pos": 22,
        "id": "4e8e09f0"
      },
      "source": [
        "For instance, the data loader provided by the framework API\n",
        "supports the built-in `__len__` method,\n",
        "so we can query its length,\n",
        "i.e., the number of batches.\n"
      ]
    },
    {
      "cell_type": "code",
      "execution_count": 10,
      "id": "790cbdfb",
      "metadata": {
        "execution": {
          "iopub.execute_input": "2023-08-18T19:36:15.479797Z",
          "iopub.status.busy": "2023-08-18T19:36:15.478884Z",
          "iopub.status.idle": "2023-08-18T19:36:15.489245Z",
          "shell.execute_reply": "2023-08-18T19:36:15.488320Z"
        },
        "origin_pos": 23,
        "tab": [
          "pytorch"
        ],
        "id": "790cbdfb",
        "outputId": "ca3de0b0-c4da-4273-bd7d-4963d07523d0",
        "colab": {
          "base_uri": "https://localhost:8080/"
        }
      },
      "outputs": [
        {
          "output_type": "execute_result",
          "data": {
            "text/plain": [
              "32"
            ]
          },
          "metadata": {},
          "execution_count": 10
        }
      ],
      "source": [
        "len(data.train_dataloader())"
      ]
    },
    {
      "cell_type": "markdown",
      "id": "d5e73e34",
      "metadata": {
        "origin_pos": 24,
        "id": "d5e73e34"
      },
      "source": [
        "## Summary\n",
        "\n",
        "Data loaders are a convenient way of abstracting out\n",
        "the process of loading and manipulating data.\n",
        "This way the same machine learning *algorithm*\n",
        "is capable of processing many different types and sources of data\n",
        "without the need for modification.\n",
        "One of the nice things about data loaders\n",
        "is that they can be composed.\n",
        "For instance, we might be loading images\n",
        "and then have a postprocessing filter\n",
        "that crops them or modifies them in other ways.\n",
        "As such, data loaders can be used\n",
        "to describe an entire data processing pipeline.\n",
        "\n",
        "As for the model itself, the two-dimensional linear model\n",
        "is about the simplest we might encounter.\n",
        "It lets us test out the accuracy of regression models\n",
        "without worrying about having insufficient amounts of data\n",
        "or an underdetermined system of equations.\n",
        "We will put this to good use in the next section.  \n",
        "\n",
        "\n",
        "## Exercises\n",
        "\n",
        "1. What will happen if the number of examples cannot be divided by the batch size. How would you change this behavior by specifying a different argument by using the framework's API?\n",
        "1. Suppose that we want to generate a huge dataset, where both the size of the parameter vector `w` and the number of examples `num_examples` are large.\n",
        "    1. What happens if we cannot hold all data in memory?\n",
        "    1. How would you shuffle the data if it is held on disk? Your task is to design an *efficient* algorithm that does not require too many random reads or writes. Hint: [pseudorandom permutation generators](https://en.wikipedia.org/wiki/Pseudorandom_permutation) allow you to design a reshuffle without the need to store the permutation table explicitly :cite:`Naor.Reingold.1999`.\n",
        "1. Implement a data generator that produces new data on the fly, every time the iterator is called.\n",
        "1. How would you design a random data generator that generates *the same* data each time it is called?\n"
      ]
    },
    {
      "cell_type": "markdown",
      "id": "3a6d8f2c",
      "metadata": {
        "origin_pos": 26,
        "tab": [
          "pytorch"
        ],
        "id": "3a6d8f2c"
      },
      "source": [
        "[Discussions](https://discuss.d2l.ai/t/6663)\n"
      ]
    },
    {
      "cell_type": "code",
      "source": [
        "#第一题\n",
        "import torch\n",
        "from torch.utils.data import TensorDataset, DataLoader\n",
        "\n",
        "# 生成示例数据\n",
        "x = torch.randn(11, 5)  # 假设特征数据\n",
        "y = torch.randint(0, 2, (11,))  # 假设标签数据\n",
        "dataset = TensorDataset(x, y)\n",
        "\n",
        "# 默认行为（丢弃不完整批次）\n",
        "default_loader = DataLoader(dataset, batch_size = 3)\n",
        "for batch_x, batch_y in default_loader:\n",
        "    print(batch_x.shape, batch_y.shape)\n",
        "\n",
        "# 改变行为（保留不完整批次）\n",
        "changed_loader = DataLoader(dataset, batch_size = 3, drop_last = False)\n",
        "for batch_x, batch_y in changed_loader:\n",
        "    print(batch_x.shape, batch_y.shape)"
      ],
      "metadata": {
        "id": "mTiQeRHVQcug",
        "outputId": "7d9d85e1-b6e1-41a7-f41e-fef4dda9fa3b",
        "colab": {
          "base_uri": "https://localhost:8080/"
        }
      },
      "id": "mTiQeRHVQcug",
      "execution_count": 11,
      "outputs": [
        {
          "output_type": "stream",
          "name": "stdout",
          "text": [
            "torch.Size([3, 5]) torch.Size([3])\n",
            "torch.Size([3, 5]) torch.Size([3])\n",
            "torch.Size([3, 5]) torch.Size([3])\n",
            "torch.Size([2, 5]) torch.Size([2])\n",
            "torch.Size([3, 5]) torch.Size([3])\n",
            "torch.Size([3, 5]) torch.Size([3])\n",
            "torch.Size([3, 5]) torch.Size([3])\n",
            "torch.Size([2, 5]) torch.Size([2])\n"
          ]
        }
      ]
    },
    {
      "cell_type": "code",
      "source": [
        "#第二题\n",
        "def generate_and_load_data_in_chunks(chunk_size = 1000):\n",
        "    num_samples = 5000  # 假设总的样本数量\n",
        "    for start in range(0, num_samples, chunk_size):\n",
        "        end = min(start + chunk_size, num_samples)\n",
        "        # 这里简单生成虚拟数据，实际可替换为真实数据生成逻辑\n",
        "        data_chunk = [(i, f\"example_{i}\") for i in range(start, end)]\n",
        "        yield data_chunk\n",
        "\n",
        "# 使用示例\n",
        "for data_chunk in generate_and_load_data_in_chunks():\n",
        "    print(len(data_chunk))\n",
        "    print(data_chunk)"
      ],
      "metadata": {
        "id": "OAxJdXnaQcsU",
        "outputId": "996b24ee-e3a0-43c2-dca1-21fa3c15f93d",
        "colab": {
          "base_uri": "https://localhost:8080/"
        }
      },
      "id": "OAxJdXnaQcsU",
      "execution_count": 16,
      "outputs": [
        {
          "output_type": "stream",
          "name": "stdout",
          "text": [
            "1000\n",
            "[(0, 'example_0'), (1, 'example_1'), (2, 'example_2'), (3, 'example_3'), (4, 'example_4'), (5, 'example_5'), (6, 'example_6'), (7, 'example_7'), (8, 'example_8'), (9, 'example_9'), (10, 'example_10'), (11, 'example_11'), (12, 'example_12'), (13, 'example_13'), (14, 'example_14'), (15, 'example_15'), (16, 'example_16'), (17, 'example_17'), (18, 'example_18'), (19, 'example_19'), (20, 'example_20'), (21, 'example_21'), (22, 'example_22'), (23, 'example_23'), (24, 'example_24'), (25, 'example_25'), (26, 'example_26'), (27, 'example_27'), (28, 'example_28'), (29, 'example_29'), (30, 'example_30'), (31, 'example_31'), (32, 'example_32'), (33, 'example_33'), (34, 'example_34'), (35, 'example_35'), (36, 'example_36'), (37, 'example_37'), (38, 'example_38'), (39, 'example_39'), (40, 'example_40'), (41, 'example_41'), (42, 'example_42'), (43, 'example_43'), (44, 'example_44'), (45, 'example_45'), (46, 'example_46'), (47, 'example_47'), (48, 'example_48'), (49, 'example_49'), (50, 'example_50'), (51, 'example_51'), (52, 'example_52'), (53, 'example_53'), (54, 'example_54'), (55, 'example_55'), (56, 'example_56'), (57, 'example_57'), (58, 'example_58'), (59, 'example_59'), (60, 'example_60'), (61, 'example_61'), (62, 'example_62'), (63, 'example_63'), (64, 'example_64'), (65, 'example_65'), (66, 'example_66'), (67, 'example_67'), (68, 'example_68'), (69, 'example_69'), (70, 'example_70'), (71, 'example_71'), (72, 'example_72'), (73, 'example_73'), (74, 'example_74'), (75, 'example_75'), (76, 'example_76'), (77, 'example_77'), (78, 'example_78'), (79, 'example_79'), (80, 'example_80'), (81, 'example_81'), (82, 'example_82'), (83, 'example_83'), (84, 'example_84'), (85, 'example_85'), (86, 'example_86'), (87, 'example_87'), (88, 'example_88'), (89, 'example_89'), (90, 'example_90'), (91, 'example_91'), (92, 'example_92'), (93, 'example_93'), (94, 'example_94'), (95, 'example_95'), (96, 'example_96'), (97, 'example_97'), (98, 'example_98'), (99, 'example_99'), (100, 'example_100'), (101, 'example_101'), (102, 'example_102'), (103, 'example_103'), (104, 'example_104'), (105, 'example_105'), (106, 'example_106'), (107, 'example_107'), (108, 'example_108'), (109, 'example_109'), (110, 'example_110'), (111, 'example_111'), (112, 'example_112'), (113, 'example_113'), (114, 'example_114'), (115, 'example_115'), (116, 'example_116'), (117, 'example_117'), (118, 'example_118'), (119, 'example_119'), (120, 'example_120'), (121, 'example_121'), (122, 'example_122'), (123, 'example_123'), (124, 'example_124'), (125, 'example_125'), (126, 'example_126'), (127, 'example_127'), (128, 'example_128'), (129, 'example_129'), (130, 'example_130'), (131, 'example_131'), (132, 'example_132'), (133, 'example_133'), (134, 'example_134'), (135, 'example_135'), (136, 'example_136'), (137, 'example_137'), (138, 'example_138'), (139, 'example_139'), (140, 'example_140'), (141, 'example_141'), (142, 'example_142'), (143, 'example_143'), (144, 'example_144'), (145, 'example_145'), (146, 'example_146'), (147, 'example_147'), (148, 'example_148'), (149, 'example_149'), (150, 'example_150'), (151, 'example_151'), (152, 'example_152'), (153, 'example_153'), (154, 'example_154'), (155, 'example_155'), (156, 'example_156'), (157, 'example_157'), (158, 'example_158'), (159, 'example_159'), (160, 'example_160'), (161, 'example_161'), (162, 'example_162'), (163, 'example_163'), (164, 'example_164'), (165, 'example_165'), (166, 'example_166'), (167, 'example_167'), (168, 'example_168'), (169, 'example_169'), (170, 'example_170'), (171, 'example_171'), (172, 'example_172'), (173, 'example_173'), (174, 'example_174'), (175, 'example_175'), (176, 'example_176'), (177, 'example_177'), (178, 'example_178'), (179, 'example_179'), (180, 'example_180'), (181, 'example_181'), (182, 'example_182'), (183, 'example_183'), (184, 'example_184'), (185, 'example_185'), (186, 'example_186'), (187, 'example_187'), (188, 'example_188'), (189, 'example_189'), (190, 'example_190'), (191, 'example_191'), (192, 'example_192'), (193, 'example_193'), (194, 'example_194'), (195, 'example_195'), (196, 'example_196'), (197, 'example_197'), (198, 'example_198'), (199, 'example_199'), (200, 'example_200'), (201, 'example_201'), (202, 'example_202'), (203, 'example_203'), (204, 'example_204'), (205, 'example_205'), (206, 'example_206'), (207, 'example_207'), (208, 'example_208'), (209, 'example_209'), (210, 'example_210'), (211, 'example_211'), (212, 'example_212'), (213, 'example_213'), (214, 'example_214'), (215, 'example_215'), (216, 'example_216'), (217, 'example_217'), (218, 'example_218'), (219, 'example_219'), (220, 'example_220'), (221, 'example_221'), (222, 'example_222'), (223, 'example_223'), (224, 'example_224'), (225, 'example_225'), (226, 'example_226'), (227, 'example_227'), (228, 'example_228'), (229, 'example_229'), (230, 'example_230'), (231, 'example_231'), (232, 'example_232'), (233, 'example_233'), (234, 'example_234'), (235, 'example_235'), (236, 'example_236'), (237, 'example_237'), (238, 'example_238'), (239, 'example_239'), (240, 'example_240'), (241, 'example_241'), (242, 'example_242'), (243, 'example_243'), (244, 'example_244'), (245, 'example_245'), (246, 'example_246'), (247, 'example_247'), (248, 'example_248'), (249, 'example_249'), (250, 'example_250'), (251, 'example_251'), (252, 'example_252'), (253, 'example_253'), (254, 'example_254'), (255, 'example_255'), (256, 'example_256'), (257, 'example_257'), (258, 'example_258'), (259, 'example_259'), (260, 'example_260'), (261, 'example_261'), (262, 'example_262'), (263, 'example_263'), (264, 'example_264'), (265, 'example_265'), (266, 'example_266'), (267, 'example_267'), (268, 'example_268'), (269, 'example_269'), (270, 'example_270'), (271, 'example_271'), (272, 'example_272'), (273, 'example_273'), (274, 'example_274'), (275, 'example_275'), (276, 'example_276'), (277, 'example_277'), (278, 'example_278'), (279, 'example_279'), (280, 'example_280'), (281, 'example_281'), (282, 'example_282'), (283, 'example_283'), (284, 'example_284'), (285, 'example_285'), (286, 'example_286'), (287, 'example_287'), (288, 'example_288'), (289, 'example_289'), (290, 'example_290'), (291, 'example_291'), (292, 'example_292'), (293, 'example_293'), (294, 'example_294'), (295, 'example_295'), (296, 'example_296'), (297, 'example_297'), (298, 'example_298'), (299, 'example_299'), (300, 'example_300'), (301, 'example_301'), (302, 'example_302'), (303, 'example_303'), (304, 'example_304'), (305, 'example_305'), (306, 'example_306'), (307, 'example_307'), (308, 'example_308'), (309, 'example_309'), (310, 'example_310'), (311, 'example_311'), (312, 'example_312'), (313, 'example_313'), (314, 'example_314'), (315, 'example_315'), (316, 'example_316'), (317, 'example_317'), (318, 'example_318'), (319, 'example_319'), (320, 'example_320'), (321, 'example_321'), (322, 'example_322'), (323, 'example_323'), (324, 'example_324'), (325, 'example_325'), (326, 'example_326'), (327, 'example_327'), (328, 'example_328'), (329, 'example_329'), (330, 'example_330'), (331, 'example_331'), (332, 'example_332'), (333, 'example_333'), (334, 'example_334'), (335, 'example_335'), (336, 'example_336'), (337, 'example_337'), (338, 'example_338'), (339, 'example_339'), (340, 'example_340'), (341, 'example_341'), (342, 'example_342'), (343, 'example_343'), (344, 'example_344'), (345, 'example_345'), (346, 'example_346'), (347, 'example_347'), (348, 'example_348'), (349, 'example_349'), (350, 'example_350'), (351, 'example_351'), (352, 'example_352'), (353, 'example_353'), (354, 'example_354'), (355, 'example_355'), (356, 'example_356'), (357, 'example_357'), (358, 'example_358'), (359, 'example_359'), (360, 'example_360'), (361, 'example_361'), (362, 'example_362'), (363, 'example_363'), (364, 'example_364'), (365, 'example_365'), (366, 'example_366'), (367, 'example_367'), (368, 'example_368'), (369, 'example_369'), (370, 'example_370'), (371, 'example_371'), (372, 'example_372'), (373, 'example_373'), (374, 'example_374'), (375, 'example_375'), (376, 'example_376'), (377, 'example_377'), (378, 'example_378'), (379, 'example_379'), (380, 'example_380'), (381, 'example_381'), (382, 'example_382'), (383, 'example_383'), (384, 'example_384'), (385, 'example_385'), (386, 'example_386'), (387, 'example_387'), (388, 'example_388'), (389, 'example_389'), (390, 'example_390'), (391, 'example_391'), (392, 'example_392'), (393, 'example_393'), (394, 'example_394'), (395, 'example_395'), (396, 'example_396'), (397, 'example_397'), (398, 'example_398'), (399, 'example_399'), (400, 'example_400'), (401, 'example_401'), (402, 'example_402'), (403, 'example_403'), (404, 'example_404'), (405, 'example_405'), (406, 'example_406'), (407, 'example_407'), (408, 'example_408'), (409, 'example_409'), (410, 'example_410'), (411, 'example_411'), (412, 'example_412'), (413, 'example_413'), (414, 'example_414'), (415, 'example_415'), (416, 'example_416'), (417, 'example_417'), (418, 'example_418'), (419, 'example_419'), (420, 'example_420'), (421, 'example_421'), (422, 'example_422'), (423, 'example_423'), (424, 'example_424'), (425, 'example_425'), (426, 'example_426'), (427, 'example_427'), (428, 'example_428'), (429, 'example_429'), (430, 'example_430'), (431, 'example_431'), (432, 'example_432'), (433, 'example_433'), (434, 'example_434'), (435, 'example_435'), (436, 'example_436'), (437, 'example_437'), (438, 'example_438'), (439, 'example_439'), (440, 'example_440'), (441, 'example_441'), (442, 'example_442'), (443, 'example_443'), (444, 'example_444'), (445, 'example_445'), (446, 'example_446'), (447, 'example_447'), (448, 'example_448'), (449, 'example_449'), (450, 'example_450'), (451, 'example_451'), (452, 'example_452'), (453, 'example_453'), (454, 'example_454'), (455, 'example_455'), (456, 'example_456'), (457, 'example_457'), (458, 'example_458'), (459, 'example_459'), (460, 'example_460'), (461, 'example_461'), (462, 'example_462'), (463, 'example_463'), (464, 'example_464'), (465, 'example_465'), (466, 'example_466'), (467, 'example_467'), (468, 'example_468'), (469, 'example_469'), (470, 'example_470'), (471, 'example_471'), (472, 'example_472'), (473, 'example_473'), (474, 'example_474'), (475, 'example_475'), (476, 'example_476'), (477, 'example_477'), (478, 'example_478'), (479, 'example_479'), (480, 'example_480'), (481, 'example_481'), (482, 'example_482'), (483, 'example_483'), (484, 'example_484'), (485, 'example_485'), (486, 'example_486'), (487, 'example_487'), (488, 'example_488'), (489, 'example_489'), (490, 'example_490'), (491, 'example_491'), (492, 'example_492'), (493, 'example_493'), (494, 'example_494'), (495, 'example_495'), (496, 'example_496'), (497, 'example_497'), (498, 'example_498'), (499, 'example_499'), (500, 'example_500'), (501, 'example_501'), (502, 'example_502'), (503, 'example_503'), (504, 'example_504'), (505, 'example_505'), (506, 'example_506'), (507, 'example_507'), (508, 'example_508'), (509, 'example_509'), (510, 'example_510'), (511, 'example_511'), (512, 'example_512'), (513, 'example_513'), (514, 'example_514'), (515, 'example_515'), (516, 'example_516'), (517, 'example_517'), (518, 'example_518'), (519, 'example_519'), (520, 'example_520'), (521, 'example_521'), (522, 'example_522'), (523, 'example_523'), (524, 'example_524'), (525, 'example_525'), (526, 'example_526'), (527, 'example_527'), (528, 'example_528'), (529, 'example_529'), (530, 'example_530'), (531, 'example_531'), (532, 'example_532'), (533, 'example_533'), (534, 'example_534'), (535, 'example_535'), (536, 'example_536'), (537, 'example_537'), (538, 'example_538'), (539, 'example_539'), (540, 'example_540'), (541, 'example_541'), (542, 'example_542'), (543, 'example_543'), (544, 'example_544'), (545, 'example_545'), (546, 'example_546'), (547, 'example_547'), (548, 'example_548'), (549, 'example_549'), (550, 'example_550'), (551, 'example_551'), (552, 'example_552'), (553, 'example_553'), (554, 'example_554'), (555, 'example_555'), (556, 'example_556'), (557, 'example_557'), (558, 'example_558'), (559, 'example_559'), (560, 'example_560'), (561, 'example_561'), (562, 'example_562'), (563, 'example_563'), (564, 'example_564'), (565, 'example_565'), (566, 'example_566'), (567, 'example_567'), (568, 'example_568'), (569, 'example_569'), (570, 'example_570'), (571, 'example_571'), (572, 'example_572'), (573, 'example_573'), (574, 'example_574'), (575, 'example_575'), (576, 'example_576'), (577, 'example_577'), (578, 'example_578'), (579, 'example_579'), (580, 'example_580'), (581, 'example_581'), (582, 'example_582'), (583, 'example_583'), (584, 'example_584'), (585, 'example_585'), (586, 'example_586'), (587, 'example_587'), (588, 'example_588'), (589, 'example_589'), (590, 'example_590'), (591, 'example_591'), (592, 'example_592'), (593, 'example_593'), (594, 'example_594'), (595, 'example_595'), (596, 'example_596'), (597, 'example_597'), (598, 'example_598'), (599, 'example_599'), (600, 'example_600'), (601, 'example_601'), (602, 'example_602'), (603, 'example_603'), (604, 'example_604'), (605, 'example_605'), (606, 'example_606'), (607, 'example_607'), (608, 'example_608'), (609, 'example_609'), (610, 'example_610'), (611, 'example_611'), (612, 'example_612'), (613, 'example_613'), (614, 'example_614'), (615, 'example_615'), (616, 'example_616'), (617, 'example_617'), (618, 'example_618'), (619, 'example_619'), (620, 'example_620'), (621, 'example_621'), (622, 'example_622'), (623, 'example_623'), (624, 'example_624'), (625, 'example_625'), (626, 'example_626'), (627, 'example_627'), (628, 'example_628'), (629, 'example_629'), (630, 'example_630'), (631, 'example_631'), (632, 'example_632'), (633, 'example_633'), (634, 'example_634'), (635, 'example_635'), (636, 'example_636'), (637, 'example_637'), (638, 'example_638'), (639, 'example_639'), (640, 'example_640'), (641, 'example_641'), (642, 'example_642'), (643, 'example_643'), (644, 'example_644'), (645, 'example_645'), (646, 'example_646'), (647, 'example_647'), (648, 'example_648'), (649, 'example_649'), (650, 'example_650'), (651, 'example_651'), (652, 'example_652'), (653, 'example_653'), (654, 'example_654'), (655, 'example_655'), (656, 'example_656'), (657, 'example_657'), (658, 'example_658'), (659, 'example_659'), (660, 'example_660'), (661, 'example_661'), (662, 'example_662'), (663, 'example_663'), (664, 'example_664'), (665, 'example_665'), (666, 'example_666'), (667, 'example_667'), (668, 'example_668'), (669, 'example_669'), (670, 'example_670'), (671, 'example_671'), (672, 'example_672'), (673, 'example_673'), (674, 'example_674'), (675, 'example_675'), (676, 'example_676'), (677, 'example_677'), (678, 'example_678'), (679, 'example_679'), (680, 'example_680'), (681, 'example_681'), (682, 'example_682'), (683, 'example_683'), (684, 'example_684'), (685, 'example_685'), (686, 'example_686'), (687, 'example_687'), (688, 'example_688'), (689, 'example_689'), (690, 'example_690'), (691, 'example_691'), (692, 'example_692'), (693, 'example_693'), (694, 'example_694'), (695, 'example_695'), (696, 'example_696'), (697, 'example_697'), (698, 'example_698'), (699, 'example_699'), (700, 'example_700'), (701, 'example_701'), (702, 'example_702'), (703, 'example_703'), (704, 'example_704'), (705, 'example_705'), (706, 'example_706'), (707, 'example_707'), (708, 'example_708'), (709, 'example_709'), (710, 'example_710'), (711, 'example_711'), (712, 'example_712'), (713, 'example_713'), (714, 'example_714'), (715, 'example_715'), (716, 'example_716'), (717, 'example_717'), (718, 'example_718'), (719, 'example_719'), (720, 'example_720'), (721, 'example_721'), (722, 'example_722'), (723, 'example_723'), (724, 'example_724'), (725, 'example_725'), (726, 'example_726'), (727, 'example_727'), (728, 'example_728'), (729, 'example_729'), (730, 'example_730'), (731, 'example_731'), (732, 'example_732'), (733, 'example_733'), (734, 'example_734'), (735, 'example_735'), (736, 'example_736'), (737, 'example_737'), (738, 'example_738'), (739, 'example_739'), (740, 'example_740'), (741, 'example_741'), (742, 'example_742'), (743, 'example_743'), (744, 'example_744'), (745, 'example_745'), (746, 'example_746'), (747, 'example_747'), (748, 'example_748'), (749, 'example_749'), (750, 'example_750'), (751, 'example_751'), (752, 'example_752'), (753, 'example_753'), (754, 'example_754'), (755, 'example_755'), (756, 'example_756'), (757, 'example_757'), (758, 'example_758'), (759, 'example_759'), (760, 'example_760'), (761, 'example_761'), (762, 'example_762'), (763, 'example_763'), (764, 'example_764'), (765, 'example_765'), (766, 'example_766'), (767, 'example_767'), (768, 'example_768'), (769, 'example_769'), (770, 'example_770'), (771, 'example_771'), (772, 'example_772'), (773, 'example_773'), (774, 'example_774'), (775, 'example_775'), (776, 'example_776'), (777, 'example_777'), (778, 'example_778'), (779, 'example_779'), (780, 'example_780'), (781, 'example_781'), (782, 'example_782'), (783, 'example_783'), (784, 'example_784'), (785, 'example_785'), (786, 'example_786'), (787, 'example_787'), (788, 'example_788'), (789, 'example_789'), (790, 'example_790'), (791, 'example_791'), (792, 'example_792'), (793, 'example_793'), (794, 'example_794'), (795, 'example_795'), (796, 'example_796'), (797, 'example_797'), (798, 'example_798'), (799, 'example_799'), (800, 'example_800'), (801, 'example_801'), (802, 'example_802'), (803, 'example_803'), (804, 'example_804'), (805, 'example_805'), (806, 'example_806'), (807, 'example_807'), (808, 'example_808'), (809, 'example_809'), (810, 'example_810'), (811, 'example_811'), (812, 'example_812'), (813, 'example_813'), (814, 'example_814'), (815, 'example_815'), (816, 'example_816'), (817, 'example_817'), (818, 'example_818'), (819, 'example_819'), (820, 'example_820'), (821, 'example_821'), (822, 'example_822'), (823, 'example_823'), (824, 'example_824'), (825, 'example_825'), (826, 'example_826'), (827, 'example_827'), (828, 'example_828'), (829, 'example_829'), (830, 'example_830'), (831, 'example_831'), (832, 'example_832'), (833, 'example_833'), (834, 'example_834'), (835, 'example_835'), (836, 'example_836'), (837, 'example_837'), (838, 'example_838'), (839, 'example_839'), (840, 'example_840'), (841, 'example_841'), (842, 'example_842'), (843, 'example_843'), (844, 'example_844'), (845, 'example_845'), (846, 'example_846'), (847, 'example_847'), (848, 'example_848'), (849, 'example_849'), (850, 'example_850'), (851, 'example_851'), (852, 'example_852'), (853, 'example_853'), (854, 'example_854'), (855, 'example_855'), (856, 'example_856'), (857, 'example_857'), (858, 'example_858'), (859, 'example_859'), (860, 'example_860'), (861, 'example_861'), (862, 'example_862'), (863, 'example_863'), (864, 'example_864'), (865, 'example_865'), (866, 'example_866'), (867, 'example_867'), (868, 'example_868'), (869, 'example_869'), (870, 'example_870'), (871, 'example_871'), (872, 'example_872'), (873, 'example_873'), (874, 'example_874'), (875, 'example_875'), (876, 'example_876'), (877, 'example_877'), (878, 'example_878'), (879, 'example_879'), (880, 'example_880'), (881, 'example_881'), (882, 'example_882'), (883, 'example_883'), (884, 'example_884'), (885, 'example_885'), (886, 'example_886'), (887, 'example_887'), (888, 'example_888'), (889, 'example_889'), (890, 'example_890'), (891, 'example_891'), (892, 'example_892'), (893, 'example_893'), (894, 'example_894'), (895, 'example_895'), (896, 'example_896'), (897, 'example_897'), (898, 'example_898'), (899, 'example_899'), (900, 'example_900'), (901, 'example_901'), (902, 'example_902'), (903, 'example_903'), (904, 'example_904'), (905, 'example_905'), (906, 'example_906'), (907, 'example_907'), (908, 'example_908'), (909, 'example_909'), (910, 'example_910'), (911, 'example_911'), (912, 'example_912'), (913, 'example_913'), (914, 'example_914'), (915, 'example_915'), (916, 'example_916'), (917, 'example_917'), (918, 'example_918'), (919, 'example_919'), (920, 'example_920'), (921, 'example_921'), (922, 'example_922'), (923, 'example_923'), (924, 'example_924'), (925, 'example_925'), (926, 'example_926'), (927, 'example_927'), (928, 'example_928'), (929, 'example_929'), (930, 'example_930'), (931, 'example_931'), (932, 'example_932'), (933, 'example_933'), (934, 'example_934'), (935, 'example_935'), (936, 'example_936'), (937, 'example_937'), (938, 'example_938'), (939, 'example_939'), (940, 'example_940'), (941, 'example_941'), (942, 'example_942'), (943, 'example_943'), (944, 'example_944'), (945, 'example_945'), (946, 'example_946'), (947, 'example_947'), (948, 'example_948'), (949, 'example_949'), (950, 'example_950'), (951, 'example_951'), (952, 'example_952'), (953, 'example_953'), (954, 'example_954'), (955, 'example_955'), (956, 'example_956'), (957, 'example_957'), (958, 'example_958'), (959, 'example_959'), (960, 'example_960'), (961, 'example_961'), (962, 'example_962'), (963, 'example_963'), (964, 'example_964'), (965, 'example_965'), (966, 'example_966'), (967, 'example_967'), (968, 'example_968'), (969, 'example_969'), (970, 'example_970'), (971, 'example_971'), (972, 'example_972'), (973, 'example_973'), (974, 'example_974'), (975, 'example_975'), (976, 'example_976'), (977, 'example_977'), (978, 'example_978'), (979, 'example_979'), (980, 'example_980'), (981, 'example_981'), (982, 'example_982'), (983, 'example_983'), (984, 'example_984'), (985, 'example_985'), (986, 'example_986'), (987, 'example_987'), (988, 'example_988'), (989, 'example_989'), (990, 'example_990'), (991, 'example_991'), (992, 'example_992'), (993, 'example_993'), (994, 'example_994'), (995, 'example_995'), (996, 'example_996'), (997, 'example_997'), (998, 'example_998'), (999, 'example_999')]\n",
            "1000\n",
            "[(1000, 'example_1000'), (1001, 'example_1001'), (1002, 'example_1002'), (1003, 'example_1003'), (1004, 'example_1004'), (1005, 'example_1005'), (1006, 'example_1006'), (1007, 'example_1007'), (1008, 'example_1008'), (1009, 'example_1009'), (1010, 'example_1010'), (1011, 'example_1011'), (1012, 'example_1012'), (1013, 'example_1013'), (1014, 'example_1014'), (1015, 'example_1015'), (1016, 'example_1016'), (1017, 'example_1017'), (1018, 'example_1018'), (1019, 'example_1019'), (1020, 'example_1020'), (1021, 'example_1021'), (1022, 'example_1022'), (1023, 'example_1023'), (1024, 'example_1024'), (1025, 'example_1025'), (1026, 'example_1026'), (1027, 'example_1027'), (1028, 'example_1028'), (1029, 'example_1029'), (1030, 'example_1030'), (1031, 'example_1031'), (1032, 'example_1032'), (1033, 'example_1033'), (1034, 'example_1034'), (1035, 'example_1035'), (1036, 'example_1036'), (1037, 'example_1037'), (1038, 'example_1038'), (1039, 'example_1039'), (1040, 'example_1040'), (1041, 'example_1041'), (1042, 'example_1042'), (1043, 'example_1043'), (1044, 'example_1044'), (1045, 'example_1045'), (1046, 'example_1046'), (1047, 'example_1047'), (1048, 'example_1048'), (1049, 'example_1049'), (1050, 'example_1050'), (1051, 'example_1051'), (1052, 'example_1052'), (1053, 'example_1053'), (1054, 'example_1054'), (1055, 'example_1055'), (1056, 'example_1056'), (1057, 'example_1057'), (1058, 'example_1058'), (1059, 'example_1059'), (1060, 'example_1060'), (1061, 'example_1061'), (1062, 'example_1062'), (1063, 'example_1063'), (1064, 'example_1064'), (1065, 'example_1065'), (1066, 'example_1066'), (1067, 'example_1067'), (1068, 'example_1068'), (1069, 'example_1069'), (1070, 'example_1070'), (1071, 'example_1071'), (1072, 'example_1072'), (1073, 'example_1073'), (1074, 'example_1074'), (1075, 'example_1075'), (1076, 'example_1076'), (1077, 'example_1077'), (1078, 'example_1078'), (1079, 'example_1079'), (1080, 'example_1080'), (1081, 'example_1081'), (1082, 'example_1082'), (1083, 'example_1083'), (1084, 'example_1084'), (1085, 'example_1085'), (1086, 'example_1086'), (1087, 'example_1087'), (1088, 'example_1088'), (1089, 'example_1089'), (1090, 'example_1090'), (1091, 'example_1091'), (1092, 'example_1092'), (1093, 'example_1093'), (1094, 'example_1094'), (1095, 'example_1095'), (1096, 'example_1096'), (1097, 'example_1097'), (1098, 'example_1098'), (1099, 'example_1099'), (1100, 'example_1100'), (1101, 'example_1101'), (1102, 'example_1102'), (1103, 'example_1103'), (1104, 'example_1104'), (1105, 'example_1105'), (1106, 'example_1106'), (1107, 'example_1107'), (1108, 'example_1108'), (1109, 'example_1109'), (1110, 'example_1110'), (1111, 'example_1111'), (1112, 'example_1112'), (1113, 'example_1113'), (1114, 'example_1114'), (1115, 'example_1115'), (1116, 'example_1116'), (1117, 'example_1117'), (1118, 'example_1118'), (1119, 'example_1119'), (1120, 'example_1120'), (1121, 'example_1121'), (1122, 'example_1122'), (1123, 'example_1123'), (1124, 'example_1124'), (1125, 'example_1125'), (1126, 'example_1126'), (1127, 'example_1127'), (1128, 'example_1128'), (1129, 'example_1129'), (1130, 'example_1130'), (1131, 'example_1131'), (1132, 'example_1132'), (1133, 'example_1133'), (1134, 'example_1134'), (1135, 'example_1135'), (1136, 'example_1136'), (1137, 'example_1137'), (1138, 'example_1138'), (1139, 'example_1139'), (1140, 'example_1140'), (1141, 'example_1141'), (1142, 'example_1142'), (1143, 'example_1143'), (1144, 'example_1144'), (1145, 'example_1145'), (1146, 'example_1146'), (1147, 'example_1147'), (1148, 'example_1148'), (1149, 'example_1149'), (1150, 'example_1150'), (1151, 'example_1151'), (1152, 'example_1152'), (1153, 'example_1153'), (1154, 'example_1154'), (1155, 'example_1155'), (1156, 'example_1156'), (1157, 'example_1157'), (1158, 'example_1158'), (1159, 'example_1159'), (1160, 'example_1160'), (1161, 'example_1161'), (1162, 'example_1162'), (1163, 'example_1163'), (1164, 'example_1164'), (1165, 'example_1165'), (1166, 'example_1166'), (1167, 'example_1167'), (1168, 'example_1168'), (1169, 'example_1169'), (1170, 'example_1170'), (1171, 'example_1171'), (1172, 'example_1172'), (1173, 'example_1173'), (1174, 'example_1174'), (1175, 'example_1175'), (1176, 'example_1176'), (1177, 'example_1177'), (1178, 'example_1178'), (1179, 'example_1179'), (1180, 'example_1180'), (1181, 'example_1181'), (1182, 'example_1182'), (1183, 'example_1183'), (1184, 'example_1184'), (1185, 'example_1185'), (1186, 'example_1186'), (1187, 'example_1187'), (1188, 'example_1188'), (1189, 'example_1189'), (1190, 'example_1190'), (1191, 'example_1191'), (1192, 'example_1192'), (1193, 'example_1193'), (1194, 'example_1194'), (1195, 'example_1195'), (1196, 'example_1196'), (1197, 'example_1197'), (1198, 'example_1198'), (1199, 'example_1199'), (1200, 'example_1200'), (1201, 'example_1201'), (1202, 'example_1202'), (1203, 'example_1203'), (1204, 'example_1204'), (1205, 'example_1205'), (1206, 'example_1206'), (1207, 'example_1207'), (1208, 'example_1208'), (1209, 'example_1209'), (1210, 'example_1210'), (1211, 'example_1211'), (1212, 'example_1212'), (1213, 'example_1213'), (1214, 'example_1214'), (1215, 'example_1215'), (1216, 'example_1216'), (1217, 'example_1217'), (1218, 'example_1218'), (1219, 'example_1219'), (1220, 'example_1220'), (1221, 'example_1221'), (1222, 'example_1222'), (1223, 'example_1223'), (1224, 'example_1224'), (1225, 'example_1225'), (1226, 'example_1226'), (1227, 'example_1227'), (1228, 'example_1228'), (1229, 'example_1229'), (1230, 'example_1230'), (1231, 'example_1231'), (1232, 'example_1232'), (1233, 'example_1233'), (1234, 'example_1234'), (1235, 'example_1235'), (1236, 'example_1236'), (1237, 'example_1237'), (1238, 'example_1238'), (1239, 'example_1239'), (1240, 'example_1240'), (1241, 'example_1241'), (1242, 'example_1242'), (1243, 'example_1243'), (1244, 'example_1244'), (1245, 'example_1245'), (1246, 'example_1246'), (1247, 'example_1247'), (1248, 'example_1248'), (1249, 'example_1249'), (1250, 'example_1250'), (1251, 'example_1251'), (1252, 'example_1252'), (1253, 'example_1253'), (1254, 'example_1254'), (1255, 'example_1255'), (1256, 'example_1256'), (1257, 'example_1257'), (1258, 'example_1258'), (1259, 'example_1259'), (1260, 'example_1260'), (1261, 'example_1261'), (1262, 'example_1262'), (1263, 'example_1263'), (1264, 'example_1264'), (1265, 'example_1265'), (1266, 'example_1266'), (1267, 'example_1267'), (1268, 'example_1268'), (1269, 'example_1269'), (1270, 'example_1270'), (1271, 'example_1271'), (1272, 'example_1272'), (1273, 'example_1273'), (1274, 'example_1274'), (1275, 'example_1275'), (1276, 'example_1276'), (1277, 'example_1277'), (1278, 'example_1278'), (1279, 'example_1279'), (1280, 'example_1280'), (1281, 'example_1281'), (1282, 'example_1282'), (1283, 'example_1283'), (1284, 'example_1284'), (1285, 'example_1285'), (1286, 'example_1286'), (1287, 'example_1287'), (1288, 'example_1288'), (1289, 'example_1289'), (1290, 'example_1290'), (1291, 'example_1291'), (1292, 'example_1292'), (1293, 'example_1293'), (1294, 'example_1294'), (1295, 'example_1295'), (1296, 'example_1296'), (1297, 'example_1297'), (1298, 'example_1298'), (1299, 'example_1299'), (1300, 'example_1300'), (1301, 'example_1301'), (1302, 'example_1302'), (1303, 'example_1303'), (1304, 'example_1304'), (1305, 'example_1305'), (1306, 'example_1306'), (1307, 'example_1307'), (1308, 'example_1308'), (1309, 'example_1309'), (1310, 'example_1310'), (1311, 'example_1311'), (1312, 'example_1312'), (1313, 'example_1313'), (1314, 'example_1314'), (1315, 'example_1315'), (1316, 'example_1316'), (1317, 'example_1317'), (1318, 'example_1318'), (1319, 'example_1319'), (1320, 'example_1320'), (1321, 'example_1321'), (1322, 'example_1322'), (1323, 'example_1323'), (1324, 'example_1324'), (1325, 'example_1325'), (1326, 'example_1326'), (1327, 'example_1327'), (1328, 'example_1328'), (1329, 'example_1329'), (1330, 'example_1330'), (1331, 'example_1331'), (1332, 'example_1332'), (1333, 'example_1333'), (1334, 'example_1334'), (1335, 'example_1335'), (1336, 'example_1336'), (1337, 'example_1337'), (1338, 'example_1338'), (1339, 'example_1339'), (1340, 'example_1340'), (1341, 'example_1341'), (1342, 'example_1342'), (1343, 'example_1343'), (1344, 'example_1344'), (1345, 'example_1345'), (1346, 'example_1346'), (1347, 'example_1347'), (1348, 'example_1348'), (1349, 'example_1349'), (1350, 'example_1350'), (1351, 'example_1351'), (1352, 'example_1352'), (1353, 'example_1353'), (1354, 'example_1354'), (1355, 'example_1355'), (1356, 'example_1356'), (1357, 'example_1357'), (1358, 'example_1358'), (1359, 'example_1359'), (1360, 'example_1360'), (1361, 'example_1361'), (1362, 'example_1362'), (1363, 'example_1363'), (1364, 'example_1364'), (1365, 'example_1365'), (1366, 'example_1366'), (1367, 'example_1367'), (1368, 'example_1368'), (1369, 'example_1369'), (1370, 'example_1370'), (1371, 'example_1371'), (1372, 'example_1372'), (1373, 'example_1373'), (1374, 'example_1374'), (1375, 'example_1375'), (1376, 'example_1376'), (1377, 'example_1377'), (1378, 'example_1378'), (1379, 'example_1379'), (1380, 'example_1380'), (1381, 'example_1381'), (1382, 'example_1382'), (1383, 'example_1383'), (1384, 'example_1384'), (1385, 'example_1385'), (1386, 'example_1386'), (1387, 'example_1387'), (1388, 'example_1388'), (1389, 'example_1389'), (1390, 'example_1390'), (1391, 'example_1391'), (1392, 'example_1392'), (1393, 'example_1393'), (1394, 'example_1394'), (1395, 'example_1395'), (1396, 'example_1396'), (1397, 'example_1397'), (1398, 'example_1398'), (1399, 'example_1399'), (1400, 'example_1400'), (1401, 'example_1401'), (1402, 'example_1402'), (1403, 'example_1403'), (1404, 'example_1404'), (1405, 'example_1405'), (1406, 'example_1406'), (1407, 'example_1407'), (1408, 'example_1408'), (1409, 'example_1409'), (1410, 'example_1410'), (1411, 'example_1411'), (1412, 'example_1412'), (1413, 'example_1413'), (1414, 'example_1414'), (1415, 'example_1415'), (1416, 'example_1416'), (1417, 'example_1417'), (1418, 'example_1418'), (1419, 'example_1419'), (1420, 'example_1420'), (1421, 'example_1421'), (1422, 'example_1422'), (1423, 'example_1423'), (1424, 'example_1424'), (1425, 'example_1425'), (1426, 'example_1426'), (1427, 'example_1427'), (1428, 'example_1428'), (1429, 'example_1429'), (1430, 'example_1430'), (1431, 'example_1431'), (1432, 'example_1432'), (1433, 'example_1433'), (1434, 'example_1434'), (1435, 'example_1435'), (1436, 'example_1436'), (1437, 'example_1437'), (1438, 'example_1438'), (1439, 'example_1439'), (1440, 'example_1440'), (1441, 'example_1441'), (1442, 'example_1442'), (1443, 'example_1443'), (1444, 'example_1444'), (1445, 'example_1445'), (1446, 'example_1446'), (1447, 'example_1447'), (1448, 'example_1448'), (1449, 'example_1449'), (1450, 'example_1450'), (1451, 'example_1451'), (1452, 'example_1452'), (1453, 'example_1453'), (1454, 'example_1454'), (1455, 'example_1455'), (1456, 'example_1456'), (1457, 'example_1457'), (1458, 'example_1458'), (1459, 'example_1459'), (1460, 'example_1460'), (1461, 'example_1461'), (1462, 'example_1462'), (1463, 'example_1463'), (1464, 'example_1464'), (1465, 'example_1465'), (1466, 'example_1466'), (1467, 'example_1467'), (1468, 'example_1468'), (1469, 'example_1469'), (1470, 'example_1470'), (1471, 'example_1471'), (1472, 'example_1472'), (1473, 'example_1473'), (1474, 'example_1474'), (1475, 'example_1475'), (1476, 'example_1476'), (1477, 'example_1477'), (1478, 'example_1478'), (1479, 'example_1479'), (1480, 'example_1480'), (1481, 'example_1481'), (1482, 'example_1482'), (1483, 'example_1483'), (1484, 'example_1484'), (1485, 'example_1485'), (1486, 'example_1486'), (1487, 'example_1487'), (1488, 'example_1488'), (1489, 'example_1489'), (1490, 'example_1490'), (1491, 'example_1491'), (1492, 'example_1492'), (1493, 'example_1493'), (1494, 'example_1494'), (1495, 'example_1495'), (1496, 'example_1496'), (1497, 'example_1497'), (1498, 'example_1498'), (1499, 'example_1499'), (1500, 'example_1500'), (1501, 'example_1501'), (1502, 'example_1502'), (1503, 'example_1503'), (1504, 'example_1504'), (1505, 'example_1505'), (1506, 'example_1506'), (1507, 'example_1507'), (1508, 'example_1508'), (1509, 'example_1509'), (1510, 'example_1510'), (1511, 'example_1511'), (1512, 'example_1512'), (1513, 'example_1513'), (1514, 'example_1514'), (1515, 'example_1515'), (1516, 'example_1516'), (1517, 'example_1517'), (1518, 'example_1518'), (1519, 'example_1519'), (1520, 'example_1520'), (1521, 'example_1521'), (1522, 'example_1522'), (1523, 'example_1523'), (1524, 'example_1524'), (1525, 'example_1525'), (1526, 'example_1526'), (1527, 'example_1527'), (1528, 'example_1528'), (1529, 'example_1529'), (1530, 'example_1530'), (1531, 'example_1531'), (1532, 'example_1532'), (1533, 'example_1533'), (1534, 'example_1534'), (1535, 'example_1535'), (1536, 'example_1536'), (1537, 'example_1537'), (1538, 'example_1538'), (1539, 'example_1539'), (1540, 'example_1540'), (1541, 'example_1541'), (1542, 'example_1542'), (1543, 'example_1543'), (1544, 'example_1544'), (1545, 'example_1545'), (1546, 'example_1546'), (1547, 'example_1547'), (1548, 'example_1548'), (1549, 'example_1549'), (1550, 'example_1550'), (1551, 'example_1551'), (1552, 'example_1552'), (1553, 'example_1553'), (1554, 'example_1554'), (1555, 'example_1555'), (1556, 'example_1556'), (1557, 'example_1557'), (1558, 'example_1558'), (1559, 'example_1559'), (1560, 'example_1560'), (1561, 'example_1561'), (1562, 'example_1562'), (1563, 'example_1563'), (1564, 'example_1564'), (1565, 'example_1565'), (1566, 'example_1566'), (1567, 'example_1567'), (1568, 'example_1568'), (1569, 'example_1569'), (1570, 'example_1570'), (1571, 'example_1571'), (1572, 'example_1572'), (1573, 'example_1573'), (1574, 'example_1574'), (1575, 'example_1575'), (1576, 'example_1576'), (1577, 'example_1577'), (1578, 'example_1578'), (1579, 'example_1579'), (1580, 'example_1580'), (1581, 'example_1581'), (1582, 'example_1582'), (1583, 'example_1583'), (1584, 'example_1584'), (1585, 'example_1585'), (1586, 'example_1586'), (1587, 'example_1587'), (1588, 'example_1588'), (1589, 'example_1589'), (1590, 'example_1590'), (1591, 'example_1591'), (1592, 'example_1592'), (1593, 'example_1593'), (1594, 'example_1594'), (1595, 'example_1595'), (1596, 'example_1596'), (1597, 'example_1597'), (1598, 'example_1598'), (1599, 'example_1599'), (1600, 'example_1600'), (1601, 'example_1601'), (1602, 'example_1602'), (1603, 'example_1603'), (1604, 'example_1604'), (1605, 'example_1605'), (1606, 'example_1606'), (1607, 'example_1607'), (1608, 'example_1608'), (1609, 'example_1609'), (1610, 'example_1610'), (1611, 'example_1611'), (1612, 'example_1612'), (1613, 'example_1613'), (1614, 'example_1614'), (1615, 'example_1615'), (1616, 'example_1616'), (1617, 'example_1617'), (1618, 'example_1618'), (1619, 'example_1619'), (1620, 'example_1620'), (1621, 'example_1621'), (1622, 'example_1622'), (1623, 'example_1623'), (1624, 'example_1624'), (1625, 'example_1625'), (1626, 'example_1626'), (1627, 'example_1627'), (1628, 'example_1628'), (1629, 'example_1629'), (1630, 'example_1630'), (1631, 'example_1631'), (1632, 'example_1632'), (1633, 'example_1633'), (1634, 'example_1634'), (1635, 'example_1635'), (1636, 'example_1636'), (1637, 'example_1637'), (1638, 'example_1638'), (1639, 'example_1639'), (1640, 'example_1640'), (1641, 'example_1641'), (1642, 'example_1642'), (1643, 'example_1643'), (1644, 'example_1644'), (1645, 'example_1645'), (1646, 'example_1646'), (1647, 'example_1647'), (1648, 'example_1648'), (1649, 'example_1649'), (1650, 'example_1650'), (1651, 'example_1651'), (1652, 'example_1652'), (1653, 'example_1653'), (1654, 'example_1654'), (1655, 'example_1655'), (1656, 'example_1656'), (1657, 'example_1657'), (1658, 'example_1658'), (1659, 'example_1659'), (1660, 'example_1660'), (1661, 'example_1661'), (1662, 'example_1662'), (1663, 'example_1663'), (1664, 'example_1664'), (1665, 'example_1665'), (1666, 'example_1666'), (1667, 'example_1667'), (1668, 'example_1668'), (1669, 'example_1669'), (1670, 'example_1670'), (1671, 'example_1671'), (1672, 'example_1672'), (1673, 'example_1673'), (1674, 'example_1674'), (1675, 'example_1675'), (1676, 'example_1676'), (1677, 'example_1677'), (1678, 'example_1678'), (1679, 'example_1679'), (1680, 'example_1680'), (1681, 'example_1681'), (1682, 'example_1682'), (1683, 'example_1683'), (1684, 'example_1684'), (1685, 'example_1685'), (1686, 'example_1686'), (1687, 'example_1687'), (1688, 'example_1688'), (1689, 'example_1689'), (1690, 'example_1690'), (1691, 'example_1691'), (1692, 'example_1692'), (1693, 'example_1693'), (1694, 'example_1694'), (1695, 'example_1695'), (1696, 'example_1696'), (1697, 'example_1697'), (1698, 'example_1698'), (1699, 'example_1699'), (1700, 'example_1700'), (1701, 'example_1701'), (1702, 'example_1702'), (1703, 'example_1703'), (1704, 'example_1704'), (1705, 'example_1705'), (1706, 'example_1706'), (1707, 'example_1707'), (1708, 'example_1708'), (1709, 'example_1709'), (1710, 'example_1710'), (1711, 'example_1711'), (1712, 'example_1712'), (1713, 'example_1713'), (1714, 'example_1714'), (1715, 'example_1715'), (1716, 'example_1716'), (1717, 'example_1717'), (1718, 'example_1718'), (1719, 'example_1719'), (1720, 'example_1720'), (1721, 'example_1721'), (1722, 'example_1722'), (1723, 'example_1723'), (1724, 'example_1724'), (1725, 'example_1725'), (1726, 'example_1726'), (1727, 'example_1727'), (1728, 'example_1728'), (1729, 'example_1729'), (1730, 'example_1730'), (1731, 'example_1731'), (1732, 'example_1732'), (1733, 'example_1733'), (1734, 'example_1734'), (1735, 'example_1735'), (1736, 'example_1736'), (1737, 'example_1737'), (1738, 'example_1738'), (1739, 'example_1739'), (1740, 'example_1740'), (1741, 'example_1741'), (1742, 'example_1742'), (1743, 'example_1743'), (1744, 'example_1744'), (1745, 'example_1745'), (1746, 'example_1746'), (1747, 'example_1747'), (1748, 'example_1748'), (1749, 'example_1749'), (1750, 'example_1750'), (1751, 'example_1751'), (1752, 'example_1752'), (1753, 'example_1753'), (1754, 'example_1754'), (1755, 'example_1755'), (1756, 'example_1756'), (1757, 'example_1757'), (1758, 'example_1758'), (1759, 'example_1759'), (1760, 'example_1760'), (1761, 'example_1761'), (1762, 'example_1762'), (1763, 'example_1763'), (1764, 'example_1764'), (1765, 'example_1765'), (1766, 'example_1766'), (1767, 'example_1767'), (1768, 'example_1768'), (1769, 'example_1769'), (1770, 'example_1770'), (1771, 'example_1771'), (1772, 'example_1772'), (1773, 'example_1773'), (1774, 'example_1774'), (1775, 'example_1775'), (1776, 'example_1776'), (1777, 'example_1777'), (1778, 'example_1778'), (1779, 'example_1779'), (1780, 'example_1780'), (1781, 'example_1781'), (1782, 'example_1782'), (1783, 'example_1783'), (1784, 'example_1784'), (1785, 'example_1785'), (1786, 'example_1786'), (1787, 'example_1787'), (1788, 'example_1788'), (1789, 'example_1789'), (1790, 'example_1790'), (1791, 'example_1791'), (1792, 'example_1792'), (1793, 'example_1793'), (1794, 'example_1794'), (1795, 'example_1795'), (1796, 'example_1796'), (1797, 'example_1797'), (1798, 'example_1798'), (1799, 'example_1799'), (1800, 'example_1800'), (1801, 'example_1801'), (1802, 'example_1802'), (1803, 'example_1803'), (1804, 'example_1804'), (1805, 'example_1805'), (1806, 'example_1806'), (1807, 'example_1807'), (1808, 'example_1808'), (1809, 'example_1809'), (1810, 'example_1810'), (1811, 'example_1811'), (1812, 'example_1812'), (1813, 'example_1813'), (1814, 'example_1814'), (1815, 'example_1815'), (1816, 'example_1816'), (1817, 'example_1817'), (1818, 'example_1818'), (1819, 'example_1819'), (1820, 'example_1820'), (1821, 'example_1821'), (1822, 'example_1822'), (1823, 'example_1823'), (1824, 'example_1824'), (1825, 'example_1825'), (1826, 'example_1826'), (1827, 'example_1827'), (1828, 'example_1828'), (1829, 'example_1829'), (1830, 'example_1830'), (1831, 'example_1831'), (1832, 'example_1832'), (1833, 'example_1833'), (1834, 'example_1834'), (1835, 'example_1835'), (1836, 'example_1836'), (1837, 'example_1837'), (1838, 'example_1838'), (1839, 'example_1839'), (1840, 'example_1840'), (1841, 'example_1841'), (1842, 'example_1842'), (1843, 'example_1843'), (1844, 'example_1844'), (1845, 'example_1845'), (1846, 'example_1846'), (1847, 'example_1847'), (1848, 'example_1848'), (1849, 'example_1849'), (1850, 'example_1850'), (1851, 'example_1851'), (1852, 'example_1852'), (1853, 'example_1853'), (1854, 'example_1854'), (1855, 'example_1855'), (1856, 'example_1856'), (1857, 'example_1857'), (1858, 'example_1858'), (1859, 'example_1859'), (1860, 'example_1860'), (1861, 'example_1861'), (1862, 'example_1862'), (1863, 'example_1863'), (1864, 'example_1864'), (1865, 'example_1865'), (1866, 'example_1866'), (1867, 'example_1867'), (1868, 'example_1868'), (1869, 'example_1869'), (1870, 'example_1870'), (1871, 'example_1871'), (1872, 'example_1872'), (1873, 'example_1873'), (1874, 'example_1874'), (1875, 'example_1875'), (1876, 'example_1876'), (1877, 'example_1877'), (1878, 'example_1878'), (1879, 'example_1879'), (1880, 'example_1880'), (1881, 'example_1881'), (1882, 'example_1882'), (1883, 'example_1883'), (1884, 'example_1884'), (1885, 'example_1885'), (1886, 'example_1886'), (1887, 'example_1887'), (1888, 'example_1888'), (1889, 'example_1889'), (1890, 'example_1890'), (1891, 'example_1891'), (1892, 'example_1892'), (1893, 'example_1893'), (1894, 'example_1894'), (1895, 'example_1895'), (1896, 'example_1896'), (1897, 'example_1897'), (1898, 'example_1898'), (1899, 'example_1899'), (1900, 'example_1900'), (1901, 'example_1901'), (1902, 'example_1902'), (1903, 'example_1903'), (1904, 'example_1904'), (1905, 'example_1905'), (1906, 'example_1906'), (1907, 'example_1907'), (1908, 'example_1908'), (1909, 'example_1909'), (1910, 'example_1910'), (1911, 'example_1911'), (1912, 'example_1912'), (1913, 'example_1913'), (1914, 'example_1914'), (1915, 'example_1915'), (1916, 'example_1916'), (1917, 'example_1917'), (1918, 'example_1918'), (1919, 'example_1919'), (1920, 'example_1920'), (1921, 'example_1921'), (1922, 'example_1922'), (1923, 'example_1923'), (1924, 'example_1924'), (1925, 'example_1925'), (1926, 'example_1926'), (1927, 'example_1927'), (1928, 'example_1928'), (1929, 'example_1929'), (1930, 'example_1930'), (1931, 'example_1931'), (1932, 'example_1932'), (1933, 'example_1933'), (1934, 'example_1934'), (1935, 'example_1935'), (1936, 'example_1936'), (1937, 'example_1937'), (1938, 'example_1938'), (1939, 'example_1939'), (1940, 'example_1940'), (1941, 'example_1941'), (1942, 'example_1942'), (1943, 'example_1943'), (1944, 'example_1944'), (1945, 'example_1945'), (1946, 'example_1946'), (1947, 'example_1947'), (1948, 'example_1948'), (1949, 'example_1949'), (1950, 'example_1950'), (1951, 'example_1951'), (1952, 'example_1952'), (1953, 'example_1953'), (1954, 'example_1954'), (1955, 'example_1955'), (1956, 'example_1956'), (1957, 'example_1957'), (1958, 'example_1958'), (1959, 'example_1959'), (1960, 'example_1960'), (1961, 'example_1961'), (1962, 'example_1962'), (1963, 'example_1963'), (1964, 'example_1964'), (1965, 'example_1965'), (1966, 'example_1966'), (1967, 'example_1967'), (1968, 'example_1968'), (1969, 'example_1969'), (1970, 'example_1970'), (1971, 'example_1971'), (1972, 'example_1972'), (1973, 'example_1973'), (1974, 'example_1974'), (1975, 'example_1975'), (1976, 'example_1976'), (1977, 'example_1977'), (1978, 'example_1978'), (1979, 'example_1979'), (1980, 'example_1980'), (1981, 'example_1981'), (1982, 'example_1982'), (1983, 'example_1983'), (1984, 'example_1984'), (1985, 'example_1985'), (1986, 'example_1986'), (1987, 'example_1987'), (1988, 'example_1988'), (1989, 'example_1989'), (1990, 'example_1990'), (1991, 'example_1991'), (1992, 'example_1992'), (1993, 'example_1993'), (1994, 'example_1994'), (1995, 'example_1995'), (1996, 'example_1996'), (1997, 'example_1997'), (1998, 'example_1998'), (1999, 'example_1999')]\n",
            "1000\n",
            "[(2000, 'example_2000'), (2001, 'example_2001'), (2002, 'example_2002'), (2003, 'example_2003'), (2004, 'example_2004'), (2005, 'example_2005'), (2006, 'example_2006'), (2007, 'example_2007'), (2008, 'example_2008'), (2009, 'example_2009'), (2010, 'example_2010'), (2011, 'example_2011'), (2012, 'example_2012'), (2013, 'example_2013'), (2014, 'example_2014'), (2015, 'example_2015'), (2016, 'example_2016'), (2017, 'example_2017'), (2018, 'example_2018'), (2019, 'example_2019'), (2020, 'example_2020'), (2021, 'example_2021'), (2022, 'example_2022'), (2023, 'example_2023'), (2024, 'example_2024'), (2025, 'example_2025'), (2026, 'example_2026'), (2027, 'example_2027'), (2028, 'example_2028'), (2029, 'example_2029'), (2030, 'example_2030'), (2031, 'example_2031'), (2032, 'example_2032'), (2033, 'example_2033'), (2034, 'example_2034'), (2035, 'example_2035'), (2036, 'example_2036'), (2037, 'example_2037'), (2038, 'example_2038'), (2039, 'example_2039'), (2040, 'example_2040'), (2041, 'example_2041'), (2042, 'example_2042'), (2043, 'example_2043'), (2044, 'example_2044'), (2045, 'example_2045'), (2046, 'example_2046'), (2047, 'example_2047'), (2048, 'example_2048'), (2049, 'example_2049'), (2050, 'example_2050'), (2051, 'example_2051'), (2052, 'example_2052'), (2053, 'example_2053'), (2054, 'example_2054'), (2055, 'example_2055'), (2056, 'example_2056'), (2057, 'example_2057'), (2058, 'example_2058'), (2059, 'example_2059'), (2060, 'example_2060'), (2061, 'example_2061'), (2062, 'example_2062'), (2063, 'example_2063'), (2064, 'example_2064'), (2065, 'example_2065'), (2066, 'example_2066'), (2067, 'example_2067'), (2068, 'example_2068'), (2069, 'example_2069'), (2070, 'example_2070'), (2071, 'example_2071'), (2072, 'example_2072'), (2073, 'example_2073'), (2074, 'example_2074'), (2075, 'example_2075'), (2076, 'example_2076'), (2077, 'example_2077'), (2078, 'example_2078'), (2079, 'example_2079'), (2080, 'example_2080'), (2081, 'example_2081'), (2082, 'example_2082'), (2083, 'example_2083'), (2084, 'example_2084'), (2085, 'example_2085'), (2086, 'example_2086'), (2087, 'example_2087'), (2088, 'example_2088'), (2089, 'example_2089'), (2090, 'example_2090'), (2091, 'example_2091'), (2092, 'example_2092'), (2093, 'example_2093'), (2094, 'example_2094'), (2095, 'example_2095'), (2096, 'example_2096'), (2097, 'example_2097'), (2098, 'example_2098'), (2099, 'example_2099'), (2100, 'example_2100'), (2101, 'example_2101'), (2102, 'example_2102'), (2103, 'example_2103'), (2104, 'example_2104'), (2105, 'example_2105'), (2106, 'example_2106'), (2107, 'example_2107'), (2108, 'example_2108'), (2109, 'example_2109'), (2110, 'example_2110'), (2111, 'example_2111'), (2112, 'example_2112'), (2113, 'example_2113'), (2114, 'example_2114'), (2115, 'example_2115'), (2116, 'example_2116'), (2117, 'example_2117'), (2118, 'example_2118'), (2119, 'example_2119'), (2120, 'example_2120'), (2121, 'example_2121'), (2122, 'example_2122'), (2123, 'example_2123'), (2124, 'example_2124'), (2125, 'example_2125'), (2126, 'example_2126'), (2127, 'example_2127'), (2128, 'example_2128'), (2129, 'example_2129'), (2130, 'example_2130'), (2131, 'example_2131'), (2132, 'example_2132'), (2133, 'example_2133'), (2134, 'example_2134'), (2135, 'example_2135'), (2136, 'example_2136'), (2137, 'example_2137'), (2138, 'example_2138'), (2139, 'example_2139'), (2140, 'example_2140'), (2141, 'example_2141'), (2142, 'example_2142'), (2143, 'example_2143'), (2144, 'example_2144'), (2145, 'example_2145'), (2146, 'example_2146'), (2147, 'example_2147'), (2148, 'example_2148'), (2149, 'example_2149'), (2150, 'example_2150'), (2151, 'example_2151'), (2152, 'example_2152'), (2153, 'example_2153'), (2154, 'example_2154'), (2155, 'example_2155'), (2156, 'example_2156'), (2157, 'example_2157'), (2158, 'example_2158'), (2159, 'example_2159'), (2160, 'example_2160'), (2161, 'example_2161'), (2162, 'example_2162'), (2163, 'example_2163'), (2164, 'example_2164'), (2165, 'example_2165'), (2166, 'example_2166'), (2167, 'example_2167'), (2168, 'example_2168'), (2169, 'example_2169'), (2170, 'example_2170'), (2171, 'example_2171'), (2172, 'example_2172'), (2173, 'example_2173'), (2174, 'example_2174'), (2175, 'example_2175'), (2176, 'example_2176'), (2177, 'example_2177'), (2178, 'example_2178'), (2179, 'example_2179'), (2180, 'example_2180'), (2181, 'example_2181'), (2182, 'example_2182'), (2183, 'example_2183'), (2184, 'example_2184'), (2185, 'example_2185'), (2186, 'example_2186'), (2187, 'example_2187'), (2188, 'example_2188'), (2189, 'example_2189'), (2190, 'example_2190'), (2191, 'example_2191'), (2192, 'example_2192'), (2193, 'example_2193'), (2194, 'example_2194'), (2195, 'example_2195'), (2196, 'example_2196'), (2197, 'example_2197'), (2198, 'example_2198'), (2199, 'example_2199'), (2200, 'example_2200'), (2201, 'example_2201'), (2202, 'example_2202'), (2203, 'example_2203'), (2204, 'example_2204'), (2205, 'example_2205'), (2206, 'example_2206'), (2207, 'example_2207'), (2208, 'example_2208'), (2209, 'example_2209'), (2210, 'example_2210'), (2211, 'example_2211'), (2212, 'example_2212'), (2213, 'example_2213'), (2214, 'example_2214'), (2215, 'example_2215'), (2216, 'example_2216'), (2217, 'example_2217'), (2218, 'example_2218'), (2219, 'example_2219'), (2220, 'example_2220'), (2221, 'example_2221'), (2222, 'example_2222'), (2223, 'example_2223'), (2224, 'example_2224'), (2225, 'example_2225'), (2226, 'example_2226'), (2227, 'example_2227'), (2228, 'example_2228'), (2229, 'example_2229'), (2230, 'example_2230'), (2231, 'example_2231'), (2232, 'example_2232'), (2233, 'example_2233'), (2234, 'example_2234'), (2235, 'example_2235'), (2236, 'example_2236'), (2237, 'example_2237'), (2238, 'example_2238'), (2239, 'example_2239'), (2240, 'example_2240'), (2241, 'example_2241'), (2242, 'example_2242'), (2243, 'example_2243'), (2244, 'example_2244'), (2245, 'example_2245'), (2246, 'example_2246'), (2247, 'example_2247'), (2248, 'example_2248'), (2249, 'example_2249'), (2250, 'example_2250'), (2251, 'example_2251'), (2252, 'example_2252'), (2253, 'example_2253'), (2254, 'example_2254'), (2255, 'example_2255'), (2256, 'example_2256'), (2257, 'example_2257'), (2258, 'example_2258'), (2259, 'example_2259'), (2260, 'example_2260'), (2261, 'example_2261'), (2262, 'example_2262'), (2263, 'example_2263'), (2264, 'example_2264'), (2265, 'example_2265'), (2266, 'example_2266'), (2267, 'example_2267'), (2268, 'example_2268'), (2269, 'example_2269'), (2270, 'example_2270'), (2271, 'example_2271'), (2272, 'example_2272'), (2273, 'example_2273'), (2274, 'example_2274'), (2275, 'example_2275'), (2276, 'example_2276'), (2277, 'example_2277'), (2278, 'example_2278'), (2279, 'example_2279'), (2280, 'example_2280'), (2281, 'example_2281'), (2282, 'example_2282'), (2283, 'example_2283'), (2284, 'example_2284'), (2285, 'example_2285'), (2286, 'example_2286'), (2287, 'example_2287'), (2288, 'example_2288'), (2289, 'example_2289'), (2290, 'example_2290'), (2291, 'example_2291'), (2292, 'example_2292'), (2293, 'example_2293'), (2294, 'example_2294'), (2295, 'example_2295'), (2296, 'example_2296'), (2297, 'example_2297'), (2298, 'example_2298'), (2299, 'example_2299'), (2300, 'example_2300'), (2301, 'example_2301'), (2302, 'example_2302'), (2303, 'example_2303'), (2304, 'example_2304'), (2305, 'example_2305'), (2306, 'example_2306'), (2307, 'example_2307'), (2308, 'example_2308'), (2309, 'example_2309'), (2310, 'example_2310'), (2311, 'example_2311'), (2312, 'example_2312'), (2313, 'example_2313'), (2314, 'example_2314'), (2315, 'example_2315'), (2316, 'example_2316'), (2317, 'example_2317'), (2318, 'example_2318'), (2319, 'example_2319'), (2320, 'example_2320'), (2321, 'example_2321'), (2322, 'example_2322'), (2323, 'example_2323'), (2324, 'example_2324'), (2325, 'example_2325'), (2326, 'example_2326'), (2327, 'example_2327'), (2328, 'example_2328'), (2329, 'example_2329'), (2330, 'example_2330'), (2331, 'example_2331'), (2332, 'example_2332'), (2333, 'example_2333'), (2334, 'example_2334'), (2335, 'example_2335'), (2336, 'example_2336'), (2337, 'example_2337'), (2338, 'example_2338'), (2339, 'example_2339'), (2340, 'example_2340'), (2341, 'example_2341'), (2342, 'example_2342'), (2343, 'example_2343'), (2344, 'example_2344'), (2345, 'example_2345'), (2346, 'example_2346'), (2347, 'example_2347'), (2348, 'example_2348'), (2349, 'example_2349'), (2350, 'example_2350'), (2351, 'example_2351'), (2352, 'example_2352'), (2353, 'example_2353'), (2354, 'example_2354'), (2355, 'example_2355'), (2356, 'example_2356'), (2357, 'example_2357'), (2358, 'example_2358'), (2359, 'example_2359'), (2360, 'example_2360'), (2361, 'example_2361'), (2362, 'example_2362'), (2363, 'example_2363'), (2364, 'example_2364'), (2365, 'example_2365'), (2366, 'example_2366'), (2367, 'example_2367'), (2368, 'example_2368'), (2369, 'example_2369'), (2370, 'example_2370'), (2371, 'example_2371'), (2372, 'example_2372'), (2373, 'example_2373'), (2374, 'example_2374'), (2375, 'example_2375'), (2376, 'example_2376'), (2377, 'example_2377'), (2378, 'example_2378'), (2379, 'example_2379'), (2380, 'example_2380'), (2381, 'example_2381'), (2382, 'example_2382'), (2383, 'example_2383'), (2384, 'example_2384'), (2385, 'example_2385'), (2386, 'example_2386'), (2387, 'example_2387'), (2388, 'example_2388'), (2389, 'example_2389'), (2390, 'example_2390'), (2391, 'example_2391'), (2392, 'example_2392'), (2393, 'example_2393'), (2394, 'example_2394'), (2395, 'example_2395'), (2396, 'example_2396'), (2397, 'example_2397'), (2398, 'example_2398'), (2399, 'example_2399'), (2400, 'example_2400'), (2401, 'example_2401'), (2402, 'example_2402'), (2403, 'example_2403'), (2404, 'example_2404'), (2405, 'example_2405'), (2406, 'example_2406'), (2407, 'example_2407'), (2408, 'example_2408'), (2409, 'example_2409'), (2410, 'example_2410'), (2411, 'example_2411'), (2412, 'example_2412'), (2413, 'example_2413'), (2414, 'example_2414'), (2415, 'example_2415'), (2416, 'example_2416'), (2417, 'example_2417'), (2418, 'example_2418'), (2419, 'example_2419'), (2420, 'example_2420'), (2421, 'example_2421'), (2422, 'example_2422'), (2423, 'example_2423'), (2424, 'example_2424'), (2425, 'example_2425'), (2426, 'example_2426'), (2427, 'example_2427'), (2428, 'example_2428'), (2429, 'example_2429'), (2430, 'example_2430'), (2431, 'example_2431'), (2432, 'example_2432'), (2433, 'example_2433'), (2434, 'example_2434'), (2435, 'example_2435'), (2436, 'example_2436'), (2437, 'example_2437'), (2438, 'example_2438'), (2439, 'example_2439'), (2440, 'example_2440'), (2441, 'example_2441'), (2442, 'example_2442'), (2443, 'example_2443'), (2444, 'example_2444'), (2445, 'example_2445'), (2446, 'example_2446'), (2447, 'example_2447'), (2448, 'example_2448'), (2449, 'example_2449'), (2450, 'example_2450'), (2451, 'example_2451'), (2452, 'example_2452'), (2453, 'example_2453'), (2454, 'example_2454'), (2455, 'example_2455'), (2456, 'example_2456'), (2457, 'example_2457'), (2458, 'example_2458'), (2459, 'example_2459'), (2460, 'example_2460'), (2461, 'example_2461'), (2462, 'example_2462'), (2463, 'example_2463'), (2464, 'example_2464'), (2465, 'example_2465'), (2466, 'example_2466'), (2467, 'example_2467'), (2468, 'example_2468'), (2469, 'example_2469'), (2470, 'example_2470'), (2471, 'example_2471'), (2472, 'example_2472'), (2473, 'example_2473'), (2474, 'example_2474'), (2475, 'example_2475'), (2476, 'example_2476'), (2477, 'example_2477'), (2478, 'example_2478'), (2479, 'example_2479'), (2480, 'example_2480'), (2481, 'example_2481'), (2482, 'example_2482'), (2483, 'example_2483'), (2484, 'example_2484'), (2485, 'example_2485'), (2486, 'example_2486'), (2487, 'example_2487'), (2488, 'example_2488'), (2489, 'example_2489'), (2490, 'example_2490'), (2491, 'example_2491'), (2492, 'example_2492'), (2493, 'example_2493'), (2494, 'example_2494'), (2495, 'example_2495'), (2496, 'example_2496'), (2497, 'example_2497'), (2498, 'example_2498'), (2499, 'example_2499'), (2500, 'example_2500'), (2501, 'example_2501'), (2502, 'example_2502'), (2503, 'example_2503'), (2504, 'example_2504'), (2505, 'example_2505'), (2506, 'example_2506'), (2507, 'example_2507'), (2508, 'example_2508'), (2509, 'example_2509'), (2510, 'example_2510'), (2511, 'example_2511'), (2512, 'example_2512'), (2513, 'example_2513'), (2514, 'example_2514'), (2515, 'example_2515'), (2516, 'example_2516'), (2517, 'example_2517'), (2518, 'example_2518'), (2519, 'example_2519'), (2520, 'example_2520'), (2521, 'example_2521'), (2522, 'example_2522'), (2523, 'example_2523'), (2524, 'example_2524'), (2525, 'example_2525'), (2526, 'example_2526'), (2527, 'example_2527'), (2528, 'example_2528'), (2529, 'example_2529'), (2530, 'example_2530'), (2531, 'example_2531'), (2532, 'example_2532'), (2533, 'example_2533'), (2534, 'example_2534'), (2535, 'example_2535'), (2536, 'example_2536'), (2537, 'example_2537'), (2538, 'example_2538'), (2539, 'example_2539'), (2540, 'example_2540'), (2541, 'example_2541'), (2542, 'example_2542'), (2543, 'example_2543'), (2544, 'example_2544'), (2545, 'example_2545'), (2546, 'example_2546'), (2547, 'example_2547'), (2548, 'example_2548'), (2549, 'example_2549'), (2550, 'example_2550'), (2551, 'example_2551'), (2552, 'example_2552'), (2553, 'example_2553'), (2554, 'example_2554'), (2555, 'example_2555'), (2556, 'example_2556'), (2557, 'example_2557'), (2558, 'example_2558'), (2559, 'example_2559'), (2560, 'example_2560'), (2561, 'example_2561'), (2562, 'example_2562'), (2563, 'example_2563'), (2564, 'example_2564'), (2565, 'example_2565'), (2566, 'example_2566'), (2567, 'example_2567'), (2568, 'example_2568'), (2569, 'example_2569'), (2570, 'example_2570'), (2571, 'example_2571'), (2572, 'example_2572'), (2573, 'example_2573'), (2574, 'example_2574'), (2575, 'example_2575'), (2576, 'example_2576'), (2577, 'example_2577'), (2578, 'example_2578'), (2579, 'example_2579'), (2580, 'example_2580'), (2581, 'example_2581'), (2582, 'example_2582'), (2583, 'example_2583'), (2584, 'example_2584'), (2585, 'example_2585'), (2586, 'example_2586'), (2587, 'example_2587'), (2588, 'example_2588'), (2589, 'example_2589'), (2590, 'example_2590'), (2591, 'example_2591'), (2592, 'example_2592'), (2593, 'example_2593'), (2594, 'example_2594'), (2595, 'example_2595'), (2596, 'example_2596'), (2597, 'example_2597'), (2598, 'example_2598'), (2599, 'example_2599'), (2600, 'example_2600'), (2601, 'example_2601'), (2602, 'example_2602'), (2603, 'example_2603'), (2604, 'example_2604'), (2605, 'example_2605'), (2606, 'example_2606'), (2607, 'example_2607'), (2608, 'example_2608'), (2609, 'example_2609'), (2610, 'example_2610'), (2611, 'example_2611'), (2612, 'example_2612'), (2613, 'example_2613'), (2614, 'example_2614'), (2615, 'example_2615'), (2616, 'example_2616'), (2617, 'example_2617'), (2618, 'example_2618'), (2619, 'example_2619'), (2620, 'example_2620'), (2621, 'example_2621'), (2622, 'example_2622'), (2623, 'example_2623'), (2624, 'example_2624'), (2625, 'example_2625'), (2626, 'example_2626'), (2627, 'example_2627'), (2628, 'example_2628'), (2629, 'example_2629'), (2630, 'example_2630'), (2631, 'example_2631'), (2632, 'example_2632'), (2633, 'example_2633'), (2634, 'example_2634'), (2635, 'example_2635'), (2636, 'example_2636'), (2637, 'example_2637'), (2638, 'example_2638'), (2639, 'example_2639'), (2640, 'example_2640'), (2641, 'example_2641'), (2642, 'example_2642'), (2643, 'example_2643'), (2644, 'example_2644'), (2645, 'example_2645'), (2646, 'example_2646'), (2647, 'example_2647'), (2648, 'example_2648'), (2649, 'example_2649'), (2650, 'example_2650'), (2651, 'example_2651'), (2652, 'example_2652'), (2653, 'example_2653'), (2654, 'example_2654'), (2655, 'example_2655'), (2656, 'example_2656'), (2657, 'example_2657'), (2658, 'example_2658'), (2659, 'example_2659'), (2660, 'example_2660'), (2661, 'example_2661'), (2662, 'example_2662'), (2663, 'example_2663'), (2664, 'example_2664'), (2665, 'example_2665'), (2666, 'example_2666'), (2667, 'example_2667'), (2668, 'example_2668'), (2669, 'example_2669'), (2670, 'example_2670'), (2671, 'example_2671'), (2672, 'example_2672'), (2673, 'example_2673'), (2674, 'example_2674'), (2675, 'example_2675'), (2676, 'example_2676'), (2677, 'example_2677'), (2678, 'example_2678'), (2679, 'example_2679'), (2680, 'example_2680'), (2681, 'example_2681'), (2682, 'example_2682'), (2683, 'example_2683'), (2684, 'example_2684'), (2685, 'example_2685'), (2686, 'example_2686'), (2687, 'example_2687'), (2688, 'example_2688'), (2689, 'example_2689'), (2690, 'example_2690'), (2691, 'example_2691'), (2692, 'example_2692'), (2693, 'example_2693'), (2694, 'example_2694'), (2695, 'example_2695'), (2696, 'example_2696'), (2697, 'example_2697'), (2698, 'example_2698'), (2699, 'example_2699'), (2700, 'example_2700'), (2701, 'example_2701'), (2702, 'example_2702'), (2703, 'example_2703'), (2704, 'example_2704'), (2705, 'example_2705'), (2706, 'example_2706'), (2707, 'example_2707'), (2708, 'example_2708'), (2709, 'example_2709'), (2710, 'example_2710'), (2711, 'example_2711'), (2712, 'example_2712'), (2713, 'example_2713'), (2714, 'example_2714'), (2715, 'example_2715'), (2716, 'example_2716'), (2717, 'example_2717'), (2718, 'example_2718'), (2719, 'example_2719'), (2720, 'example_2720'), (2721, 'example_2721'), (2722, 'example_2722'), (2723, 'example_2723'), (2724, 'example_2724'), (2725, 'example_2725'), (2726, 'example_2726'), (2727, 'example_2727'), (2728, 'example_2728'), (2729, 'example_2729'), (2730, 'example_2730'), (2731, 'example_2731'), (2732, 'example_2732'), (2733, 'example_2733'), (2734, 'example_2734'), (2735, 'example_2735'), (2736, 'example_2736'), (2737, 'example_2737'), (2738, 'example_2738'), (2739, 'example_2739'), (2740, 'example_2740'), (2741, 'example_2741'), (2742, 'example_2742'), (2743, 'example_2743'), (2744, 'example_2744'), (2745, 'example_2745'), (2746, 'example_2746'), (2747, 'example_2747'), (2748, 'example_2748'), (2749, 'example_2749'), (2750, 'example_2750'), (2751, 'example_2751'), (2752, 'example_2752'), (2753, 'example_2753'), (2754, 'example_2754'), (2755, 'example_2755'), (2756, 'example_2756'), (2757, 'example_2757'), (2758, 'example_2758'), (2759, 'example_2759'), (2760, 'example_2760'), (2761, 'example_2761'), (2762, 'example_2762'), (2763, 'example_2763'), (2764, 'example_2764'), (2765, 'example_2765'), (2766, 'example_2766'), (2767, 'example_2767'), (2768, 'example_2768'), (2769, 'example_2769'), (2770, 'example_2770'), (2771, 'example_2771'), (2772, 'example_2772'), (2773, 'example_2773'), (2774, 'example_2774'), (2775, 'example_2775'), (2776, 'example_2776'), (2777, 'example_2777'), (2778, 'example_2778'), (2779, 'example_2779'), (2780, 'example_2780'), (2781, 'example_2781'), (2782, 'example_2782'), (2783, 'example_2783'), (2784, 'example_2784'), (2785, 'example_2785'), (2786, 'example_2786'), (2787, 'example_2787'), (2788, 'example_2788'), (2789, 'example_2789'), (2790, 'example_2790'), (2791, 'example_2791'), (2792, 'example_2792'), (2793, 'example_2793'), (2794, 'example_2794'), (2795, 'example_2795'), (2796, 'example_2796'), (2797, 'example_2797'), (2798, 'example_2798'), (2799, 'example_2799'), (2800, 'example_2800'), (2801, 'example_2801'), (2802, 'example_2802'), (2803, 'example_2803'), (2804, 'example_2804'), (2805, 'example_2805'), (2806, 'example_2806'), (2807, 'example_2807'), (2808, 'example_2808'), (2809, 'example_2809'), (2810, 'example_2810'), (2811, 'example_2811'), (2812, 'example_2812'), (2813, 'example_2813'), (2814, 'example_2814'), (2815, 'example_2815'), (2816, 'example_2816'), (2817, 'example_2817'), (2818, 'example_2818'), (2819, 'example_2819'), (2820, 'example_2820'), (2821, 'example_2821'), (2822, 'example_2822'), (2823, 'example_2823'), (2824, 'example_2824'), (2825, 'example_2825'), (2826, 'example_2826'), (2827, 'example_2827'), (2828, 'example_2828'), (2829, 'example_2829'), (2830, 'example_2830'), (2831, 'example_2831'), (2832, 'example_2832'), (2833, 'example_2833'), (2834, 'example_2834'), (2835, 'example_2835'), (2836, 'example_2836'), (2837, 'example_2837'), (2838, 'example_2838'), (2839, 'example_2839'), (2840, 'example_2840'), (2841, 'example_2841'), (2842, 'example_2842'), (2843, 'example_2843'), (2844, 'example_2844'), (2845, 'example_2845'), (2846, 'example_2846'), (2847, 'example_2847'), (2848, 'example_2848'), (2849, 'example_2849'), (2850, 'example_2850'), (2851, 'example_2851'), (2852, 'example_2852'), (2853, 'example_2853'), (2854, 'example_2854'), (2855, 'example_2855'), (2856, 'example_2856'), (2857, 'example_2857'), (2858, 'example_2858'), (2859, 'example_2859'), (2860, 'example_2860'), (2861, 'example_2861'), (2862, 'example_2862'), (2863, 'example_2863'), (2864, 'example_2864'), (2865, 'example_2865'), (2866, 'example_2866'), (2867, 'example_2867'), (2868, 'example_2868'), (2869, 'example_2869'), (2870, 'example_2870'), (2871, 'example_2871'), (2872, 'example_2872'), (2873, 'example_2873'), (2874, 'example_2874'), (2875, 'example_2875'), (2876, 'example_2876'), (2877, 'example_2877'), (2878, 'example_2878'), (2879, 'example_2879'), (2880, 'example_2880'), (2881, 'example_2881'), (2882, 'example_2882'), (2883, 'example_2883'), (2884, 'example_2884'), (2885, 'example_2885'), (2886, 'example_2886'), (2887, 'example_2887'), (2888, 'example_2888'), (2889, 'example_2889'), (2890, 'example_2890'), (2891, 'example_2891'), (2892, 'example_2892'), (2893, 'example_2893'), (2894, 'example_2894'), (2895, 'example_2895'), (2896, 'example_2896'), (2897, 'example_2897'), (2898, 'example_2898'), (2899, 'example_2899'), (2900, 'example_2900'), (2901, 'example_2901'), (2902, 'example_2902'), (2903, 'example_2903'), (2904, 'example_2904'), (2905, 'example_2905'), (2906, 'example_2906'), (2907, 'example_2907'), (2908, 'example_2908'), (2909, 'example_2909'), (2910, 'example_2910'), (2911, 'example_2911'), (2912, 'example_2912'), (2913, 'example_2913'), (2914, 'example_2914'), (2915, 'example_2915'), (2916, 'example_2916'), (2917, 'example_2917'), (2918, 'example_2918'), (2919, 'example_2919'), (2920, 'example_2920'), (2921, 'example_2921'), (2922, 'example_2922'), (2923, 'example_2923'), (2924, 'example_2924'), (2925, 'example_2925'), (2926, 'example_2926'), (2927, 'example_2927'), (2928, 'example_2928'), (2929, 'example_2929'), (2930, 'example_2930'), (2931, 'example_2931'), (2932, 'example_2932'), (2933, 'example_2933'), (2934, 'example_2934'), (2935, 'example_2935'), (2936, 'example_2936'), (2937, 'example_2937'), (2938, 'example_2938'), (2939, 'example_2939'), (2940, 'example_2940'), (2941, 'example_2941'), (2942, 'example_2942'), (2943, 'example_2943'), (2944, 'example_2944'), (2945, 'example_2945'), (2946, 'example_2946'), (2947, 'example_2947'), (2948, 'example_2948'), (2949, 'example_2949'), (2950, 'example_2950'), (2951, 'example_2951'), (2952, 'example_2952'), (2953, 'example_2953'), (2954, 'example_2954'), (2955, 'example_2955'), (2956, 'example_2956'), (2957, 'example_2957'), (2958, 'example_2958'), (2959, 'example_2959'), (2960, 'example_2960'), (2961, 'example_2961'), (2962, 'example_2962'), (2963, 'example_2963'), (2964, 'example_2964'), (2965, 'example_2965'), (2966, 'example_2966'), (2967, 'example_2967'), (2968, 'example_2968'), (2969, 'example_2969'), (2970, 'example_2970'), (2971, 'example_2971'), (2972, 'example_2972'), (2973, 'example_2973'), (2974, 'example_2974'), (2975, 'example_2975'), (2976, 'example_2976'), (2977, 'example_2977'), (2978, 'example_2978'), (2979, 'example_2979'), (2980, 'example_2980'), (2981, 'example_2981'), (2982, 'example_2982'), (2983, 'example_2983'), (2984, 'example_2984'), (2985, 'example_2985'), (2986, 'example_2986'), (2987, 'example_2987'), (2988, 'example_2988'), (2989, 'example_2989'), (2990, 'example_2990'), (2991, 'example_2991'), (2992, 'example_2992'), (2993, 'example_2993'), (2994, 'example_2994'), (2995, 'example_2995'), (2996, 'example_2996'), (2997, 'example_2997'), (2998, 'example_2998'), (2999, 'example_2999')]\n",
            "1000\n",
            "[(3000, 'example_3000'), (3001, 'example_3001'), (3002, 'example_3002'), (3003, 'example_3003'), (3004, 'example_3004'), (3005, 'example_3005'), (3006, 'example_3006'), (3007, 'example_3007'), (3008, 'example_3008'), (3009, 'example_3009'), (3010, 'example_3010'), (3011, 'example_3011'), (3012, 'example_3012'), (3013, 'example_3013'), (3014, 'example_3014'), (3015, 'example_3015'), (3016, 'example_3016'), (3017, 'example_3017'), (3018, 'example_3018'), (3019, 'example_3019'), (3020, 'example_3020'), (3021, 'example_3021'), (3022, 'example_3022'), (3023, 'example_3023'), (3024, 'example_3024'), (3025, 'example_3025'), (3026, 'example_3026'), (3027, 'example_3027'), (3028, 'example_3028'), (3029, 'example_3029'), (3030, 'example_3030'), (3031, 'example_3031'), (3032, 'example_3032'), (3033, 'example_3033'), (3034, 'example_3034'), (3035, 'example_3035'), (3036, 'example_3036'), (3037, 'example_3037'), (3038, 'example_3038'), (3039, 'example_3039'), (3040, 'example_3040'), (3041, 'example_3041'), (3042, 'example_3042'), (3043, 'example_3043'), (3044, 'example_3044'), (3045, 'example_3045'), (3046, 'example_3046'), (3047, 'example_3047'), (3048, 'example_3048'), (3049, 'example_3049'), (3050, 'example_3050'), (3051, 'example_3051'), (3052, 'example_3052'), (3053, 'example_3053'), (3054, 'example_3054'), (3055, 'example_3055'), (3056, 'example_3056'), (3057, 'example_3057'), (3058, 'example_3058'), (3059, 'example_3059'), (3060, 'example_3060'), (3061, 'example_3061'), (3062, 'example_3062'), (3063, 'example_3063'), (3064, 'example_3064'), (3065, 'example_3065'), (3066, 'example_3066'), (3067, 'example_3067'), (3068, 'example_3068'), (3069, 'example_3069'), (3070, 'example_3070'), (3071, 'example_3071'), (3072, 'example_3072'), (3073, 'example_3073'), (3074, 'example_3074'), (3075, 'example_3075'), (3076, 'example_3076'), (3077, 'example_3077'), (3078, 'example_3078'), (3079, 'example_3079'), (3080, 'example_3080'), (3081, 'example_3081'), (3082, 'example_3082'), (3083, 'example_3083'), (3084, 'example_3084'), (3085, 'example_3085'), (3086, 'example_3086'), (3087, 'example_3087'), (3088, 'example_3088'), (3089, 'example_3089'), (3090, 'example_3090'), (3091, 'example_3091'), (3092, 'example_3092'), (3093, 'example_3093'), (3094, 'example_3094'), (3095, 'example_3095'), (3096, 'example_3096'), (3097, 'example_3097'), (3098, 'example_3098'), (3099, 'example_3099'), (3100, 'example_3100'), (3101, 'example_3101'), (3102, 'example_3102'), (3103, 'example_3103'), (3104, 'example_3104'), (3105, 'example_3105'), (3106, 'example_3106'), (3107, 'example_3107'), (3108, 'example_3108'), (3109, 'example_3109'), (3110, 'example_3110'), (3111, 'example_3111'), (3112, 'example_3112'), (3113, 'example_3113'), (3114, 'example_3114'), (3115, 'example_3115'), (3116, 'example_3116'), (3117, 'example_3117'), (3118, 'example_3118'), (3119, 'example_3119'), (3120, 'example_3120'), (3121, 'example_3121'), (3122, 'example_3122'), (3123, 'example_3123'), (3124, 'example_3124'), (3125, 'example_3125'), (3126, 'example_3126'), (3127, 'example_3127'), (3128, 'example_3128'), (3129, 'example_3129'), (3130, 'example_3130'), (3131, 'example_3131'), (3132, 'example_3132'), (3133, 'example_3133'), (3134, 'example_3134'), (3135, 'example_3135'), (3136, 'example_3136'), (3137, 'example_3137'), (3138, 'example_3138'), (3139, 'example_3139'), (3140, 'example_3140'), (3141, 'example_3141'), (3142, 'example_3142'), (3143, 'example_3143'), (3144, 'example_3144'), (3145, 'example_3145'), (3146, 'example_3146'), (3147, 'example_3147'), (3148, 'example_3148'), (3149, 'example_3149'), (3150, 'example_3150'), (3151, 'example_3151'), (3152, 'example_3152'), (3153, 'example_3153'), (3154, 'example_3154'), (3155, 'example_3155'), (3156, 'example_3156'), (3157, 'example_3157'), (3158, 'example_3158'), (3159, 'example_3159'), (3160, 'example_3160'), (3161, 'example_3161'), (3162, 'example_3162'), (3163, 'example_3163'), (3164, 'example_3164'), (3165, 'example_3165'), (3166, 'example_3166'), (3167, 'example_3167'), (3168, 'example_3168'), (3169, 'example_3169'), (3170, 'example_3170'), (3171, 'example_3171'), (3172, 'example_3172'), (3173, 'example_3173'), (3174, 'example_3174'), (3175, 'example_3175'), (3176, 'example_3176'), (3177, 'example_3177'), (3178, 'example_3178'), (3179, 'example_3179'), (3180, 'example_3180'), (3181, 'example_3181'), (3182, 'example_3182'), (3183, 'example_3183'), (3184, 'example_3184'), (3185, 'example_3185'), (3186, 'example_3186'), (3187, 'example_3187'), (3188, 'example_3188'), (3189, 'example_3189'), (3190, 'example_3190'), (3191, 'example_3191'), (3192, 'example_3192'), (3193, 'example_3193'), (3194, 'example_3194'), (3195, 'example_3195'), (3196, 'example_3196'), (3197, 'example_3197'), (3198, 'example_3198'), (3199, 'example_3199'), (3200, 'example_3200'), (3201, 'example_3201'), (3202, 'example_3202'), (3203, 'example_3203'), (3204, 'example_3204'), (3205, 'example_3205'), (3206, 'example_3206'), (3207, 'example_3207'), (3208, 'example_3208'), (3209, 'example_3209'), (3210, 'example_3210'), (3211, 'example_3211'), (3212, 'example_3212'), (3213, 'example_3213'), (3214, 'example_3214'), (3215, 'example_3215'), (3216, 'example_3216'), (3217, 'example_3217'), (3218, 'example_3218'), (3219, 'example_3219'), (3220, 'example_3220'), (3221, 'example_3221'), (3222, 'example_3222'), (3223, 'example_3223'), (3224, 'example_3224'), (3225, 'example_3225'), (3226, 'example_3226'), (3227, 'example_3227'), (3228, 'example_3228'), (3229, 'example_3229'), (3230, 'example_3230'), (3231, 'example_3231'), (3232, 'example_3232'), (3233, 'example_3233'), (3234, 'example_3234'), (3235, 'example_3235'), (3236, 'example_3236'), (3237, 'example_3237'), (3238, 'example_3238'), (3239, 'example_3239'), (3240, 'example_3240'), (3241, 'example_3241'), (3242, 'example_3242'), (3243, 'example_3243'), (3244, 'example_3244'), (3245, 'example_3245'), (3246, 'example_3246'), (3247, 'example_3247'), (3248, 'example_3248'), (3249, 'example_3249'), (3250, 'example_3250'), (3251, 'example_3251'), (3252, 'example_3252'), (3253, 'example_3253'), (3254, 'example_3254'), (3255, 'example_3255'), (3256, 'example_3256'), (3257, 'example_3257'), (3258, 'example_3258'), (3259, 'example_3259'), (3260, 'example_3260'), (3261, 'example_3261'), (3262, 'example_3262'), (3263, 'example_3263'), (3264, 'example_3264'), (3265, 'example_3265'), (3266, 'example_3266'), (3267, 'example_3267'), (3268, 'example_3268'), (3269, 'example_3269'), (3270, 'example_3270'), (3271, 'example_3271'), (3272, 'example_3272'), (3273, 'example_3273'), (3274, 'example_3274'), (3275, 'example_3275'), (3276, 'example_3276'), (3277, 'example_3277'), (3278, 'example_3278'), (3279, 'example_3279'), (3280, 'example_3280'), (3281, 'example_3281'), (3282, 'example_3282'), (3283, 'example_3283'), (3284, 'example_3284'), (3285, 'example_3285'), (3286, 'example_3286'), (3287, 'example_3287'), (3288, 'example_3288'), (3289, 'example_3289'), (3290, 'example_3290'), (3291, 'example_3291'), (3292, 'example_3292'), (3293, 'example_3293'), (3294, 'example_3294'), (3295, 'example_3295'), (3296, 'example_3296'), (3297, 'example_3297'), (3298, 'example_3298'), (3299, 'example_3299'), (3300, 'example_3300'), (3301, 'example_3301'), (3302, 'example_3302'), (3303, 'example_3303'), (3304, 'example_3304'), (3305, 'example_3305'), (3306, 'example_3306'), (3307, 'example_3307'), (3308, 'example_3308'), (3309, 'example_3309'), (3310, 'example_3310'), (3311, 'example_3311'), (3312, 'example_3312'), (3313, 'example_3313'), (3314, 'example_3314'), (3315, 'example_3315'), (3316, 'example_3316'), (3317, 'example_3317'), (3318, 'example_3318'), (3319, 'example_3319'), (3320, 'example_3320'), (3321, 'example_3321'), (3322, 'example_3322'), (3323, 'example_3323'), (3324, 'example_3324'), (3325, 'example_3325'), (3326, 'example_3326'), (3327, 'example_3327'), (3328, 'example_3328'), (3329, 'example_3329'), (3330, 'example_3330'), (3331, 'example_3331'), (3332, 'example_3332'), (3333, 'example_3333'), (3334, 'example_3334'), (3335, 'example_3335'), (3336, 'example_3336'), (3337, 'example_3337'), (3338, 'example_3338'), (3339, 'example_3339'), (3340, 'example_3340'), (3341, 'example_3341'), (3342, 'example_3342'), (3343, 'example_3343'), (3344, 'example_3344'), (3345, 'example_3345'), (3346, 'example_3346'), (3347, 'example_3347'), (3348, 'example_3348'), (3349, 'example_3349'), (3350, 'example_3350'), (3351, 'example_3351'), (3352, 'example_3352'), (3353, 'example_3353'), (3354, 'example_3354'), (3355, 'example_3355'), (3356, 'example_3356'), (3357, 'example_3357'), (3358, 'example_3358'), (3359, 'example_3359'), (3360, 'example_3360'), (3361, 'example_3361'), (3362, 'example_3362'), (3363, 'example_3363'), (3364, 'example_3364'), (3365, 'example_3365'), (3366, 'example_3366'), (3367, 'example_3367'), (3368, 'example_3368'), (3369, 'example_3369'), (3370, 'example_3370'), (3371, 'example_3371'), (3372, 'example_3372'), (3373, 'example_3373'), (3374, 'example_3374'), (3375, 'example_3375'), (3376, 'example_3376'), (3377, 'example_3377'), (3378, 'example_3378'), (3379, 'example_3379'), (3380, 'example_3380'), (3381, 'example_3381'), (3382, 'example_3382'), (3383, 'example_3383'), (3384, 'example_3384'), (3385, 'example_3385'), (3386, 'example_3386'), (3387, 'example_3387'), (3388, 'example_3388'), (3389, 'example_3389'), (3390, 'example_3390'), (3391, 'example_3391'), (3392, 'example_3392'), (3393, 'example_3393'), (3394, 'example_3394'), (3395, 'example_3395'), (3396, 'example_3396'), (3397, 'example_3397'), (3398, 'example_3398'), (3399, 'example_3399'), (3400, 'example_3400'), (3401, 'example_3401'), (3402, 'example_3402'), (3403, 'example_3403'), (3404, 'example_3404'), (3405, 'example_3405'), (3406, 'example_3406'), (3407, 'example_3407'), (3408, 'example_3408'), (3409, 'example_3409'), (3410, 'example_3410'), (3411, 'example_3411'), (3412, 'example_3412'), (3413, 'example_3413'), (3414, 'example_3414'), (3415, 'example_3415'), (3416, 'example_3416'), (3417, 'example_3417'), (3418, 'example_3418'), (3419, 'example_3419'), (3420, 'example_3420'), (3421, 'example_3421'), (3422, 'example_3422'), (3423, 'example_3423'), (3424, 'example_3424'), (3425, 'example_3425'), (3426, 'example_3426'), (3427, 'example_3427'), (3428, 'example_3428'), (3429, 'example_3429'), (3430, 'example_3430'), (3431, 'example_3431'), (3432, 'example_3432'), (3433, 'example_3433'), (3434, 'example_3434'), (3435, 'example_3435'), (3436, 'example_3436'), (3437, 'example_3437'), (3438, 'example_3438'), (3439, 'example_3439'), (3440, 'example_3440'), (3441, 'example_3441'), (3442, 'example_3442'), (3443, 'example_3443'), (3444, 'example_3444'), (3445, 'example_3445'), (3446, 'example_3446'), (3447, 'example_3447'), (3448, 'example_3448'), (3449, 'example_3449'), (3450, 'example_3450'), (3451, 'example_3451'), (3452, 'example_3452'), (3453, 'example_3453'), (3454, 'example_3454'), (3455, 'example_3455'), (3456, 'example_3456'), (3457, 'example_3457'), (3458, 'example_3458'), (3459, 'example_3459'), (3460, 'example_3460'), (3461, 'example_3461'), (3462, 'example_3462'), (3463, 'example_3463'), (3464, 'example_3464'), (3465, 'example_3465'), (3466, 'example_3466'), (3467, 'example_3467'), (3468, 'example_3468'), (3469, 'example_3469'), (3470, 'example_3470'), (3471, 'example_3471'), (3472, 'example_3472'), (3473, 'example_3473'), (3474, 'example_3474'), (3475, 'example_3475'), (3476, 'example_3476'), (3477, 'example_3477'), (3478, 'example_3478'), (3479, 'example_3479'), (3480, 'example_3480'), (3481, 'example_3481'), (3482, 'example_3482'), (3483, 'example_3483'), (3484, 'example_3484'), (3485, 'example_3485'), (3486, 'example_3486'), (3487, 'example_3487'), (3488, 'example_3488'), (3489, 'example_3489'), (3490, 'example_3490'), (3491, 'example_3491'), (3492, 'example_3492'), (3493, 'example_3493'), (3494, 'example_3494'), (3495, 'example_3495'), (3496, 'example_3496'), (3497, 'example_3497'), (3498, 'example_3498'), (3499, 'example_3499'), (3500, 'example_3500'), (3501, 'example_3501'), (3502, 'example_3502'), (3503, 'example_3503'), (3504, 'example_3504'), (3505, 'example_3505'), (3506, 'example_3506'), (3507, 'example_3507'), (3508, 'example_3508'), (3509, 'example_3509'), (3510, 'example_3510'), (3511, 'example_3511'), (3512, 'example_3512'), (3513, 'example_3513'), (3514, 'example_3514'), (3515, 'example_3515'), (3516, 'example_3516'), (3517, 'example_3517'), (3518, 'example_3518'), (3519, 'example_3519'), (3520, 'example_3520'), (3521, 'example_3521'), (3522, 'example_3522'), (3523, 'example_3523'), (3524, 'example_3524'), (3525, 'example_3525'), (3526, 'example_3526'), (3527, 'example_3527'), (3528, 'example_3528'), (3529, 'example_3529'), (3530, 'example_3530'), (3531, 'example_3531'), (3532, 'example_3532'), (3533, 'example_3533'), (3534, 'example_3534'), (3535, 'example_3535'), (3536, 'example_3536'), (3537, 'example_3537'), (3538, 'example_3538'), (3539, 'example_3539'), (3540, 'example_3540'), (3541, 'example_3541'), (3542, 'example_3542'), (3543, 'example_3543'), (3544, 'example_3544'), (3545, 'example_3545'), (3546, 'example_3546'), (3547, 'example_3547'), (3548, 'example_3548'), (3549, 'example_3549'), (3550, 'example_3550'), (3551, 'example_3551'), (3552, 'example_3552'), (3553, 'example_3553'), (3554, 'example_3554'), (3555, 'example_3555'), (3556, 'example_3556'), (3557, 'example_3557'), (3558, 'example_3558'), (3559, 'example_3559'), (3560, 'example_3560'), (3561, 'example_3561'), (3562, 'example_3562'), (3563, 'example_3563'), (3564, 'example_3564'), (3565, 'example_3565'), (3566, 'example_3566'), (3567, 'example_3567'), (3568, 'example_3568'), (3569, 'example_3569'), (3570, 'example_3570'), (3571, 'example_3571'), (3572, 'example_3572'), (3573, 'example_3573'), (3574, 'example_3574'), (3575, 'example_3575'), (3576, 'example_3576'), (3577, 'example_3577'), (3578, 'example_3578'), (3579, 'example_3579'), (3580, 'example_3580'), (3581, 'example_3581'), (3582, 'example_3582'), (3583, 'example_3583'), (3584, 'example_3584'), (3585, 'example_3585'), (3586, 'example_3586'), (3587, 'example_3587'), (3588, 'example_3588'), (3589, 'example_3589'), (3590, 'example_3590'), (3591, 'example_3591'), (3592, 'example_3592'), (3593, 'example_3593'), (3594, 'example_3594'), (3595, 'example_3595'), (3596, 'example_3596'), (3597, 'example_3597'), (3598, 'example_3598'), (3599, 'example_3599'), (3600, 'example_3600'), (3601, 'example_3601'), (3602, 'example_3602'), (3603, 'example_3603'), (3604, 'example_3604'), (3605, 'example_3605'), (3606, 'example_3606'), (3607, 'example_3607'), (3608, 'example_3608'), (3609, 'example_3609'), (3610, 'example_3610'), (3611, 'example_3611'), (3612, 'example_3612'), (3613, 'example_3613'), (3614, 'example_3614'), (3615, 'example_3615'), (3616, 'example_3616'), (3617, 'example_3617'), (3618, 'example_3618'), (3619, 'example_3619'), (3620, 'example_3620'), (3621, 'example_3621'), (3622, 'example_3622'), (3623, 'example_3623'), (3624, 'example_3624'), (3625, 'example_3625'), (3626, 'example_3626'), (3627, 'example_3627'), (3628, 'example_3628'), (3629, 'example_3629'), (3630, 'example_3630'), (3631, 'example_3631'), (3632, 'example_3632'), (3633, 'example_3633'), (3634, 'example_3634'), (3635, 'example_3635'), (3636, 'example_3636'), (3637, 'example_3637'), (3638, 'example_3638'), (3639, 'example_3639'), (3640, 'example_3640'), (3641, 'example_3641'), (3642, 'example_3642'), (3643, 'example_3643'), (3644, 'example_3644'), (3645, 'example_3645'), (3646, 'example_3646'), (3647, 'example_3647'), (3648, 'example_3648'), (3649, 'example_3649'), (3650, 'example_3650'), (3651, 'example_3651'), (3652, 'example_3652'), (3653, 'example_3653'), (3654, 'example_3654'), (3655, 'example_3655'), (3656, 'example_3656'), (3657, 'example_3657'), (3658, 'example_3658'), (3659, 'example_3659'), (3660, 'example_3660'), (3661, 'example_3661'), (3662, 'example_3662'), (3663, 'example_3663'), (3664, 'example_3664'), (3665, 'example_3665'), (3666, 'example_3666'), (3667, 'example_3667'), (3668, 'example_3668'), (3669, 'example_3669'), (3670, 'example_3670'), (3671, 'example_3671'), (3672, 'example_3672'), (3673, 'example_3673'), (3674, 'example_3674'), (3675, 'example_3675'), (3676, 'example_3676'), (3677, 'example_3677'), (3678, 'example_3678'), (3679, 'example_3679'), (3680, 'example_3680'), (3681, 'example_3681'), (3682, 'example_3682'), (3683, 'example_3683'), (3684, 'example_3684'), (3685, 'example_3685'), (3686, 'example_3686'), (3687, 'example_3687'), (3688, 'example_3688'), (3689, 'example_3689'), (3690, 'example_3690'), (3691, 'example_3691'), (3692, 'example_3692'), (3693, 'example_3693'), (3694, 'example_3694'), (3695, 'example_3695'), (3696, 'example_3696'), (3697, 'example_3697'), (3698, 'example_3698'), (3699, 'example_3699'), (3700, 'example_3700'), (3701, 'example_3701'), (3702, 'example_3702'), (3703, 'example_3703'), (3704, 'example_3704'), (3705, 'example_3705'), (3706, 'example_3706'), (3707, 'example_3707'), (3708, 'example_3708'), (3709, 'example_3709'), (3710, 'example_3710'), (3711, 'example_3711'), (3712, 'example_3712'), (3713, 'example_3713'), (3714, 'example_3714'), (3715, 'example_3715'), (3716, 'example_3716'), (3717, 'example_3717'), (3718, 'example_3718'), (3719, 'example_3719'), (3720, 'example_3720'), (3721, 'example_3721'), (3722, 'example_3722'), (3723, 'example_3723'), (3724, 'example_3724'), (3725, 'example_3725'), (3726, 'example_3726'), (3727, 'example_3727'), (3728, 'example_3728'), (3729, 'example_3729'), (3730, 'example_3730'), (3731, 'example_3731'), (3732, 'example_3732'), (3733, 'example_3733'), (3734, 'example_3734'), (3735, 'example_3735'), (3736, 'example_3736'), (3737, 'example_3737'), (3738, 'example_3738'), (3739, 'example_3739'), (3740, 'example_3740'), (3741, 'example_3741'), (3742, 'example_3742'), (3743, 'example_3743'), (3744, 'example_3744'), (3745, 'example_3745'), (3746, 'example_3746'), (3747, 'example_3747'), (3748, 'example_3748'), (3749, 'example_3749'), (3750, 'example_3750'), (3751, 'example_3751'), (3752, 'example_3752'), (3753, 'example_3753'), (3754, 'example_3754'), (3755, 'example_3755'), (3756, 'example_3756'), (3757, 'example_3757'), (3758, 'example_3758'), (3759, 'example_3759'), (3760, 'example_3760'), (3761, 'example_3761'), (3762, 'example_3762'), (3763, 'example_3763'), (3764, 'example_3764'), (3765, 'example_3765'), (3766, 'example_3766'), (3767, 'example_3767'), (3768, 'example_3768'), (3769, 'example_3769'), (3770, 'example_3770'), (3771, 'example_3771'), (3772, 'example_3772'), (3773, 'example_3773'), (3774, 'example_3774'), (3775, 'example_3775'), (3776, 'example_3776'), (3777, 'example_3777'), (3778, 'example_3778'), (3779, 'example_3779'), (3780, 'example_3780'), (3781, 'example_3781'), (3782, 'example_3782'), (3783, 'example_3783'), (3784, 'example_3784'), (3785, 'example_3785'), (3786, 'example_3786'), (3787, 'example_3787'), (3788, 'example_3788'), (3789, 'example_3789'), (3790, 'example_3790'), (3791, 'example_3791'), (3792, 'example_3792'), (3793, 'example_3793'), (3794, 'example_3794'), (3795, 'example_3795'), (3796, 'example_3796'), (3797, 'example_3797'), (3798, 'example_3798'), (3799, 'example_3799'), (3800, 'example_3800'), (3801, 'example_3801'), (3802, 'example_3802'), (3803, 'example_3803'), (3804, 'example_3804'), (3805, 'example_3805'), (3806, 'example_3806'), (3807, 'example_3807'), (3808, 'example_3808'), (3809, 'example_3809'), (3810, 'example_3810'), (3811, 'example_3811'), (3812, 'example_3812'), (3813, 'example_3813'), (3814, 'example_3814'), (3815, 'example_3815'), (3816, 'example_3816'), (3817, 'example_3817'), (3818, 'example_3818'), (3819, 'example_3819'), (3820, 'example_3820'), (3821, 'example_3821'), (3822, 'example_3822'), (3823, 'example_3823'), (3824, 'example_3824'), (3825, 'example_3825'), (3826, 'example_3826'), (3827, 'example_3827'), (3828, 'example_3828'), (3829, 'example_3829'), (3830, 'example_3830'), (3831, 'example_3831'), (3832, 'example_3832'), (3833, 'example_3833'), (3834, 'example_3834'), (3835, 'example_3835'), (3836, 'example_3836'), (3837, 'example_3837'), (3838, 'example_3838'), (3839, 'example_3839'), (3840, 'example_3840'), (3841, 'example_3841'), (3842, 'example_3842'), (3843, 'example_3843'), (3844, 'example_3844'), (3845, 'example_3845'), (3846, 'example_3846'), (3847, 'example_3847'), (3848, 'example_3848'), (3849, 'example_3849'), (3850, 'example_3850'), (3851, 'example_3851'), (3852, 'example_3852'), (3853, 'example_3853'), (3854, 'example_3854'), (3855, 'example_3855'), (3856, 'example_3856'), (3857, 'example_3857'), (3858, 'example_3858'), (3859, 'example_3859'), (3860, 'example_3860'), (3861, 'example_3861'), (3862, 'example_3862'), (3863, 'example_3863'), (3864, 'example_3864'), (3865, 'example_3865'), (3866, 'example_3866'), (3867, 'example_3867'), (3868, 'example_3868'), (3869, 'example_3869'), (3870, 'example_3870'), (3871, 'example_3871'), (3872, 'example_3872'), (3873, 'example_3873'), (3874, 'example_3874'), (3875, 'example_3875'), (3876, 'example_3876'), (3877, 'example_3877'), (3878, 'example_3878'), (3879, 'example_3879'), (3880, 'example_3880'), (3881, 'example_3881'), (3882, 'example_3882'), (3883, 'example_3883'), (3884, 'example_3884'), (3885, 'example_3885'), (3886, 'example_3886'), (3887, 'example_3887'), (3888, 'example_3888'), (3889, 'example_3889'), (3890, 'example_3890'), (3891, 'example_3891'), (3892, 'example_3892'), (3893, 'example_3893'), (3894, 'example_3894'), (3895, 'example_3895'), (3896, 'example_3896'), (3897, 'example_3897'), (3898, 'example_3898'), (3899, 'example_3899'), (3900, 'example_3900'), (3901, 'example_3901'), (3902, 'example_3902'), (3903, 'example_3903'), (3904, 'example_3904'), (3905, 'example_3905'), (3906, 'example_3906'), (3907, 'example_3907'), (3908, 'example_3908'), (3909, 'example_3909'), (3910, 'example_3910'), (3911, 'example_3911'), (3912, 'example_3912'), (3913, 'example_3913'), (3914, 'example_3914'), (3915, 'example_3915'), (3916, 'example_3916'), (3917, 'example_3917'), (3918, 'example_3918'), (3919, 'example_3919'), (3920, 'example_3920'), (3921, 'example_3921'), (3922, 'example_3922'), (3923, 'example_3923'), (3924, 'example_3924'), (3925, 'example_3925'), (3926, 'example_3926'), (3927, 'example_3927'), (3928, 'example_3928'), (3929, 'example_3929'), (3930, 'example_3930'), (3931, 'example_3931'), (3932, 'example_3932'), (3933, 'example_3933'), (3934, 'example_3934'), (3935, 'example_3935'), (3936, 'example_3936'), (3937, 'example_3937'), (3938, 'example_3938'), (3939, 'example_3939'), (3940, 'example_3940'), (3941, 'example_3941'), (3942, 'example_3942'), (3943, 'example_3943'), (3944, 'example_3944'), (3945, 'example_3945'), (3946, 'example_3946'), (3947, 'example_3947'), (3948, 'example_3948'), (3949, 'example_3949'), (3950, 'example_3950'), (3951, 'example_3951'), (3952, 'example_3952'), (3953, 'example_3953'), (3954, 'example_3954'), (3955, 'example_3955'), (3956, 'example_3956'), (3957, 'example_3957'), (3958, 'example_3958'), (3959, 'example_3959'), (3960, 'example_3960'), (3961, 'example_3961'), (3962, 'example_3962'), (3963, 'example_3963'), (3964, 'example_3964'), (3965, 'example_3965'), (3966, 'example_3966'), (3967, 'example_3967'), (3968, 'example_3968'), (3969, 'example_3969'), (3970, 'example_3970'), (3971, 'example_3971'), (3972, 'example_3972'), (3973, 'example_3973'), (3974, 'example_3974'), (3975, 'example_3975'), (3976, 'example_3976'), (3977, 'example_3977'), (3978, 'example_3978'), (3979, 'example_3979'), (3980, 'example_3980'), (3981, 'example_3981'), (3982, 'example_3982'), (3983, 'example_3983'), (3984, 'example_3984'), (3985, 'example_3985'), (3986, 'example_3986'), (3987, 'example_3987'), (3988, 'example_3988'), (3989, 'example_3989'), (3990, 'example_3990'), (3991, 'example_3991'), (3992, 'example_3992'), (3993, 'example_3993'), (3994, 'example_3994'), (3995, 'example_3995'), (3996, 'example_3996'), (3997, 'example_3997'), (3998, 'example_3998'), (3999, 'example_3999')]\n",
            "1000\n",
            "[(4000, 'example_4000'), (4001, 'example_4001'), (4002, 'example_4002'), (4003, 'example_4003'), (4004, 'example_4004'), (4005, 'example_4005'), (4006, 'example_4006'), (4007, 'example_4007'), (4008, 'example_4008'), (4009, 'example_4009'), (4010, 'example_4010'), (4011, 'example_4011'), (4012, 'example_4012'), (4013, 'example_4013'), (4014, 'example_4014'), (4015, 'example_4015'), (4016, 'example_4016'), (4017, 'example_4017'), (4018, 'example_4018'), (4019, 'example_4019'), (4020, 'example_4020'), (4021, 'example_4021'), (4022, 'example_4022'), (4023, 'example_4023'), (4024, 'example_4024'), (4025, 'example_4025'), (4026, 'example_4026'), (4027, 'example_4027'), (4028, 'example_4028'), (4029, 'example_4029'), (4030, 'example_4030'), (4031, 'example_4031'), (4032, 'example_4032'), (4033, 'example_4033'), (4034, 'example_4034'), (4035, 'example_4035'), (4036, 'example_4036'), (4037, 'example_4037'), (4038, 'example_4038'), (4039, 'example_4039'), (4040, 'example_4040'), (4041, 'example_4041'), (4042, 'example_4042'), (4043, 'example_4043'), (4044, 'example_4044'), (4045, 'example_4045'), (4046, 'example_4046'), (4047, 'example_4047'), (4048, 'example_4048'), (4049, 'example_4049'), (4050, 'example_4050'), (4051, 'example_4051'), (4052, 'example_4052'), (4053, 'example_4053'), (4054, 'example_4054'), (4055, 'example_4055'), (4056, 'example_4056'), (4057, 'example_4057'), (4058, 'example_4058'), (4059, 'example_4059'), (4060, 'example_4060'), (4061, 'example_4061'), (4062, 'example_4062'), (4063, 'example_4063'), (4064, 'example_4064'), (4065, 'example_4065'), (4066, 'example_4066'), (4067, 'example_4067'), (4068, 'example_4068'), (4069, 'example_4069'), (4070, 'example_4070'), (4071, 'example_4071'), (4072, 'example_4072'), (4073, 'example_4073'), (4074, 'example_4074'), (4075, 'example_4075'), (4076, 'example_4076'), (4077, 'example_4077'), (4078, 'example_4078'), (4079, 'example_4079'), (4080, 'example_4080'), (4081, 'example_4081'), (4082, 'example_4082'), (4083, 'example_4083'), (4084, 'example_4084'), (4085, 'example_4085'), (4086, 'example_4086'), (4087, 'example_4087'), (4088, 'example_4088'), (4089, 'example_4089'), (4090, 'example_4090'), (4091, 'example_4091'), (4092, 'example_4092'), (4093, 'example_4093'), (4094, 'example_4094'), (4095, 'example_4095'), (4096, 'example_4096'), (4097, 'example_4097'), (4098, 'example_4098'), (4099, 'example_4099'), (4100, 'example_4100'), (4101, 'example_4101'), (4102, 'example_4102'), (4103, 'example_4103'), (4104, 'example_4104'), (4105, 'example_4105'), (4106, 'example_4106'), (4107, 'example_4107'), (4108, 'example_4108'), (4109, 'example_4109'), (4110, 'example_4110'), (4111, 'example_4111'), (4112, 'example_4112'), (4113, 'example_4113'), (4114, 'example_4114'), (4115, 'example_4115'), (4116, 'example_4116'), (4117, 'example_4117'), (4118, 'example_4118'), (4119, 'example_4119'), (4120, 'example_4120'), (4121, 'example_4121'), (4122, 'example_4122'), (4123, 'example_4123'), (4124, 'example_4124'), (4125, 'example_4125'), (4126, 'example_4126'), (4127, 'example_4127'), (4128, 'example_4128'), (4129, 'example_4129'), (4130, 'example_4130'), (4131, 'example_4131'), (4132, 'example_4132'), (4133, 'example_4133'), (4134, 'example_4134'), (4135, 'example_4135'), (4136, 'example_4136'), (4137, 'example_4137'), (4138, 'example_4138'), (4139, 'example_4139'), (4140, 'example_4140'), (4141, 'example_4141'), (4142, 'example_4142'), (4143, 'example_4143'), (4144, 'example_4144'), (4145, 'example_4145'), (4146, 'example_4146'), (4147, 'example_4147'), (4148, 'example_4148'), (4149, 'example_4149'), (4150, 'example_4150'), (4151, 'example_4151'), (4152, 'example_4152'), (4153, 'example_4153'), (4154, 'example_4154'), (4155, 'example_4155'), (4156, 'example_4156'), (4157, 'example_4157'), (4158, 'example_4158'), (4159, 'example_4159'), (4160, 'example_4160'), (4161, 'example_4161'), (4162, 'example_4162'), (4163, 'example_4163'), (4164, 'example_4164'), (4165, 'example_4165'), (4166, 'example_4166'), (4167, 'example_4167'), (4168, 'example_4168'), (4169, 'example_4169'), (4170, 'example_4170'), (4171, 'example_4171'), (4172, 'example_4172'), (4173, 'example_4173'), (4174, 'example_4174'), (4175, 'example_4175'), (4176, 'example_4176'), (4177, 'example_4177'), (4178, 'example_4178'), (4179, 'example_4179'), (4180, 'example_4180'), (4181, 'example_4181'), (4182, 'example_4182'), (4183, 'example_4183'), (4184, 'example_4184'), (4185, 'example_4185'), (4186, 'example_4186'), (4187, 'example_4187'), (4188, 'example_4188'), (4189, 'example_4189'), (4190, 'example_4190'), (4191, 'example_4191'), (4192, 'example_4192'), (4193, 'example_4193'), (4194, 'example_4194'), (4195, 'example_4195'), (4196, 'example_4196'), (4197, 'example_4197'), (4198, 'example_4198'), (4199, 'example_4199'), (4200, 'example_4200'), (4201, 'example_4201'), (4202, 'example_4202'), (4203, 'example_4203'), (4204, 'example_4204'), (4205, 'example_4205'), (4206, 'example_4206'), (4207, 'example_4207'), (4208, 'example_4208'), (4209, 'example_4209'), (4210, 'example_4210'), (4211, 'example_4211'), (4212, 'example_4212'), (4213, 'example_4213'), (4214, 'example_4214'), (4215, 'example_4215'), (4216, 'example_4216'), (4217, 'example_4217'), (4218, 'example_4218'), (4219, 'example_4219'), (4220, 'example_4220'), (4221, 'example_4221'), (4222, 'example_4222'), (4223, 'example_4223'), (4224, 'example_4224'), (4225, 'example_4225'), (4226, 'example_4226'), (4227, 'example_4227'), (4228, 'example_4228'), (4229, 'example_4229'), (4230, 'example_4230'), (4231, 'example_4231'), (4232, 'example_4232'), (4233, 'example_4233'), (4234, 'example_4234'), (4235, 'example_4235'), (4236, 'example_4236'), (4237, 'example_4237'), (4238, 'example_4238'), (4239, 'example_4239'), (4240, 'example_4240'), (4241, 'example_4241'), (4242, 'example_4242'), (4243, 'example_4243'), (4244, 'example_4244'), (4245, 'example_4245'), (4246, 'example_4246'), (4247, 'example_4247'), (4248, 'example_4248'), (4249, 'example_4249'), (4250, 'example_4250'), (4251, 'example_4251'), (4252, 'example_4252'), (4253, 'example_4253'), (4254, 'example_4254'), (4255, 'example_4255'), (4256, 'example_4256'), (4257, 'example_4257'), (4258, 'example_4258'), (4259, 'example_4259'), (4260, 'example_4260'), (4261, 'example_4261'), (4262, 'example_4262'), (4263, 'example_4263'), (4264, 'example_4264'), (4265, 'example_4265'), (4266, 'example_4266'), (4267, 'example_4267'), (4268, 'example_4268'), (4269, 'example_4269'), (4270, 'example_4270'), (4271, 'example_4271'), (4272, 'example_4272'), (4273, 'example_4273'), (4274, 'example_4274'), (4275, 'example_4275'), (4276, 'example_4276'), (4277, 'example_4277'), (4278, 'example_4278'), (4279, 'example_4279'), (4280, 'example_4280'), (4281, 'example_4281'), (4282, 'example_4282'), (4283, 'example_4283'), (4284, 'example_4284'), (4285, 'example_4285'), (4286, 'example_4286'), (4287, 'example_4287'), (4288, 'example_4288'), (4289, 'example_4289'), (4290, 'example_4290'), (4291, 'example_4291'), (4292, 'example_4292'), (4293, 'example_4293'), (4294, 'example_4294'), (4295, 'example_4295'), (4296, 'example_4296'), (4297, 'example_4297'), (4298, 'example_4298'), (4299, 'example_4299'), (4300, 'example_4300'), (4301, 'example_4301'), (4302, 'example_4302'), (4303, 'example_4303'), (4304, 'example_4304'), (4305, 'example_4305'), (4306, 'example_4306'), (4307, 'example_4307'), (4308, 'example_4308'), (4309, 'example_4309'), (4310, 'example_4310'), (4311, 'example_4311'), (4312, 'example_4312'), (4313, 'example_4313'), (4314, 'example_4314'), (4315, 'example_4315'), (4316, 'example_4316'), (4317, 'example_4317'), (4318, 'example_4318'), (4319, 'example_4319'), (4320, 'example_4320'), (4321, 'example_4321'), (4322, 'example_4322'), (4323, 'example_4323'), (4324, 'example_4324'), (4325, 'example_4325'), (4326, 'example_4326'), (4327, 'example_4327'), (4328, 'example_4328'), (4329, 'example_4329'), (4330, 'example_4330'), (4331, 'example_4331'), (4332, 'example_4332'), (4333, 'example_4333'), (4334, 'example_4334'), (4335, 'example_4335'), (4336, 'example_4336'), (4337, 'example_4337'), (4338, 'example_4338'), (4339, 'example_4339'), (4340, 'example_4340'), (4341, 'example_4341'), (4342, 'example_4342'), (4343, 'example_4343'), (4344, 'example_4344'), (4345, 'example_4345'), (4346, 'example_4346'), (4347, 'example_4347'), (4348, 'example_4348'), (4349, 'example_4349'), (4350, 'example_4350'), (4351, 'example_4351'), (4352, 'example_4352'), (4353, 'example_4353'), (4354, 'example_4354'), (4355, 'example_4355'), (4356, 'example_4356'), (4357, 'example_4357'), (4358, 'example_4358'), (4359, 'example_4359'), (4360, 'example_4360'), (4361, 'example_4361'), (4362, 'example_4362'), (4363, 'example_4363'), (4364, 'example_4364'), (4365, 'example_4365'), (4366, 'example_4366'), (4367, 'example_4367'), (4368, 'example_4368'), (4369, 'example_4369'), (4370, 'example_4370'), (4371, 'example_4371'), (4372, 'example_4372'), (4373, 'example_4373'), (4374, 'example_4374'), (4375, 'example_4375'), (4376, 'example_4376'), (4377, 'example_4377'), (4378, 'example_4378'), (4379, 'example_4379'), (4380, 'example_4380'), (4381, 'example_4381'), (4382, 'example_4382'), (4383, 'example_4383'), (4384, 'example_4384'), (4385, 'example_4385'), (4386, 'example_4386'), (4387, 'example_4387'), (4388, 'example_4388'), (4389, 'example_4389'), (4390, 'example_4390'), (4391, 'example_4391'), (4392, 'example_4392'), (4393, 'example_4393'), (4394, 'example_4394'), (4395, 'example_4395'), (4396, 'example_4396'), (4397, 'example_4397'), (4398, 'example_4398'), (4399, 'example_4399'), (4400, 'example_4400'), (4401, 'example_4401'), (4402, 'example_4402'), (4403, 'example_4403'), (4404, 'example_4404'), (4405, 'example_4405'), (4406, 'example_4406'), (4407, 'example_4407'), (4408, 'example_4408'), (4409, 'example_4409'), (4410, 'example_4410'), (4411, 'example_4411'), (4412, 'example_4412'), (4413, 'example_4413'), (4414, 'example_4414'), (4415, 'example_4415'), (4416, 'example_4416'), (4417, 'example_4417'), (4418, 'example_4418'), (4419, 'example_4419'), (4420, 'example_4420'), (4421, 'example_4421'), (4422, 'example_4422'), (4423, 'example_4423'), (4424, 'example_4424'), (4425, 'example_4425'), (4426, 'example_4426'), (4427, 'example_4427'), (4428, 'example_4428'), (4429, 'example_4429'), (4430, 'example_4430'), (4431, 'example_4431'), (4432, 'example_4432'), (4433, 'example_4433'), (4434, 'example_4434'), (4435, 'example_4435'), (4436, 'example_4436'), (4437, 'example_4437'), (4438, 'example_4438'), (4439, 'example_4439'), (4440, 'example_4440'), (4441, 'example_4441'), (4442, 'example_4442'), (4443, 'example_4443'), (4444, 'example_4444'), (4445, 'example_4445'), (4446, 'example_4446'), (4447, 'example_4447'), (4448, 'example_4448'), (4449, 'example_4449'), (4450, 'example_4450'), (4451, 'example_4451'), (4452, 'example_4452'), (4453, 'example_4453'), (4454, 'example_4454'), (4455, 'example_4455'), (4456, 'example_4456'), (4457, 'example_4457'), (4458, 'example_4458'), (4459, 'example_4459'), (4460, 'example_4460'), (4461, 'example_4461'), (4462, 'example_4462'), (4463, 'example_4463'), (4464, 'example_4464'), (4465, 'example_4465'), (4466, 'example_4466'), (4467, 'example_4467'), (4468, 'example_4468'), (4469, 'example_4469'), (4470, 'example_4470'), (4471, 'example_4471'), (4472, 'example_4472'), (4473, 'example_4473'), (4474, 'example_4474'), (4475, 'example_4475'), (4476, 'example_4476'), (4477, 'example_4477'), (4478, 'example_4478'), (4479, 'example_4479'), (4480, 'example_4480'), (4481, 'example_4481'), (4482, 'example_4482'), (4483, 'example_4483'), (4484, 'example_4484'), (4485, 'example_4485'), (4486, 'example_4486'), (4487, 'example_4487'), (4488, 'example_4488'), (4489, 'example_4489'), (4490, 'example_4490'), (4491, 'example_4491'), (4492, 'example_4492'), (4493, 'example_4493'), (4494, 'example_4494'), (4495, 'example_4495'), (4496, 'example_4496'), (4497, 'example_4497'), (4498, 'example_4498'), (4499, 'example_4499'), (4500, 'example_4500'), (4501, 'example_4501'), (4502, 'example_4502'), (4503, 'example_4503'), (4504, 'example_4504'), (4505, 'example_4505'), (4506, 'example_4506'), (4507, 'example_4507'), (4508, 'example_4508'), (4509, 'example_4509'), (4510, 'example_4510'), (4511, 'example_4511'), (4512, 'example_4512'), (4513, 'example_4513'), (4514, 'example_4514'), (4515, 'example_4515'), (4516, 'example_4516'), (4517, 'example_4517'), (4518, 'example_4518'), (4519, 'example_4519'), (4520, 'example_4520'), (4521, 'example_4521'), (4522, 'example_4522'), (4523, 'example_4523'), (4524, 'example_4524'), (4525, 'example_4525'), (4526, 'example_4526'), (4527, 'example_4527'), (4528, 'example_4528'), (4529, 'example_4529'), (4530, 'example_4530'), (4531, 'example_4531'), (4532, 'example_4532'), (4533, 'example_4533'), (4534, 'example_4534'), (4535, 'example_4535'), (4536, 'example_4536'), (4537, 'example_4537'), (4538, 'example_4538'), (4539, 'example_4539'), (4540, 'example_4540'), (4541, 'example_4541'), (4542, 'example_4542'), (4543, 'example_4543'), (4544, 'example_4544'), (4545, 'example_4545'), (4546, 'example_4546'), (4547, 'example_4547'), (4548, 'example_4548'), (4549, 'example_4549'), (4550, 'example_4550'), (4551, 'example_4551'), (4552, 'example_4552'), (4553, 'example_4553'), (4554, 'example_4554'), (4555, 'example_4555'), (4556, 'example_4556'), (4557, 'example_4557'), (4558, 'example_4558'), (4559, 'example_4559'), (4560, 'example_4560'), (4561, 'example_4561'), (4562, 'example_4562'), (4563, 'example_4563'), (4564, 'example_4564'), (4565, 'example_4565'), (4566, 'example_4566'), (4567, 'example_4567'), (4568, 'example_4568'), (4569, 'example_4569'), (4570, 'example_4570'), (4571, 'example_4571'), (4572, 'example_4572'), (4573, 'example_4573'), (4574, 'example_4574'), (4575, 'example_4575'), (4576, 'example_4576'), (4577, 'example_4577'), (4578, 'example_4578'), (4579, 'example_4579'), (4580, 'example_4580'), (4581, 'example_4581'), (4582, 'example_4582'), (4583, 'example_4583'), (4584, 'example_4584'), (4585, 'example_4585'), (4586, 'example_4586'), (4587, 'example_4587'), (4588, 'example_4588'), (4589, 'example_4589'), (4590, 'example_4590'), (4591, 'example_4591'), (4592, 'example_4592'), (4593, 'example_4593'), (4594, 'example_4594'), (4595, 'example_4595'), (4596, 'example_4596'), (4597, 'example_4597'), (4598, 'example_4598'), (4599, 'example_4599'), (4600, 'example_4600'), (4601, 'example_4601'), (4602, 'example_4602'), (4603, 'example_4603'), (4604, 'example_4604'), (4605, 'example_4605'), (4606, 'example_4606'), (4607, 'example_4607'), (4608, 'example_4608'), (4609, 'example_4609'), (4610, 'example_4610'), (4611, 'example_4611'), (4612, 'example_4612'), (4613, 'example_4613'), (4614, 'example_4614'), (4615, 'example_4615'), (4616, 'example_4616'), (4617, 'example_4617'), (4618, 'example_4618'), (4619, 'example_4619'), (4620, 'example_4620'), (4621, 'example_4621'), (4622, 'example_4622'), (4623, 'example_4623'), (4624, 'example_4624'), (4625, 'example_4625'), (4626, 'example_4626'), (4627, 'example_4627'), (4628, 'example_4628'), (4629, 'example_4629'), (4630, 'example_4630'), (4631, 'example_4631'), (4632, 'example_4632'), (4633, 'example_4633'), (4634, 'example_4634'), (4635, 'example_4635'), (4636, 'example_4636'), (4637, 'example_4637'), (4638, 'example_4638'), (4639, 'example_4639'), (4640, 'example_4640'), (4641, 'example_4641'), (4642, 'example_4642'), (4643, 'example_4643'), (4644, 'example_4644'), (4645, 'example_4645'), (4646, 'example_4646'), (4647, 'example_4647'), (4648, 'example_4648'), (4649, 'example_4649'), (4650, 'example_4650'), (4651, 'example_4651'), (4652, 'example_4652'), (4653, 'example_4653'), (4654, 'example_4654'), (4655, 'example_4655'), (4656, 'example_4656'), (4657, 'example_4657'), (4658, 'example_4658'), (4659, 'example_4659'), (4660, 'example_4660'), (4661, 'example_4661'), (4662, 'example_4662'), (4663, 'example_4663'), (4664, 'example_4664'), (4665, 'example_4665'), (4666, 'example_4666'), (4667, 'example_4667'), (4668, 'example_4668'), (4669, 'example_4669'), (4670, 'example_4670'), (4671, 'example_4671'), (4672, 'example_4672'), (4673, 'example_4673'), (4674, 'example_4674'), (4675, 'example_4675'), (4676, 'example_4676'), (4677, 'example_4677'), (4678, 'example_4678'), (4679, 'example_4679'), (4680, 'example_4680'), (4681, 'example_4681'), (4682, 'example_4682'), (4683, 'example_4683'), (4684, 'example_4684'), (4685, 'example_4685'), (4686, 'example_4686'), (4687, 'example_4687'), (4688, 'example_4688'), (4689, 'example_4689'), (4690, 'example_4690'), (4691, 'example_4691'), (4692, 'example_4692'), (4693, 'example_4693'), (4694, 'example_4694'), (4695, 'example_4695'), (4696, 'example_4696'), (4697, 'example_4697'), (4698, 'example_4698'), (4699, 'example_4699'), (4700, 'example_4700'), (4701, 'example_4701'), (4702, 'example_4702'), (4703, 'example_4703'), (4704, 'example_4704'), (4705, 'example_4705'), (4706, 'example_4706'), (4707, 'example_4707'), (4708, 'example_4708'), (4709, 'example_4709'), (4710, 'example_4710'), (4711, 'example_4711'), (4712, 'example_4712'), (4713, 'example_4713'), (4714, 'example_4714'), (4715, 'example_4715'), (4716, 'example_4716'), (4717, 'example_4717'), (4718, 'example_4718'), (4719, 'example_4719'), (4720, 'example_4720'), (4721, 'example_4721'), (4722, 'example_4722'), (4723, 'example_4723'), (4724, 'example_4724'), (4725, 'example_4725'), (4726, 'example_4726'), (4727, 'example_4727'), (4728, 'example_4728'), (4729, 'example_4729'), (4730, 'example_4730'), (4731, 'example_4731'), (4732, 'example_4732'), (4733, 'example_4733'), (4734, 'example_4734'), (4735, 'example_4735'), (4736, 'example_4736'), (4737, 'example_4737'), (4738, 'example_4738'), (4739, 'example_4739'), (4740, 'example_4740'), (4741, 'example_4741'), (4742, 'example_4742'), (4743, 'example_4743'), (4744, 'example_4744'), (4745, 'example_4745'), (4746, 'example_4746'), (4747, 'example_4747'), (4748, 'example_4748'), (4749, 'example_4749'), (4750, 'example_4750'), (4751, 'example_4751'), (4752, 'example_4752'), (4753, 'example_4753'), (4754, 'example_4754'), (4755, 'example_4755'), (4756, 'example_4756'), (4757, 'example_4757'), (4758, 'example_4758'), (4759, 'example_4759'), (4760, 'example_4760'), (4761, 'example_4761'), (4762, 'example_4762'), (4763, 'example_4763'), (4764, 'example_4764'), (4765, 'example_4765'), (4766, 'example_4766'), (4767, 'example_4767'), (4768, 'example_4768'), (4769, 'example_4769'), (4770, 'example_4770'), (4771, 'example_4771'), (4772, 'example_4772'), (4773, 'example_4773'), (4774, 'example_4774'), (4775, 'example_4775'), (4776, 'example_4776'), (4777, 'example_4777'), (4778, 'example_4778'), (4779, 'example_4779'), (4780, 'example_4780'), (4781, 'example_4781'), (4782, 'example_4782'), (4783, 'example_4783'), (4784, 'example_4784'), (4785, 'example_4785'), (4786, 'example_4786'), (4787, 'example_4787'), (4788, 'example_4788'), (4789, 'example_4789'), (4790, 'example_4790'), (4791, 'example_4791'), (4792, 'example_4792'), (4793, 'example_4793'), (4794, 'example_4794'), (4795, 'example_4795'), (4796, 'example_4796'), (4797, 'example_4797'), (4798, 'example_4798'), (4799, 'example_4799'), (4800, 'example_4800'), (4801, 'example_4801'), (4802, 'example_4802'), (4803, 'example_4803'), (4804, 'example_4804'), (4805, 'example_4805'), (4806, 'example_4806'), (4807, 'example_4807'), (4808, 'example_4808'), (4809, 'example_4809'), (4810, 'example_4810'), (4811, 'example_4811'), (4812, 'example_4812'), (4813, 'example_4813'), (4814, 'example_4814'), (4815, 'example_4815'), (4816, 'example_4816'), (4817, 'example_4817'), (4818, 'example_4818'), (4819, 'example_4819'), (4820, 'example_4820'), (4821, 'example_4821'), (4822, 'example_4822'), (4823, 'example_4823'), (4824, 'example_4824'), (4825, 'example_4825'), (4826, 'example_4826'), (4827, 'example_4827'), (4828, 'example_4828'), (4829, 'example_4829'), (4830, 'example_4830'), (4831, 'example_4831'), (4832, 'example_4832'), (4833, 'example_4833'), (4834, 'example_4834'), (4835, 'example_4835'), (4836, 'example_4836'), (4837, 'example_4837'), (4838, 'example_4838'), (4839, 'example_4839'), (4840, 'example_4840'), (4841, 'example_4841'), (4842, 'example_4842'), (4843, 'example_4843'), (4844, 'example_4844'), (4845, 'example_4845'), (4846, 'example_4846'), (4847, 'example_4847'), (4848, 'example_4848'), (4849, 'example_4849'), (4850, 'example_4850'), (4851, 'example_4851'), (4852, 'example_4852'), (4853, 'example_4853'), (4854, 'example_4854'), (4855, 'example_4855'), (4856, 'example_4856'), (4857, 'example_4857'), (4858, 'example_4858'), (4859, 'example_4859'), (4860, 'example_4860'), (4861, 'example_4861'), (4862, 'example_4862'), (4863, 'example_4863'), (4864, 'example_4864'), (4865, 'example_4865'), (4866, 'example_4866'), (4867, 'example_4867'), (4868, 'example_4868'), (4869, 'example_4869'), (4870, 'example_4870'), (4871, 'example_4871'), (4872, 'example_4872'), (4873, 'example_4873'), (4874, 'example_4874'), (4875, 'example_4875'), (4876, 'example_4876'), (4877, 'example_4877'), (4878, 'example_4878'), (4879, 'example_4879'), (4880, 'example_4880'), (4881, 'example_4881'), (4882, 'example_4882'), (4883, 'example_4883'), (4884, 'example_4884'), (4885, 'example_4885'), (4886, 'example_4886'), (4887, 'example_4887'), (4888, 'example_4888'), (4889, 'example_4889'), (4890, 'example_4890'), (4891, 'example_4891'), (4892, 'example_4892'), (4893, 'example_4893'), (4894, 'example_4894'), (4895, 'example_4895'), (4896, 'example_4896'), (4897, 'example_4897'), (4898, 'example_4898'), (4899, 'example_4899'), (4900, 'example_4900'), (4901, 'example_4901'), (4902, 'example_4902'), (4903, 'example_4903'), (4904, 'example_4904'), (4905, 'example_4905'), (4906, 'example_4906'), (4907, 'example_4907'), (4908, 'example_4908'), (4909, 'example_4909'), (4910, 'example_4910'), (4911, 'example_4911'), (4912, 'example_4912'), (4913, 'example_4913'), (4914, 'example_4914'), (4915, 'example_4915'), (4916, 'example_4916'), (4917, 'example_4917'), (4918, 'example_4918'), (4919, 'example_4919'), (4920, 'example_4920'), (4921, 'example_4921'), (4922, 'example_4922'), (4923, 'example_4923'), (4924, 'example_4924'), (4925, 'example_4925'), (4926, 'example_4926'), (4927, 'example_4927'), (4928, 'example_4928'), (4929, 'example_4929'), (4930, 'example_4930'), (4931, 'example_4931'), (4932, 'example_4932'), (4933, 'example_4933'), (4934, 'example_4934'), (4935, 'example_4935'), (4936, 'example_4936'), (4937, 'example_4937'), (4938, 'example_4938'), (4939, 'example_4939'), (4940, 'example_4940'), (4941, 'example_4941'), (4942, 'example_4942'), (4943, 'example_4943'), (4944, 'example_4944'), (4945, 'example_4945'), (4946, 'example_4946'), (4947, 'example_4947'), (4948, 'example_4948'), (4949, 'example_4949'), (4950, 'example_4950'), (4951, 'example_4951'), (4952, 'example_4952'), (4953, 'example_4953'), (4954, 'example_4954'), (4955, 'example_4955'), (4956, 'example_4956'), (4957, 'example_4957'), (4958, 'example_4958'), (4959, 'example_4959'), (4960, 'example_4960'), (4961, 'example_4961'), (4962, 'example_4962'), (4963, 'example_4963'), (4964, 'example_4964'), (4965, 'example_4965'), (4966, 'example_4966'), (4967, 'example_4967'), (4968, 'example_4968'), (4969, 'example_4969'), (4970, 'example_4970'), (4971, 'example_4971'), (4972, 'example_4972'), (4973, 'example_4973'), (4974, 'example_4974'), (4975, 'example_4975'), (4976, 'example_4976'), (4977, 'example_4977'), (4978, 'example_4978'), (4979, 'example_4979'), (4980, 'example_4980'), (4981, 'example_4981'), (4982, 'example_4982'), (4983, 'example_4983'), (4984, 'example_4984'), (4985, 'example_4985'), (4986, 'example_4986'), (4987, 'example_4987'), (4988, 'example_4988'), (4989, 'example_4989'), (4990, 'example_4990'), (4991, 'example_4991'), (4992, 'example_4992'), (4993, 'example_4993'), (4994, 'example_4994'), (4995, 'example_4995'), (4996, 'example_4996'), (4997, 'example_4997'), (4998, 'example_4998'), (4999, 'example_4999')]\n"
          ]
        }
      ]
    },
    {
      "cell_type": "code",
      "source": [
        "import hashlib\n",
        "\n",
        "def shuffle_virtual_data(num_examples):\n",
        "    # 定义伪随机函数\n",
        "    def pseudo_random_index(i):\n",
        "        hash_object = hashlib.sha256(str(i).encode())\n",
        "        hash_int = int(hash_object.hexdigest(), 16)\n",
        "        return hash_int % num_examples\n",
        "\n",
        "    virtual_data = [(i, f\"virtual_example_{i}\") for i in range(num_examples)]\n",
        "    shuffled_data = []\n",
        "    for i in range(num_examples):\n",
        "        j = pseudo_random_index(i)\n",
        "        shuffled_data.append(virtual_data[j])\n",
        "    return shuffled_data\n",
        "\n",
        "# 使用示例\n",
        "num_examples = 100\n",
        "shuffled_result = shuffle_virtual_data(num_examples)\n",
        "for element in shuffled_result:\n",
        "    print(element)"
      ],
      "metadata": {
        "id": "-NckHuzUQcpv",
        "outputId": "581ca79a-87fe-49f5-db6b-b884229673ad",
        "colab": {
          "base_uri": "https://localhost:8080/"
        }
      },
      "id": "-NckHuzUQcpv",
      "execution_count": 17,
      "outputs": [
        {
          "output_type": "stream",
          "name": "stdout",
          "text": [
            "(5, 'virtual_example_5')\n",
            "(15, 'virtual_example_15')\n",
            "(61, 'virtual_example_61')\n",
            "(78, 'virtual_example_78')\n",
            "(22, 'virtual_example_22')\n",
            "(53, 'virtual_example_53')\n",
            "(3, 'virtual_example_3')\n",
            "(49, 'virtual_example_49')\n",
            "(59, 'virtual_example_59')\n",
            "(87, 'virtual_example_87')\n",
            "(17, 'virtual_example_17')\n",
            "(48, 'virtual_example_48')\n",
            "(36, 'virtual_example_36')\n",
            "(32, 'virtual_example_32')\n",
            "(65, 'virtual_example_65')\n",
            "(63, 'virtual_example_63')\n",
            "(73, 'virtual_example_73')\n",
            "(31, 'virtual_example_31')\n",
            "(70, 'virtual_example_70')\n",
            "(83, 'virtual_example_83')\n",
            "(23, 'virtual_example_23')\n",
            "(87, 'virtual_example_87')\n",
            "(13, 'virtual_example_13')\n",
            "(48, 'virtual_example_48')\n",
            "(55, 'virtual_example_55')\n",
            "(77, 'virtual_example_77')\n",
            "(2, 'virtual_example_2')\n",
            "(31, 'virtual_example_31')\n",
            "(46, 'virtual_example_46')\n",
            "(4, 'virtual_example_4')\n",
            "(24, 'virtual_example_24')\n",
            "(75, 'virtual_example_75')\n",
            "(27, 'virtual_example_27')\n",
            "(68, 'virtual_example_68')\n",
            "(27, 'virtual_example_27')\n",
            "(47, 'virtual_example_47')\n",
            "(13, 'virtual_example_13')\n",
            "(53, 'virtual_example_53')\n",
            "(32, 'virtual_example_32')\n",
            "(25, 'virtual_example_25')\n",
            "(99, 'virtual_example_99')\n",
            "(25, 'virtual_example_25')\n",
            "(53, 'virtual_example_53')\n",
            "(6, 'virtual_example_6')\n",
            "(74, 'virtual_example_74')\n",
            "(52, 'virtual_example_52')\n",
            "(72, 'virtual_example_72')\n",
            "(87, 'virtual_example_87')\n",
            "(37, 'virtual_example_37')\n",
            "(23, 'virtual_example_23')\n",
            "(91, 'virtual_example_91')\n",
            "(34, 'virtual_example_34')\n",
            "(37, 'virtual_example_37')\n",
            "(9, 'virtual_example_9')\n",
            "(42, 'virtual_example_42')\n",
            "(52, 'virtual_example_52')\n",
            "(94, 'virtual_example_94')\n",
            "(8, 'virtual_example_8')\n",
            "(58, 'virtual_example_58')\n",
            "(64, 'virtual_example_64')\n",
            "(57, 'virtual_example_57')\n",
            "(24, 'virtual_example_24')\n",
            "(2, 'virtual_example_2')\n",
            "(36, 'virtual_example_36')\n",
            "(3, 'virtual_example_3')\n",
            "(47, 'virtual_example_47')\n",
            "(66, 'virtual_example_66')\n",
            "(92, 'virtual_example_92')\n",
            "(47, 'virtual_example_47')\n",
            "(16, 'virtual_example_16')\n",
            "(58, 'virtual_example_58')\n",
            "(52, 'virtual_example_52')\n",
            "(30, 'virtual_example_30')\n",
            "(88, 'virtual_example_88')\n",
            "(50, 'virtual_example_50')\n",
            "(68, 'virtual_example_68')\n",
            "(96, 'virtual_example_96')\n",
            "(11, 'virtual_example_11')\n",
            "(85, 'virtual_example_85')\n",
            "(86, 'virtual_example_86')\n",
            "(56, 'virtual_example_56')\n",
            "(49, 'virtual_example_49')\n",
            "(88, 'virtual_example_88')\n",
            "(1, 'virtual_example_1')\n",
            "(25, 'virtual_example_25')\n",
            "(92, 'virtual_example_92')\n",
            "(66, 'virtual_example_66')\n",
            "(50, 'virtual_example_50')\n",
            "(21, 'virtual_example_21')\n",
            "(2, 'virtual_example_2')\n",
            "(51, 'virtual_example_51')\n",
            "(56, 'virtual_example_56')\n",
            "(9, 'virtual_example_9')\n",
            "(73, 'virtual_example_73')\n",
            "(13, 'virtual_example_13')\n",
            "(72, 'virtual_example_72')\n",
            "(80, 'virtual_example_80')\n",
            "(21, 'virtual_example_21')\n",
            "(3, 'virtual_example_3')\n",
            "(89, 'virtual_example_89')\n"
          ]
        }
      ]
    },
    {
      "cell_type": "code",
      "source": [
        "#第三题\n",
        "import numpy as np\n",
        "\n",
        "def data_generator():\n",
        "    while True:\n",
        "        # 模拟生成3通道、尺寸为32x32的图像数据\n",
        "        image_data = np.random.randint(0, 256, size=(32, 32, 3), dtype=np.uint8)\n",
        "        yield image_data\n",
        "\n",
        "# 使用示例\n",
        "gen = data_generator()\n",
        "for _ in range(3):\n",
        "    new_image = next(gen)\n",
        "    print(new_image.shape)"
      ],
      "metadata": {
        "id": "jotKeDyCQcnf",
        "outputId": "e3554f5a-58e9-400d-99ac-94a291671a15",
        "colab": {
          "base_uri": "https://localhost:8080/"
        }
      },
      "id": "jotKeDyCQcnf",
      "execution_count": 14,
      "outputs": [
        {
          "output_type": "stream",
          "name": "stdout",
          "text": [
            "(32, 32, 3)\n",
            "(32, 32, 3)\n",
            "(32, 32, 3)\n"
          ]
        }
      ]
    },
    {
      "cell_type": "code",
      "source": [
        "#第四题\n",
        "import numpy as np\n",
        "\n",
        "def fixed_random_data_generator():\n",
        "    np.random.seed(42)  # 固定随机种子\n",
        "    fixed_data = np.random.rand(5)  # 生成固定的随机数据\n",
        "    while True:\n",
        "        yield fixed_data\n",
        "\n",
        "# 使用示例\n",
        "gen = fixed_random_data_generator()\n",
        "for _ in range(3):\n",
        "    same_data = next(gen)\n",
        "    print(same_data)"
      ],
      "metadata": {
        "id": "2MgqkEtHQceR",
        "outputId": "fc0cf672-983f-4ab6-9e42-056eca94c41c",
        "colab": {
          "base_uri": "https://localhost:8080/"
        }
      },
      "id": "2MgqkEtHQceR",
      "execution_count": 15,
      "outputs": [
        {
          "output_type": "stream",
          "name": "stdout",
          "text": [
            "[0.37454012 0.95071431 0.73199394 0.59865848 0.15601864]\n",
            "[0.37454012 0.95071431 0.73199394 0.59865848 0.15601864]\n",
            "[0.37454012 0.95071431 0.73199394 0.59865848 0.15601864]\n"
          ]
        }
      ]
    }
  ],
  "metadata": {
    "kernelspec": {
      "display_name": "Python 3",
      "name": "python3"
    },
    "language_info": {
      "name": "python"
    },
    "required_libs": [],
    "colab": {
      "provenance": []
    }
  },
  "nbformat": 4,
  "nbformat_minor": 5
}